{
 "cells": [
  {
   "cell_type": "code",
   "execution_count": null,
   "metadata": {},
   "outputs": [],
   "source": [
    "using DataFrames\n",
    "using CSV"
   ]
  },
  {
   "cell_type": "markdown",
   "metadata": {},
   "source": [
    "# Activate environment"
   ]
  },
  {
   "cell_type": "markdown",
   "metadata": {},
   "source": [
    "Typically this happens by\n",
    "\n",
    "```\n",
    "using Pkg\n",
    "Pkg.activate(\"addm\")\n",
    "```\n",
    "\n",
    "**Note that single vs. double quotes matter.**\n",
    "\n",
    "But this does not work as expected in a notebook unless the `Project.toml` is in the same folder as the notebook file."
   ]
  },
  {
   "cell_type": "code",
   "execution_count": 200,
   "metadata": {},
   "outputs": [
    {
     "data": {
      "text/plain": [
       "\"/Users/brenden/Toolboxes/ADDM.jl/docs/src\""
      ]
     },
     "execution_count": 200,
     "metadata": {},
     "output_type": "execute_result"
    }
   ],
   "source": [
    "pwd()"
   ]
  },
  {
   "cell_type": "markdown",
   "metadata": {},
   "source": [
    "Above is the directory where the notebook is located and below is the search path for packages before activating the `addm` environment."
   ]
  },
  {
   "cell_type": "code",
   "execution_count": 201,
   "metadata": {},
   "outputs": [
    {
     "data": {
      "text/plain": [
       "3-element Vector{String}:\n",
       " \"/Users/brenden/Toolboxes/ADDM.jl/docs/src/addm/Project.toml\"\n",
       " \"/Users/brenden/.julia/environments/v1.9/Project.toml\"\n",
       " \"/opt/homebrew/Cellar/julia/1.9.3/share/julia/stdlib/v1.9\""
      ]
     },
     "execution_count": 201,
     "metadata": {},
     "output_type": "execute_result"
    }
   ],
   "source": [
    "Base.load_path()"
   ]
  },
  {
   "cell_type": "markdown",
   "metadata": {},
   "source": [
    "To be safe I currently have the environment activation in each script but this should be cleaned up at some point."
   ]
  },
  {
   "cell_type": "code",
   "execution_count": 202,
   "metadata": {},
   "outputs": [
    {
     "name": "stderr",
     "output_type": "stream",
     "text": [
      "\u001b[32m\u001b[1m  Activating\u001b[22m\u001b[39m project at `~/Toolboxes/ADDM.jl/docs/src/addm`\n",
      "\u001b[32m\u001b[1m  Activating\u001b[22m\u001b[39m project at `~/Toolboxes/ADDM.jl/docs/src/addm`\n",
      "\u001b[32m\u001b[1m  Activating\u001b[22m\u001b[39m project at `~/Toolboxes/ADDM.jl/docs/src/addm`\n",
      "\u001b[32m\u001b[1m  Activating\u001b[22m\u001b[39m project at `~/Toolboxes/ADDM.jl/docs/src/addm`\n",
      "\u001b[32m\u001b[1m  Activating\u001b[22m\u001b[39m project at `~/Toolboxes/ADDM.jl/docs/src/addm`\n",
      "\u001b[32m\u001b[1m  Activating\u001b[22m\u001b[39m project at `~/Toolboxes/ADDM.jl/docs/src/addm`\n"
     ]
    },
    {
     "data": {
      "text/plain": [
       "aDDM_grid_search (generic function with 2 methods)"
      ]
     },
     "execution_count": 202,
     "metadata": {},
     "output_type": "execute_result"
    }
   ],
   "source": [
    "include(\"../../src/addm_grid_search.jl\")"
   ]
  },
  {
   "cell_type": "markdown",
   "metadata": {},
   "source": [
    "Package search path after environment activation."
   ]
  },
  {
   "cell_type": "code",
   "execution_count": 203,
   "metadata": {},
   "outputs": [
    {
     "data": {
      "text/plain": [
       "3-element Vector{String}:\n",
       " \"/Users/brenden/Toolboxes/ADDM.jl/docs/src/addm/Project.toml\"\n",
       " \"/Users/brenden/.julia/environments/v1.9/Project.toml\"\n",
       " \"/opt/homebrew/Cellar/julia/1.9.3/share/julia/stdlib/v1.9\""
      ]
     },
     "execution_count": 203,
     "metadata": {},
     "output_type": "execute_result"
    }
   ],
   "source": [
    "Base.load_path()"
   ]
  },
  {
   "cell_type": "markdown",
   "metadata": {},
   "source": [
    "# Initial grid for both gains and losses"
   ]
  },
  {
   "cell_type": "code",
   "execution_count": 204,
   "metadata": {},
   "outputs": [
    {
     "name": "stdout",
     "output_type": "stream",
     "text": [
      "[0.0, 0.0005, 0.001, 0.0015, 0.002, 0.0025, 0.003, 0.0035, 0.004, 0.0045, 0.005, 0.0055, 0.006]\n",
      "[0.01, 0.02, 0.03, 0.04, 0.05, 0.06, 0.07, 0.08, 0.09, 0.1]\n",
      "[0.0, 0.1, 0.2, 0.3, 0.4, 0.5, 0.6, 0.7, 0.8, 0.9, 1.0, 1.1, 1.2, 1.3, 1.4, 1.5, 1.6, 1.7, 1.8, 1.9, 2.0]\n"
     ]
    }
   ],
   "source": [
    "dLow = .000;\n",
    "dHigh = .006;\n",
    "σLow = .01;\n",
    "σHigh = .10;\n",
    "θLow = 0;\n",
    "θHigh = 2;\n",
    "n = 1;\n",
    "\n",
    "dList = round.(LinRange(dLow, dHigh, 13), digits=4);\n",
    "σList = round.(LinRange(σLow, σHigh, 10), digits=2);\n",
    "θList = round.(LinRange(θLow, θHigh, 21), digits=2);\n",
    "\n",
    "println(collect(dList))\n",
    "println(collect(σList))\n",
    "println(collect(θList))"
   ]
  },
  {
   "cell_type": "markdown",
   "metadata": {},
   "source": [
    "# Fit aDDM to Gain data"
   ]
  },
  {
   "cell_type": "code",
   "execution_count": 205,
   "metadata": {},
   "outputs": [],
   "source": [
    "dInit = 0.005; # These can be anything. They exist because you need an aDDM object.\n",
    "σInit = 0.07;\n",
    "θInit = 0.3;\n",
    "\n",
    "addm = aDDM(dInit, σInit, θInit);\n",
    "\n",
    "dataGain = load_data_from_csv(\"../../data/expdataGain.csv\", \"../../data/fixationsGain.csv\", convertItemValues=nothing);\n",
    "#fixationDataGain = get_empirical_distributions(dataGain, fixDistType=\"simple\");"
   ]
  },
  {
   "cell_type": "code",
   "execution_count": 206,
   "metadata": {},
   "outputs": [
    {
     "name": "stdout",
     "output_type": "stream",
     "text": [
      "215\n",
      "d: [0.0025]\n",
      "σ: [0.05]\n",
      "θ: [0.8]\n"
     ]
    },
    {
     "name": "stderr",
     "output_type": "stream",
     "text": [
      "\u001b[32mProgress:   8%|███▎                                     |  ETA: 1:01:17\u001b[39m"
     ]
    },
    {
     "name": "stdout",
     "output_type": "stream",
     "text": [
      "229\n",
      "d: [0.003]\n",
      "σ: [0.05]\n",
      "θ: [0.7]\n"
     ]
    },
    {
     "name": "stderr",
     "output_type": "stream",
     "text": [
      "\u001b[32mProgress:  12%|████▉                                    |  ETA: 1:03:00\u001b[39m"
     ]
    },
    {
     "name": "stdout",
     "output_type": "stream",
     "text": [
      "217\n",
      "d: [0.0015]\n",
      "σ: [0.05]\n",
      "θ: [0.8]\n"
     ]
    },
    {
     "name": "stderr",
     "output_type": "stream",
     "text": [
      "\u001b[32mProgress:  16%|██████▌                                  |  ETA: 0:58:05\u001b[39m"
     ]
    },
    {
     "name": "stdout",
     "output_type": "stream",
     "text": [
      "204\n",
      "d: [0.0025]\n",
      "σ: [0.05]\n",
      "θ: [0.8]\n"
     ]
    },
    {
     "name": "stderr",
     "output_type": "stream",
     "text": [
      "\u001b[32mProgress:  20%|████████▎                                |  ETA: 0:53:36\u001b[39m"
     ]
    },
    {
     "name": "stdout",
     "output_type": "stream",
     "text": [
      "220\n",
      "d: [0.003]\n",
      "σ: [0.05]\n",
      "θ: [0.8]\n"
     ]
    },
    {
     "name": "stderr",
     "output_type": "stream",
     "text": [
      "\u001b[32mProgress:  24%|█████████▉                               |  ETA: 1:28:41\u001b[39m"
     ]
    },
    {
     "name": "stdout",
     "output_type": "stream",
     "text": [
      "219\n",
      "d: [0.002]\n",
      "σ: [0.05]\n",
      "θ: [0.9]\n"
     ]
    },
    {
     "name": "stderr",
     "output_type": "stream",
     "text": [
      "\u001b[32mProgress:  28%|███████████▌                             |  ETA: 1:17:46\u001b[39m"
     ]
    },
    {
     "name": "stdout",
     "output_type": "stream",
     "text": [
      "216\n",
      "d: [0.0045]\n",
      "σ: [0.05]\n",
      "θ: [0.7]\n"
     ]
    },
    {
     "name": "stderr",
     "output_type": "stream",
     "text": [
      "\u001b[32mProgress:  32%|█████████████▏                           |  ETA: 1:10:09\u001b[39m"
     ]
    },
    {
     "name": "stdout",
     "output_type": "stream",
     "text": [
      "211\n",
      "d: [0.0025]\n",
      "σ: [0.04]\n",
      "θ: [0.8]\n"
     ]
    },
    {
     "name": "stderr",
     "output_type": "stream",
     "text": [
      "\u001b[32mProgress:  36%|██████████████▊                          |  ETA: 1:03:50\u001b[39m"
     ]
    },
    {
     "name": "stdout",
     "output_type": "stream",
     "text": [
      "209\n",
      "d: [0.0015]\n",
      "σ: [0.05]\n",
      "θ: [0.9]\n"
     ]
    },
    {
     "name": "stderr",
     "output_type": "stream",
     "text": [
      "\u001b[32mProgress:  40%|████████████████▍                        |  ETA: 0:56:08\u001b[39m"
     ]
    },
    {
     "name": "stdout",
     "output_type": "stream",
     "text": [
      "206\n",
      "d: [0.004]\n",
      "σ: [0.06]\n",
      "θ: [0.8]\n"
     ]
    },
    {
     "name": "stderr",
     "output_type": "stream",
     "text": [
      "\u001b[32mProgress:  44%|██████████████████                       |  ETA: 0:49:19\u001b[39m"
     ]
    },
    {
     "name": "stdout",
     "output_type": "stream",
     "text": [
      "225\n",
      "d: [0.004]\n",
      "σ: [0.06]\n",
      "θ: [0.9]\n"
     ]
    },
    {
     "name": "stderr",
     "output_type": "stream",
     "text": [
      "\u001b[32mProgress:  48%|███████████████████▋                     |  ETA: 0:44:06\u001b[39m"
     ]
    },
    {
     "name": "stdout",
     "output_type": "stream",
     "text": [
      "205\n",
      "d: [0.002]\n",
      "σ: [0.06]\n",
      "θ: [0.5]\n"
     ]
    },
    {
     "name": "stderr",
     "output_type": "stream",
     "text": [
      "\u001b[32mProgress:  52%|█████████████████████▍                   |  ETA: 0:39:37\u001b[39m"
     ]
    },
    {
     "name": "stdout",
     "output_type": "stream",
     "text": [
      "201\n",
      "d: [0.0025]\n",
      "σ: [0.05]\n",
      "θ: [0.6]\n"
     ]
    },
    {
     "name": "stderr",
     "output_type": "stream",
     "text": [
      "\u001b[32mProgress:  56%|███████████████████████                  |  ETA: 0:35:22\u001b[39m"
     ]
    },
    {
     "name": "stdout",
     "output_type": "stream",
     "text": [
      "227\n",
      "d: [0.003]\n",
      "σ: [0.05]\n",
      "θ: [0.5]\n"
     ]
    },
    {
     "name": "stderr",
     "output_type": "stream",
     "text": [
      "\u001b[32mProgress:  60%|████████████████████████▋                |  ETA: 0:31:54\u001b[39m"
     ]
    },
    {
     "name": "stdout",
     "output_type": "stream",
     "text": [
      "223\n",
      "d: [0.0025]\n",
      "σ: [0.05]\n",
      "θ: [0.8]\n"
     ]
    },
    {
     "name": "stderr",
     "output_type": "stream",
     "text": [
      "\u001b[32mProgress:  64%|██████████████████████████▎              |  ETA: 0:28:57\u001b[39m"
     ]
    },
    {
     "name": "stdout",
     "output_type": "stream",
     "text": [
      "231\n",
      "d: [0.0015]\n",
      "σ: [0.05]\n",
      "θ: [0.8]\n"
     ]
    },
    {
     "name": "stderr",
     "output_type": "stream",
     "text": [
      "\u001b[32mProgress:  68%|███████████████████████████▉             |  ETA: 0:24:51\u001b[39m"
     ]
    },
    {
     "name": "stdout",
     "output_type": "stream",
     "text": [
      "213\n",
      "d: [0.003]\n",
      "σ: [0.09]\n",
      "θ: [0.4]\n"
     ]
    },
    {
     "name": "stderr",
     "output_type": "stream",
     "text": [
      "\u001b[32mProgress:  72%|█████████████████████████████▌           |  ETA: 0:21:42\u001b[39m"
     ]
    },
    {
     "name": "stdout",
     "output_type": "stream",
     "text": [
      "222\n",
      "d: [0.0025]\n",
      "σ: [0.04]\n",
      "θ: [0.9]\n"
     ]
    },
    {
     "name": "stderr",
     "output_type": "stream",
     "text": [
      "\u001b[32mProgress:  76%|███████████████████████████████▏         |  ETA: 0:18:03\u001b[39m"
     ]
    },
    {
     "name": "stdout",
     "output_type": "stream",
     "text": [
      "208\n",
      "d: [0.0045]\n",
      "σ: [0.07]\n",
      "θ: [0.9]\n"
     ]
    },
    {
     "name": "stderr",
     "output_type": "stream",
     "text": [
      "\u001b[32mProgress:  80%|████████████████████████████████▊        |  ETA: 0:15:03\u001b[39m"
     ]
    },
    {
     "name": "stdout",
     "output_type": "stream",
     "text": [
      "214\n",
      "d: [0.002]\n",
      "σ: [0.05]\n",
      "θ: [0.6]\n"
     ]
    },
    {
     "name": "stderr",
     "output_type": "stream",
     "text": [
      "\u001b[32mProgress:  84%|██████████████████████████████████▌      |  ETA: 0:12:10\u001b[39m"
     ]
    },
    {
     "name": "stdout",
     "output_type": "stream",
     "text": [
      "207\n",
      "d: [0.0015]\n",
      "σ: [0.05]\n",
      "θ: [0.6]\n"
     ]
    },
    {
     "name": "stderr",
     "output_type": "stream",
     "text": [
      "\u001b[32mProgress:  88%|████████████████████████████████████▏    |  ETA: 0:09:06\u001b[39m"
     ]
    },
    {
     "name": "stdout",
     "output_type": "stream",
     "text": [
      "202\n",
      "d: [0.003]\n",
      "σ: [0.04]\n",
      "θ: [0.6]\n"
     ]
    },
    {
     "name": "stderr",
     "output_type": "stream",
     "text": [
      "\u001b[32mProgress:  92%|█████████████████████████████████████▊   |  ETA: 0:06:01\u001b[39m"
     ]
    },
    {
     "name": "stdout",
     "output_type": "stream",
     "text": [
      "224\n",
      "d: [0.002]\n",
      "σ: [0.05]\n",
      "θ: [0.0]\n"
     ]
    },
    {
     "name": "stderr",
     "output_type": "stream",
     "text": [
      "\u001b[32mProgress:  96%|███████████████████████████████████████▍ |  ETA: 0:03:01\u001b[39m"
     ]
    },
    {
     "name": "stdout",
     "output_type": "stream",
     "text": [
      "230\n",
      "d: [0.0015]\n",
      "σ: [0.05]\n",
      "θ: [0.8]\n"
     ]
    },
    {
     "name": "stderr",
     "output_type": "stream",
     "text": [
      "\u001b[32mProgress: 100%|█████████████████████████████████████████| Time: 1:14:28\u001b[39m\n"
     ]
    },
    {
     "name": "stdout",
     "output_type": "stream",
     "text": [
      "232\n",
      "d: [0.0035]\n",
      "σ: [0.07]\n",
      "θ: [0.6]\n"
     ]
    }
   ],
   "source": [
    "subjectCount = length(collect(keys(data)));\n",
    "dGain = Vector{Float64}(undef, subjectCount)\n",
    "σGain = Vector{Float64}(undef, subjectCount)\n",
    "θGain = Vector{Float64}(undef, subjectCount)\n",
    "ind = 1\n",
    "\n",
    "@showprogress for subject in collect(keys(data))\n",
    "\n",
    "  dEst, σEst, θEst = aDDM_grid_search(addm, dataGain, dList, σList, θList, n, subject)\n",
    "\n",
    "  println(subject)\n",
    "  println(\"d: \", dEst)\n",
    "  println(\"σ: \", σEst)\n",
    "  println(\"θ: \", θEst)\n",
    "\n",
    "  dGain[ind] = dEst[1]\n",
    "  σGain[ind] = σEst[1]\n",
    "  θGain[ind] = θEst[1]\n",
    "  ind += 1\n",
    "\n",
    "end"
   ]
  },
  {
   "cell_type": "code",
   "execution_count": 213,
   "metadata": {},
   "outputs": [
    {
     "data": {
      "text/plain": [
       "\"GainFit.csv\""
      ]
     },
     "execution_count": 213,
     "metadata": {},
     "output_type": "execute_result"
    }
   ],
   "source": [
    "df = DataFrame(\n",
    "  subject = collect(keys(data)),\n",
    "  d = dGain,\n",
    "  s = σGain,\n",
    "  t = θGain\n",
    ")\n",
    "CSV.write(\"GainFit.csv\", df)"
   ]
  },
  {
   "cell_type": "markdown",
   "metadata": {},
   "source": [
    "# Fit aDDM to Loss data"
   ]
  },
  {
   "cell_type": "code",
   "execution_count": 207,
   "metadata": {},
   "outputs": [],
   "source": [
    "dInit = 0.005;\n",
    "σInit = 0.07;\n",
    "θInit = 0.3;\n",
    "\n",
    "addm = aDDM(dInit, σInit, θInit);\n",
    "\n",
    "dataLoss = load_data_from_csv(\"../../data/expdataLoss.csv\", \"../../data/fixationsLoss.csv\", convertItemValues=nothing);\n",
    "#fixationDataLoss = get_empirical_distributions(dataLoss, fixDistType=\"simple\");"
   ]
  },
  {
   "cell_type": "code",
   "execution_count": 208,
   "metadata": {},
   "outputs": [
    {
     "name": "stdout",
     "output_type": "stream",
     "text": [
      "215\n",
      "d: [0.001]\n",
      "σ: [0.05]\n",
      "θ: [1.2]\n"
     ]
    },
    {
     "name": "stderr",
     "output_type": "stream",
     "text": [
      "\u001b[32mProgress:   8%|███▎                                     |  ETA: 4:58:38\u001b[39m"
     ]
    },
    {
     "name": "stdout",
     "output_type": "stream",
     "text": [
      "229\n",
      "d: [0.001]\n",
      "σ: [0.05]\n",
      "θ: [1.1]\n"
     ]
    },
    {
     "name": "stderr",
     "output_type": "stream",
     "text": [
      "\u001b[32mProgress:  12%|████▉                                    |  ETA: 3:43:36\u001b[39m"
     ]
    },
    {
     "name": "stdout",
     "output_type": "stream",
     "text": [
      "217\n",
      "d: [0.0015]\n",
      "σ: [0.04]\n",
      "θ: [0.9]\n"
     ]
    },
    {
     "name": "stderr",
     "output_type": "stream",
     "text": [
      "\u001b[32mProgress:  16%|██████▌                                  |  ETA: 2:55:36\u001b[39m"
     ]
    },
    {
     "name": "stdout",
     "output_type": "stream",
     "text": [
      "204\n",
      "d: [0.002]\n",
      "σ: [0.05]\n",
      "θ: [1.1]\n"
     ]
    },
    {
     "name": "stderr",
     "output_type": "stream",
     "text": [
      "\u001b[32mProgress:  20%|████████▎                                |  ETA: 2:23:46\u001b[39m"
     ]
    },
    {
     "name": "stdout",
     "output_type": "stream",
     "text": [
      "220\n",
      "d: [0.0015]\n",
      "σ: [0.06]\n",
      "θ: [1.5]\n"
     ]
    },
    {
     "name": "stderr",
     "output_type": "stream",
     "text": [
      "\u001b[32mProgress:  24%|█████████▉                               |  ETA: 2:00:16\u001b[39m"
     ]
    },
    {
     "name": "stdout",
     "output_type": "stream",
     "text": [
      "219\n",
      "d: [0.002]\n",
      "σ: [0.05]\n",
      "θ: [1.6]\n"
     ]
    },
    {
     "name": "stderr",
     "output_type": "stream",
     "text": [
      "\u001b[32mProgress:  28%|███████████▌                             |  ETA: 1:42:27\u001b[39m"
     ]
    },
    {
     "name": "stdout",
     "output_type": "stream",
     "text": [
      "216\n",
      "d: [0.003]\n",
      "σ: [0.06]\n",
      "θ: [1.2]\n"
     ]
    },
    {
     "name": "stderr",
     "output_type": "stream",
     "text": [
      "\u001b[32mProgress:  32%|█████████████▏                           |  ETA: 1:31:41\u001b[39m"
     ]
    },
    {
     "name": "stdout",
     "output_type": "stream",
     "text": [
      "211\n",
      "d: [0.0015]\n",
      "σ: [0.04]\n",
      "θ: [1.5]\n"
     ]
    },
    {
     "name": "stderr",
     "output_type": "stream",
     "text": [
      "\u001b[32mProgress:  36%|██████████████▊                          |  ETA: 1:24:05\u001b[39m"
     ]
    },
    {
     "name": "stdout",
     "output_type": "stream",
     "text": [
      "209\n",
      "d: [0.001]\n",
      "σ: [0.04]\n",
      "θ: [1.9]\n"
     ]
    },
    {
     "name": "stderr",
     "output_type": "stream",
     "text": [
      "\u001b[32mProgress:  40%|████████████████▍                        |  ETA: 1:14:18\u001b[39m"
     ]
    },
    {
     "name": "stdout",
     "output_type": "stream",
     "text": [
      "206\n",
      "d: [0.0025]\n",
      "σ: [0.05]\n",
      "θ: [1.1]\n"
     ]
    },
    {
     "name": "stderr",
     "output_type": "stream",
     "text": [
      "\u001b[32mProgress:  44%|██████████████████                       |  ETA: 1:05:04\u001b[39m"
     ]
    },
    {
     "name": "stdout",
     "output_type": "stream",
     "text": [
      "225\n",
      "d: [0.003]\n",
      "σ: [0.05]\n",
      "θ: [1.2]\n"
     ]
    },
    {
     "name": "stderr",
     "output_type": "stream",
     "text": [
      "\u001b[32mProgress:  48%|███████████████████▋                     |  ETA: 0:57:38\u001b[39m"
     ]
    },
    {
     "name": "stdout",
     "output_type": "stream",
     "text": [
      "205\n",
      "d: [0.0]\n",
      "σ: [0.07]\n",
      "θ: [0.0]\n"
     ]
    },
    {
     "name": "stderr",
     "output_type": "stream",
     "text": [
      "\u001b[32mProgress:  52%|█████████████████████▍                   |  ETA: 1:16:00\u001b[39m"
     ]
    },
    {
     "name": "stdout",
     "output_type": "stream",
     "text": [
      "201\n",
      "d: [0.001]\n",
      "σ: [0.05]\n",
      "θ: [1.7]\n"
     ]
    },
    {
     "name": "stderr",
     "output_type": "stream",
     "text": [
      "\u001b[32mProgress:  56%|███████████████████████                  |  ETA: 1:07:29\u001b[39m"
     ]
    },
    {
     "name": "stdout",
     "output_type": "stream",
     "text": [
      "227\n",
      "d: [0.002]\n",
      "σ: [0.04]\n",
      "θ: [0.9]\n"
     ]
    },
    {
     "name": "stderr",
     "output_type": "stream",
     "text": [
      "\u001b[32mProgress:  60%|████████████████████████▋                |  ETA: 0:59:16\u001b[39m"
     ]
    },
    {
     "name": "stdout",
     "output_type": "stream",
     "text": [
      "223\n",
      "d: [0.0015]\n",
      "σ: [0.05]\n",
      "θ: [1.1]\n"
     ]
    },
    {
     "name": "stderr",
     "output_type": "stream",
     "text": [
      "\u001b[32mProgress:  64%|██████████████████████████▎              |  ETA: 0:52:56\u001b[39m"
     ]
    },
    {
     "name": "stdout",
     "output_type": "stream",
     "text": [
      "231\n",
      "d: [0.0005]\n",
      "σ: [0.04]\n",
      "θ: [2.0]\n"
     ]
    },
    {
     "name": "stderr",
     "output_type": "stream",
     "text": [
      "\u001b[32mProgress:  68%|███████████████████████████▉             |  ETA: 0:45:04\u001b[39m"
     ]
    },
    {
     "name": "stdout",
     "output_type": "stream",
     "text": [
      "213\n",
      "d: [0.0025]\n",
      "σ: [0.07]\n",
      "θ: [1.4]\n"
     ]
    },
    {
     "name": "stderr",
     "output_type": "stream",
     "text": [
      "\u001b[32mProgress:  72%|█████████████████████████████▌           |  ETA: 0:38:40\u001b[39m"
     ]
    },
    {
     "name": "stdout",
     "output_type": "stream",
     "text": [
      "222\n",
      "d: [0.001]\n",
      "σ: [0.05]\n",
      "θ: [1.1]\n"
     ]
    },
    {
     "name": "stderr",
     "output_type": "stream",
     "text": [
      "\u001b[32mProgress:  76%|███████████████████████████████▏         |  ETA: 0:31:51\u001b[39m"
     ]
    },
    {
     "name": "stdout",
     "output_type": "stream",
     "text": [
      "208\n",
      "d: [0.002]\n",
      "σ: [0.07]\n",
      "θ: [2.0]\n"
     ]
    },
    {
     "name": "stderr",
     "output_type": "stream",
     "text": [
      "\u001b[32mProgress:  80%|████████████████████████████████▊        |  ETA: 0:26:02\u001b[39m"
     ]
    },
    {
     "name": "stdout",
     "output_type": "stream",
     "text": [
      "214\n",
      "d: [0.0]\n",
      "σ: [0.06]\n",
      "θ: [0.0]\n"
     ]
    },
    {
     "name": "stderr",
     "output_type": "stream",
     "text": [
      "\u001b[32mProgress:  84%|██████████████████████████████████▌      |  ETA: 0:20:34\u001b[39m"
     ]
    },
    {
     "name": "stdout",
     "output_type": "stream",
     "text": [
      "207\n",
      "d: [0.001]\n",
      "σ: [0.05]\n",
      "θ: [0.9]\n"
     ]
    },
    {
     "name": "stderr",
     "output_type": "stream",
     "text": [
      "\u001b[32mProgress:  88%|████████████████████████████████████▏    |  ETA: 0:15:09\u001b[39m"
     ]
    },
    {
     "name": "stdout",
     "output_type": "stream",
     "text": [
      "202\n",
      "d: [0.002]\n",
      "σ: [0.04]\n",
      "θ: [1.4]\n"
     ]
    },
    {
     "name": "stderr",
     "output_type": "stream",
     "text": [
      "\u001b[32mProgress:  92%|█████████████████████████████████████▊   |  ETA: 0:11:15\u001b[39m"
     ]
    },
    {
     "name": "stdout",
     "output_type": "stream",
     "text": [
      "224\n",
      "d: [0.0025]\n",
      "σ: [0.06]\n",
      "θ: [1.1]\n"
     ]
    },
    {
     "name": "stderr",
     "output_type": "stream",
     "text": [
      "\u001b[32mProgress:  96%|███████████████████████████████████████▍ |  ETA: 0:08:12\u001b[39m"
     ]
    },
    {
     "name": "stdout",
     "output_type": "stream",
     "text": [
      "230\n",
      "d: [0.0005]\n",
      "σ: [0.05]\n",
      "θ: [2.0]\n"
     ]
    },
    {
     "name": "stderr",
     "output_type": "stream",
     "text": [
      "\u001b[32mProgress: 100%|█████████████████████████████████████████| Time: 3:51:09\u001b[39m\n"
     ]
    },
    {
     "name": "stdout",
     "output_type": "stream",
     "text": [
      "232\n",
      "d: [0.0025]\n",
      "σ: [0.06]\n",
      "θ: [1.6]\n"
     ]
    }
   ],
   "source": [
    "subjectCount = length(collect(keys(data)));\n",
    "dLoss = Vector{Float64}(undef, subjectCount)\n",
    "σLoss = Vector{Float64}(undef, subjectCount)\n",
    "θLoss = Vector{Float64}(undef, subjectCount)\n",
    "ind = 1\n",
    "\n",
    "@showprogress for subject in collect(keys(data))\n",
    "\n",
    "  dEst, σEst, θEst = aDDM_grid_search(addm, dataLoss, dList, σList, θList, n, subject)\n",
    "\n",
    "  println(subject)\n",
    "  println(\"d: \", dEst)\n",
    "  println(\"σ: \", σEst)\n",
    "  println(\"θ: \", θEst)\n",
    "\n",
    "  dLoss[ind] = dEst[1]\n",
    "  σLoss[ind] = σEst[1]\n",
    "  θLoss[ind] = θEst[1]\n",
    "  ind += 1\n",
    "\n",
    "end"
   ]
  },
  {
   "cell_type": "code",
   "execution_count": 214,
   "metadata": {},
   "outputs": [
    {
     "data": {
      "text/plain": [
       "\"LossFit.csv\""
      ]
     },
     "execution_count": 214,
     "metadata": {},
     "output_type": "execute_result"
    }
   ],
   "source": [
    "df = DataFrame(\n",
    "  subject = collect(keys(data)),\n",
    "  d = dLoss,\n",
    "  s = σLoss,\n",
    "  t = θLoss\n",
    ")\n",
    "CSV.write(\"LossFit.csv\", df)"
   ]
  }
 ],
 "metadata": {
  "kernelspec": {
   "display_name": "Julia 1.9.3",
   "language": "julia",
   "name": "julia-1.9"
  },
  "language_info": {
   "file_extension": ".jl",
   "mimetype": "application/julia",
   "name": "julia",
   "version": "1.9.3"
  },
  "orig_nbformat": 4
 },
 "nbformat": 4,
 "nbformat_minor": 2
}
