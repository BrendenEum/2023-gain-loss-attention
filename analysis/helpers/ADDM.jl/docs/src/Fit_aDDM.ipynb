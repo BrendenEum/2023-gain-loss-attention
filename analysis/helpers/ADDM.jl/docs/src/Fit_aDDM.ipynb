{
 "cells": [
  {
   "cell_type": "markdown",
   "metadata": {},
   "source": [
    "# Estimating the aDDM\n",
    "\n",
    "Author: Brenden Eum (2023)\n",
    "\n",
    "This script will read already-transformed data containing trial-by-trial details and fixations and fit the aDDM to this data. It uses the Tavares Toolbox (Tavares et al. 2017) rewritten for Julia by Lynn in Summer 2023. See https://github.com/aDDM-Toolbox/ADDM.jl for the toolbox. \n",
    "\n",
    "I've made a changes to the toolbox in order to suit my project. Some of these are small changes, like changing object types, saving outputs to csv files, or changing the grid for grid search. I don't document small changes since they'll probably change over multiple iterations. I do document major changes to the toolbox: (1) The toolbox now fits the model to the output of load_data_from_csv instead of simulating data; (2) The toolbox no longer throws a domain error when $\\theta \\notin [0,1]$.\n",
    "\n",
    "Inputs for this notebook:\n",
    "- Data\n",
    "    - data/expdata*.csv:    Data pertaining to the details of each trial. An observation is a subject-trial. It must include the following columns [parcode,trial,rt,choice,item_left,item_right], which correspond to [subject, trial, response time in ms, choice (-1 left, 1 right), value of left item, value of right item] respectively.\n",
    "    - data/fixations*.csv:  Data pertaining to the fixations within each trial. An observation is a subject-trial-fixation. It must include columns [parcode,trial,fix_item,fix_time], which correspond to [subject, trial, fixation location (1 left, 2 right, otherwise other), fixation duration in ms].\n",
    "- Code\n",
    "    - src/ addm_grid_search.jl: Takes a grid of parameters, makes every combination, and calculates negative log likelihood (NLL) of aDDM for every combo given some data.\n",
    "    - addm.jl: Defines aDDM class and functions for calculating trial likelihood, summing likelihoods, and simulating.\n",
    "    - ddm.jl: Defines DDM class and functions for calculating trial likelihood, summing likelihoods, and simulating.\n",
    "    - util.jl: Contains functions for prepping data for aDDM fitting and estimating empirical fixation properties.\n",
    "\n",
    "\n",
    "Outputs for this notebook:\n",
    "- GainFit.csv:  aDDM estimates for the gain condition. Estimates are for subjects included in the input datasets.\n",
    "- LossFit.csv:  aDDM estimates for the loss condition."
   ]
  },
  {
   "cell_type": "markdown",
   "metadata": {},
   "source": [
    "# Activate the Environment\n",
    "\n",
    "Typically this happens by\n",
    "\n",
    "```\n",
    "using Pkg\n",
    "Pkg.activate(\"addm\")\n",
    "```\n",
    "\n",
    "**Note that single vs. double quotes matter.**\n",
    "\n",
    "But this does not work as expected in a notebook unless the `Project.toml` is in the same folder as the notebook file."
   ]
  },
  {
   "cell_type": "code",
   "execution_count": 1,
   "metadata": {},
   "outputs": [
    {
     "name": "stderr",
     "output_type": "stream",
     "text": [
      "\u001b[32m\u001b[1m  Activating\u001b[22m\u001b[39m project at `~/Toolboxes/ADDM.jl/docs/src/addm`\n"
     ]
    },
    {
     "name": "stderr",
     "output_type": "stream",
     "text": [
      "\u001b[32m\u001b[1m  Activating\u001b[22m\u001b[39m project at `~/Toolboxes/ADDM.jl/docs/src/addm`\n"
     ]
    },
    {
     "name": "stderr",
     "output_type": "stream",
     "text": [
      "\u001b[32m\u001b[1m  Activating\u001b[22m\u001b[39m project at `~/Toolboxes/ADDM.jl/docs/src/addm`\n"
     ]
    },
    {
     "name": "stderr",
     "output_type": "stream",
     "text": [
      "\u001b[32m\u001b[1m  Activating\u001b[22m\u001b[39m project at `~/Toolboxes/ADDM.jl/docs/src/addm`\n",
      "\u001b[32m\u001b[1m  Activating\u001b[22m\u001b[39m project at `~/Toolboxes/ADDM.jl/docs/src/addm`\n",
      "\u001b[32m\u001b[1m  Activating\u001b[22m\u001b[39m project at `~/Toolboxes/ADDM.jl/docs/src/addm`\n"
     ]
    }
   ],
   "source": [
    "pwd();\n",
    "Base.load_path();\n",
    "include(\"../../src/addm_grid_search.jl\");\n",
    "Base.load_path();"
   ]
  },
  {
   "cell_type": "markdown",
   "metadata": {},
   "source": [
    "# Preamble\n",
    "\n",
    "A set of standard things I like to do before getting started with any notebook."
   ]
  },
  {
   "cell_type": "code",
   "execution_count": 2,
   "metadata": {},
   "outputs": [],
   "source": [
    "import Pkg;\n",
    "#Pkg.add(\"DataFrames\");\n",
    "#Pkg.add(\"CSV\");\n",
    "using DataFrames;\n",
    "using CSV;"
   ]
  },
  {
   "cell_type": "markdown",
   "metadata": {},
   "source": [
    "# Common Model Settings"
   ]
  },
  {
   "cell_type": "code",
   "execution_count": 3,
   "metadata": {},
   "outputs": [
    {
     "data": {
      "text/plain": [
       "0.0001"
      ]
     },
     "metadata": {},
     "output_type": "display_data"
    }
   ],
   "source": [
    "grid_search_terminate_threshold = .0001 # %change in total NLL that needs to be achieved to terminate the iterative grid searchh = .1%"
   ]
  },
  {
   "cell_type": "markdown",
   "metadata": {},
   "source": [
    "# Function: Make new grid"
   ]
  },
  {
   "cell_type": "code",
   "execution_count": null,
   "metadata": {},
   "outputs": [],
   "source": [
    "function make_new_grid(estimates::DataFrame, data::Dict{String, Vector{aDDMTrial}}, dStepSize::Number, σStepSize::Number, θStepSize::Number, bStepSize::Number, iteration::Number; bounded_theta::Bool)\n",
    "    \n",
    "    dGrid = Any[]\n",
    "    σGrid = Any[]\n",
    "    θGrid = Any[]\n",
    "    bGrid = Any[]\n",
    "\n",
    "    iteration = iteration-1 # Iteration in the while loops below start at 2 since we run the fitting once before the loop. Correct for this.\n",
    "    ind = 1\n",
    "    for subject in collect(keys(data))\n",
    "\n",
    "        d = estimates[(estimates.subject .== subject), \"d\"][1]\n",
    "        σ = estimates[(estimates.subject .== subject), \"s\"][1]\n",
    "        θ = estimates[(estimates.subject .== subject), \"t\"][1]\n",
    "        b = estimates[(estimates.subject .== subject), \"b\"][1]\n",
    "\n",
    "        dLow = max(0.00001, d-(dStepSize/(2^iteration)));\n",
    "        dHigh = d+(dStepSize/(2^iteration));\n",
    "        σLow = max(0.001, σ-(σStepSize/(2^iteration)));\n",
    "        σHigh = σ+(σStepSize/(2^iteration));\n",
    "        if !bounded_theta\n",
    "            θLow = θ-(θStepSize/(2^iteration));\n",
    "            θHigh = θ+(θStepSize/(2^iteration));\n",
    "        else\n",
    "            θLow = max(0, θ-(θStepSize/(2^iteration)));\n",
    "            θHigh = min(1, θ+(θStepSize/(2^iteration)));\n",
    "        end\n",
    "        bLow = max(-.99, b-(bStepSize/(2^iteration)));\n",
    "        bHigh = min(.99, b+(bStepSize/(2^iteration)));\n",
    "\n",
    "        push!(dGrid, float([dLow, d, dHigh]))\n",
    "        push!(σGrid, float([σLow, σ, σHigh]))    \n",
    "        push!(θGrid, float([θLow, θ, θHigh]))           \n",
    "        push!(bGrid, float([bLow, b, bHigh]))  \n",
    "\n",
    "        ind += 1\n",
    "    end\n",
    "    return dGrid, σGrid, θGrid, bGrid\n",
    "end"
   ]
  },
  {
   "cell_type": "markdown",
   "metadata": {},
   "source": [
    "# aDDM\n",
    "\n",
    "Let's do a 2-iteration grid search. We'll start with a low resolution grid search, then once we have rough estimates per subject, we can zoom into the region around the rough estimates for a precise measure.\n",
    "\n",
    "## Prep for gain and loss: load data, placeholders, set step sizes"
   ]
  },
  {
   "cell_type": "code",
   "execution_count": null,
   "metadata": {},
   "outputs": [],
   "source": [
    "addm = aDDM(.005, .07, .3); # These can be anything. They exist because you need an aDDM object. (d, s, t).\n",
    "\n",
    "dataGain = load_data_from_csv(\"../../data/expdataGain.csv\", \"../../data/fixationsGain.csv\", convertItemValues=nothing)\n",
    "dataLoss = load_data_from_csv(\"../../data/expdataLoss.csv\", \"../../data/fixationsLoss.csv\", convertItemValues=nothing);\n",
    "\n",
    "subjectCount = length(collect(keys(dataGain)))\n",
    "\n",
    "pChangeNLLThreshold = 0.001 # How little should NLL change in order for us to stop zooming in with grid search? 0.1%\n",
    "\n",
    "dStepSize = .0025 # Step sizes for the grids.\n",
    "σStepSize = .03\n",
    "θStepSize = .5\n",
    "bStepSize = .1\n",
    "\n",
    "dInitialGrid = Any[]\n",
    "σInitialGrid = Any[]\n",
    "θInitialGrid = Any[]\n",
    "bInitialGrid = Any[]\n",
    "for subject in collect(keys(dataGain))\n",
    "    push!(dInitialGrid, [0.0001:dStepSize:.008;])   # d from .0001 to .008\n",
    "    push!(σInitialGrid, [0.01:σStepSize:.1;])      # σ from .01 to .1\n",
    "    push!(θInitialGrid, float([0:θStepSize:2;]))    # θ from 0 to 2\n",
    "    push!(bInitialGrid, [-.2:bStepSize:.2;])      # b from -.2 to .2\n",
    "end\n",
    "\n",
    "println(dInitialGrid[1])\n",
    "println(σInitialGrid[1])\n",
    "println(θInitialGrid[1])\n",
    "println(bInitialGrid[1])"
   ]
  },
  {
   "cell_type": "markdown",
   "metadata": {},
   "source": [
    "## Function: Grid search and report data frame"
   ]
  },
  {
   "cell_type": "code",
   "execution_count": null,
   "metadata": {},
   "outputs": [],
   "source": [
    "function fit_aDDM_custom_resolution(addm::aDDM, data::Dict{String, Vector{aDDMTrial}}, dGrid::Vector{Any}, σGrid::Vector{Any}, θGrid::Vector{Any}, bGrid::Vector{Any}, subjectCount::Number)\n",
    "    \"\"\"\n",
    "    \"\"\"\n",
    "\n",
    "    #print(\"Approx how many likelihoods to calculate per subject: \")\n",
    "    #print(length(dGrid[1])*length(σGrid[1])*length(θGrid[1])*length(bGrid[1]))\n",
    "\n",
    "    dList = Vector{Float64}(undef, subjectCount)\n",
    "    σList = Vector{Float64}(undef, subjectCount)\n",
    "    θList = Vector{Float64}(undef, subjectCount)\n",
    "    bList = Vector{Float64}(undef, subjectCount)\n",
    "    NLLsList = Vector{Float64}(undef, subjectCount);\n",
    "\n",
    "    ind = 1\n",
    "    @showprogress for subject in collect(keys(data))\n",
    "\n",
    "        dEst, σEst, θEst, bEst, NLL_Indiv = aDDM_grid_search(addm, data, dGrid[ind], σGrid[ind], θGrid[ind], bGrid[ind], subject)\n",
    "    \n",
    "        dList[ind] = dEst[1]\n",
    "        σList[ind] = σEst[1]\n",
    "        θList[ind] = θEst[1]\n",
    "        bList[ind] = bEst[1]\n",
    "        NLLsList[ind] = NLL_Indiv\n",
    "        ind += 1\n",
    "    \n",
    "    end\n",
    "\n",
    "    df = DataFrame(\n",
    "        subject = collect(keys(data)),\n",
    "        d = dList,\n",
    "        s = σList,\n",
    "        t = θList,\n",
    "        b = bList\n",
    "    )\n",
    "    df = sort(df, :subject)\n",
    "    return df, NLLsList\n",
    "end"
   ]
  },
  {
   "cell_type": "markdown",
   "metadata": {},
   "source": [
    "## Fit Gain Data"
   ]
  },
  {
   "cell_type": "code",
   "execution_count": null,
   "metadata": {},
   "outputs": [],
   "source": [
    "oldGainEstimates, oldNLLs = fit_aDDM_custom_resolution(addm, dataGain, dInitialGrid, σInitialGrid, θInitialGrid, bInitialGrid, subjectCount)\n",
    "oldNLL = sum(oldNLLs)\n",
    "println(\"Iteration 1\"); print(\"Old NLL missing\"); print(\"New NLL \"); println(oldNLL); print(\"Percent Change missing\"); println(oldGainEstimates);\n",
    "\n",
    "iteration = 2\n",
    "Δ = 100\n",
    "while Δ > grid_search_terminate_threshold\n",
    "    \n",
    "    dGrid, σGrid, θGrid, bGrid = make_new_grid(oldGainEstimates, dataGain, dStepSize, σStepSize, θStepSize, bStepSize, iteration; bounded_theta=false)\n",
    "    newGainEstimates, newNLLs = fit_aDDM_custom_resolution(addm, dataGain, dGrid, σGrid, θGrid, bGrid, subjectCount)\n",
    "    newNLL = sum(newNLLs)\n",
    "    Δ = (oldNLL-newNLL)/oldNLL\n",
    "    if Δ < 0\n",
    "        global gainEstimates = oldGainEstimates\n",
    "        global NLL = oldNLLs\n",
    "    else\n",
    "        global gainEstimates = newGainEstimates\n",
    "        global NLL = newNLLs\n",
    "    end\n",
    "\n",
    "    print(\"Iteration \"); println(iteration); print(\"Old NLL \"); println(oldNLL); print(\"New NLL \"); println(newNLL); print(\"Percent Change \"); println(Δ); println(gainEstimates); iteration += 1; oldGainEstimates = newGainEstimates; oldNLL = newNLL;\n",
    "\n",
    "end\n",
    "CSV.write(\"NumericGainFit.csv\", gainEstimates)\n",
    "CSV.write(\"NumericGainNLL.csv\", Tables.table(NLL), writeheader=false)"
   ]
  },
  {
   "cell_type": "markdown",
   "metadata": {},
   "source": [
    "## Fit Loss Data"
   ]
  },
  {
   "cell_type": "code",
   "execution_count": null,
   "metadata": {},
   "outputs": [],
   "source": [
    "oldLossEstimates, oldNLLs = fit_aDDM_custom_resolution(addm, dataLoss, dInitialGrid, σInitialGrid, θInitialGrid, bInitialGrid, subjectCount)\n",
    "oldNLL = sum(oldNLLs)\n",
    "println(\"Iteration 1\"); print(\"Old NLL missing\"); print(\"New NLL \"); println(oldNLL); print(\"Percent Change missing\"); println(oldLossEstimates);\n",
    "\n",
    "iteration = 2\n",
    "Δ = 100\n",
    "while Δ > grid_search_terminate_threshold\n",
    "    \n",
    "    dGrid, σGrid, θGrid, bGrid = make_new_grid(oldLossEstimates, dataLoss, dStepSize, σStepSize, θStepSize, bStepSize, iteration; bounded_theta=false)\n",
    "    newLossEstimates, newNLLs = fit_aDDM_custom_resolution(addm, dataLoss, dGrid, σGrid, θGrid, bGrid, subjectCount)\n",
    "    newNLL = sum(newNLLs)\n",
    "    Δ = (oldNLL-newNLL)/oldNLL\n",
    "    if Δ < 0\n",
    "        global lossEstimates = oldLossEstimates\n",
    "        global NLL = oldNLLs\n",
    "    else\n",
    "        global lossEstimates = newLossEstimates\n",
    "        global NLL = newNLLs\n",
    "    end\n",
    "\n",
    "    print(\"Iteration \"); println(iteration); print(\"Old NLL \"); println(oldNLL); print(\"New NLL \"); println(newNLL); print(\"Percent Change \"); println(Δ); println(lossEstimates); iteration += 1; oldLossEstimates = newLossEstimates; oldNLL = newNLL; \n",
    "\n",
    "end\n",
    "CSV.write(\"NumericLossFit.csv\", lossEstimates)\n",
    "CSV.write(\"NumericLossNLL.csv\", Tables.table(NLL), writeheader=false)"
   ]
  },
  {
   "cell_type": "markdown",
   "metadata": {},
   "source": [
    "## Fit Loss Data with Bounded $\\theta$\n",
    "\n",
    "We know this is not good, but it would be nice to see the results of simulations using theta bounded between 0 and 1."
   ]
  },
  {
   "cell_type": "code",
   "execution_count": null,
   "metadata": {},
   "outputs": [],
   "source": [
    "θBoundedGrid = Any[]\n",
    "for subject in collect(keys(dataLoss))\n",
    "    push!(θBoundedGrid, float([0:θStepSize:1;]))    # θ from 0 to 1\n",
    "end\n",
    "oldLossEstimates, oldNLLs = fit_aDDM_custom_resolution(addm, dataLoss, dInitialGrid, σInitialGrid, θBoundedGrid, bInitialGrid, subjectCount)\n",
    "oldNLL = sum(oldNLLs)\n",
    "println(\"Iteration 1\"); print(\"Old NLL missing\"); print(\"New NLL \"); println(oldNLL); print(\"Percent Change missing\"); println(oldLossEstimates);\n",
    "\n",
    "iteration = 2\n",
    "Δ = 100\n",
    "while Δ > grid_search_terminate_threshold\n",
    "    \n",
    "    dGrid, σGrid, θGrid, bGrid = make_new_grid(oldLossEstimates, dataLoss, dStepSize, σStepSize, θStepSize, bStepSize, iteration; bounded_theta=true)\n",
    "    newLossEstimates, newNLLs = fit_aDDM_custom_resolution(addm, dataLoss, dGrid, σGrid, θGrid, bGrid, subjectCount)\n",
    "    newNLL = sum(newNLLs)\n",
    "    Δ = (oldNLL-newNLL)/oldNLL\n",
    "    if Δ < 0\n",
    "        global lossEstimates_boundedTheta = oldLossEstimates\n",
    "        global NLL = oldNLLs\n",
    "    else\n",
    "        global lossEstimates_boundedTheta = newLossEstimates\n",
    "        global NLL = newNLLs\n",
    "    end\n",
    "\n",
    "    print(\"Iteration \"); println(iteration); print(\"Old NLL \"); println(oldNLL); print(\"New NLL \"); println(newNLL); print(\"Percent Change \"); println(Δ); println(lossEstimates_boundedTheta); iteration += 1; oldLossEstimates = newLossEstimates; oldNLL = newNLL; \n",
    "\n",
    "end\n",
    "CSV.write(\"NumericLossFit_boundedTheta.csv\", lossEstimates_boundedTheta)\n",
    "CSV.write(\"NumericLossNLL_boundedTheta.csv\", Tables.table(NLL), writeheader=false)"
   ]
  },
  {
   "cell_type": "markdown",
   "metadata": {},
   "source": [
    "# Additive Model (addDDM)"
   ]
  },
  {
   "cell_type": "markdown",
   "metadata": {},
   "source": [
    "## Prep"
   ]
  },
  {
   "cell_type": "code",
   "execution_count": null,
   "metadata": {},
   "outputs": [],
   "source": [
    "addm = aDDM(.005, .07, .3); # These can be anything. They exist because you need an aDDM object. (d, s, t).\n",
    "\n",
    "dataGain = load_data_from_csv(\"../../data/expdataGain.csv\", \"../../data/fixationsGain.csv\", convertItemValues=nothing)\n",
    "dataLoss = load_data_from_csv(\"../../data/expdataLoss.csv\", \"../../data/fixationsLoss.csv\", convertItemValues=nothing);\n",
    "\n",
    "subjectCount = length(collect(keys(dataGain)))\n",
    "\n",
    "pChangeNLLThreshold = 0.001 # How little should NLL change in order for us to stop zooming in with grid search? 0.1%\n",
    "\n",
    "dStepSize = .0025 # Step sizes for the grids.\n",
    "σStepSize = .03\n",
    "θStepSize = 1\n",
    "bStepSize = .1\n",
    "\n",
    "dInitialGrid = Any[]\n",
    "σInitialGrid = Any[]\n",
    "θInitialGrid = Any[]\n",
    "bInitialGrid = Any[]\n",
    "for subject in collect(keys(dataGain))\n",
    "    push!(dInitialGrid, [0.0001:dStepSize:.008;])   # d from .0001 to .008\n",
    "    push!(σInitialGrid, [0.01:σStepSize:.1;])      # σ from .01 to .1\n",
    "    push!(θInitialGrid, float([-3:θStepSize:3;]))    # θ from -3 to 3\n",
    "    push!(bInitialGrid, [-.2:bStepSize:.2;])      # b from -.25 to .25\n",
    "end\n",
    "\n",
    "println(dInitialGrid[1])\n",
    "println(σInitialGrid[1])\n",
    "println(θInitialGrid[1])\n",
    "println(bInitialGrid[1])"
   ]
  },
  {
   "cell_type": "markdown",
   "metadata": {},
   "source": [
    "## Function: Grid search and record"
   ]
  },
  {
   "cell_type": "code",
   "execution_count": null,
   "metadata": {},
   "outputs": [],
   "source": [
    "function fit_addDDM_custom_resolution(addm::aDDM, data::Dict{String, Vector{aDDMTrial}}, dGrid::Vector{Any}, σGrid::Vector{Any}, θGrid::Vector{Any}, bGrid::Vector{Any}, subjectCount::Number)\n",
    "    \"\"\"\n",
    "    \"\"\"\n",
    "\n",
    "    #print(\"Approx how many likelihoods to calculate per subject: \")\n",
    "    #print(length(dGrid[1])*length(σGrid[1])*length(θGrid[1])*length(bGrid[1]))\n",
    "\n",
    "    dList = Vector{Float64}(undef, subjectCount)\n",
    "    σList = Vector{Float64}(undef, subjectCount)\n",
    "    θList = Vector{Float64}(undef, subjectCount)\n",
    "    bList = Vector{Float64}(undef, subjectCount)\n",
    "    NLLsList = Vector{Float64}(undef, subjectCount);\n",
    "\n",
    "    ind = 1\n",
    "    @showprogress for subject in collect(keys(data))\n",
    "\n",
    "        dEst, σEst, θEst, bEst, NLL_Indiv = addDDM_grid_search(addm, data, dGrid[ind], σGrid[ind], θGrid[ind], bGrid[ind], subject)\n",
    "    \n",
    "        dList[ind] = dEst[1]\n",
    "        σList[ind] = σEst[1]\n",
    "        θList[ind] = θEst[1]\n",
    "        bList[ind] = bEst[1]\n",
    "        NLLsList[ind] = NLL_Indiv\n",
    "        ind += 1\n",
    "    \n",
    "    end\n",
    "\n",
    "    df = DataFrame(\n",
    "        subject = collect(keys(data)),\n",
    "        d = dList,\n",
    "        s = σList,\n",
    "        t = θList,\n",
    "        b = bList\n",
    "    )\n",
    "    df = sort(df, :subject)\n",
    "    return df, NLLsList\n",
    "end"
   ]
  },
  {
   "cell_type": "markdown",
   "metadata": {},
   "source": [
    "## Fit Gain Data"
   ]
  },
  {
   "cell_type": "code",
   "execution_count": null,
   "metadata": {},
   "outputs": [],
   "source": [
    "oldGainEstimates, oldNLLs = fit_addDDM_custom_resolution(addm, dataGain, dInitialGrid, σInitialGrid, θInitialGrid, bInitialGrid, subjectCount)\n",
    "oldNLL = sum(oldNLLs)\n",
    "println(\"Iteration 1\"); print(\"Old NLL missing\"); print(\"New NLL \"); println(oldNLL); print(\"Percent Change missing\"); println(oldGainEstimates);\n",
    "\n",
    "iteration = 2\n",
    "Δ = 100\n",
    "while Δ > grid_search_terminate_threshold\n",
    "    \n",
    "    dGrid, σGrid, θGrid, bGrid = make_new_grid(oldGainEstimates, dataGain, dStepSize, σStepSize, θStepSize, bStepSize, iteration; bounded_theta=false)\n",
    "    newGainEstimates, newNLLs = fit_addDDM_custom_resolution(addm, dataGain, dGrid, σGrid, θGrid, bGrid, subjectCount)\n",
    "    newNLL = sum(newNLLs)\n",
    "    Δ = (oldNLL-newNLL)/oldNLL\n",
    "    if Δ < 0\n",
    "        global gainEstimates_Add = oldGainEstimates\n",
    "        global NLL = oldNLLs\n",
    "    else\n",
    "        global gainEstimates_Add = newGainEstimates\n",
    "        global NLL = newNLLs\n",
    "    end\n",
    "\n",
    "    print(\"Iteration \"); println(iteration); print(\"Old NLL \"); println(oldNLL); print(\"New NLL \"); println(newNLL); print(\"Percent Change \"); println(Δ); println(gainEstimates_Add); iteration += 1; oldGainEstimates = newGainEstimates; oldNLL = newNLL;\n",
    "\n",
    "end\n",
    "CSV.write(\"NumericGainFit_Add.csv\", gainEstimates_Add)\n",
    "CSV.write(\"NumericGainNLL_Add.csv\", Tables.table(NLL), writeheader=false)"
   ]
  },
  {
   "cell_type": "markdown",
   "metadata": {},
   "source": [
    "## Fit Loss Data"
   ]
  },
  {
   "cell_type": "code",
   "execution_count": null,
   "metadata": {},
   "outputs": [],
   "source": [
    "oldLossEstimates, oldNLLs = fit_addDDM_custom_resolution(addm, dataLoss, dInitialGrid, σInitialGrid, θInitialGrid, bInitialGrid, subjectCount)\n",
    "oldNLL = sum(oldNLLs)\n",
    "println(\"Iteration 1\"); print(\"Old NLL missing\"); print(\"New NLL \"); println(oldNLL); print(\"Percent Change missing\"); println(oldLossEstimates);\n",
    "\n",
    "iteration = 2\n",
    "Δ = 100\n",
    "while Δ > grid_search_terminate_threshold\n",
    "    \n",
    "    dGrid, σGrid, θGrid, bGrid = make_new_grid(oldLossEstimates, dataLoss, dStepSize, σStepSize, θStepSize, bStepSize, iteration; bounded_theta=false)\n",
    "    newLossEstimates, newNLLs = fit_addDDM_custom_resolution(addm, dataLoss, dGrid, σGrid, θGrid, bGrid, subjectCount)\n",
    "    newNLL = sum(newNLLs)\n",
    "    Δ = (oldNLL-newNLL)/oldNLL\n",
    "    if Δ < 0\n",
    "        global lossEstimates_Add = oldLossEstimates\n",
    "        global NLL = oldNLLs\n",
    "    else\n",
    "        global lossEstimates_Add = newLossEstimates\n",
    "        global NLL = newNLLs\n",
    "    end\n",
    "\n",
    "    print(\"Iteration \"); println(iteration); print(\"Old NLL \"); println(oldNLL); print(\"New NLL \"); println(newNLL); print(\"Percent Change \"); println(Δ); println(lossEstimates_Add); iteration += 1; oldLossEstimates = newLossEstimates; oldNLL = newNLL; \n",
    "\n",
    "end\n",
    "CSV.write(\"NumericLossFit_Add.csv\", lossEstimates_Add)\n",
    "CSV.write(\"NumericLossNLL_Add.csv\", Tables.table(NLL), writeheader=false)"
   ]
  },
  {
   "cell_type": "markdown",
   "metadata": {},
   "source": [
    "# Range Normalized Model (RNaDDM)"
   ]
  },
  {
   "cell_type": "markdown",
   "metadata": {},
   "source": [
    "## Prep"
   ]
  },
  {
   "cell_type": "code",
   "execution_count": null,
   "metadata": {},
   "outputs": [],
   "source": [
    "addm = aDDM(.005, .07, .3); # These can be anything. They exist because you need an aDDM object. (d, s, t).\n",
    "\n",
    "dataGain = load_data_from_csv(\"../../data/expdataGain.csv\", \"../../data/fixationsGain.csv\", convertItemValues=nothing)\n",
    "dataLoss = load_data_from_csv(\"../../data/expdataLoss.csv\", \"../../data/fixationsLoss.csv\", convertItemValues=nothing);\n",
    "\n",
    "subjectCount = length(collect(keys(dataGain)))\n",
    "\n",
    "pChangeNLLThreshold = 0.001 # How little should NLL change in order for us to stop zooming in with grid search? 0.1%\n",
    "\n",
    "dStepSize = .005 # Step sizes for the grids.\n",
    "σStepSize = .03\n",
    "θStepSize = .25\n",
    "\n",
    "bStepSize = .1\n",
    "\n",
    "dInitialGrid = Any[]\n",
    "σInitialGrid = Any[]\n",
    "θInitialGrid = Any[]\n",
    "bInitialGrid = Any[]\n",
    "for subject in collect(keys(dataGain))\n",
    "    push!(dInitialGrid, [0.0001:dStepSize:.0401;])   # d from .0001 to .008\n",
    "    push!(σInitialGrid, [0.01:σStepSize:.1;])      # σ from .01 to .1\n",
    "    push!(θInitialGrid, float([0:θStepSize:2;]))    # θ from 0 to 2\n",
    "    push!(bInitialGrid, [-.2:bStepSize:.2;])      # b from -.2 to .2\n",
    "end\n",
    "\n",
    "println(dInitialGrid[1])\n",
    "println(σInitialGrid[1])\n",
    "println(θInitialGrid[1])\n",
    "println(bInitialGrid[1])"
   ]
  },
  {
   "cell_type": "markdown",
   "metadata": {},
   "source": [
    "## Function: Grid search and results"
   ]
  },
  {
   "cell_type": "code",
   "execution_count": null,
   "metadata": {},
   "outputs": [],
   "source": [
    "function fit_RNaDDM_custom_resolution(addm::aDDM, data::Dict{String, Vector{aDDMTrial}}, dGrid::Vector{Any}, σGrid::Vector{Any}, θGrid::Vector{Any}, bGrid::Vector{Any}, subjectCount::Number; minValue::Number=-6, maxValue::Number=-1)\n",
    "    \"\"\"\n",
    "    \"\"\"\n",
    "\n",
    "    #print(\"Approx how many likelihoods to calculate per subject: \")\n",
    "    #print(length(dGrid[1])*length(σGrid[1])*length(θGrid[1])*length(bGrid[1]))\n",
    "\n",
    "    dList = Vector{Float64}(undef, subjectCount)\n",
    "    σList = Vector{Float64}(undef, subjectCount)\n",
    "    θList = Vector{Float64}(undef, subjectCount)\n",
    "    bList = Vector{Float64}(undef, subjectCount)\n",
    "    NLLsList = Vector{Float64}(undef, subjectCount);\n",
    "\n",
    "    ind = 1\n",
    "    @showprogress for subject in collect(keys(data))\n",
    "\n",
    "        dEst, σEst, θEst, bEst, NLL_Indiv = RNaDDM_grid_search(addm, data, minValue, maxValue, dGrid[ind], σGrid[ind], θGrid[ind], bGrid[ind], subject)\n",
    "    \n",
    "        dList[ind] = dEst[1]\n",
    "        σList[ind] = σEst[1]\n",
    "        θList[ind] = θEst[1]\n",
    "        bList[ind] = bEst[1]\n",
    "        NLLsList[ind] = NLL_Indiv\n",
    "        ind += 1\n",
    "    \n",
    "    end\n",
    "\n",
    "    df = DataFrame(\n",
    "        subject = collect(keys(data)),\n",
    "        d = dList,\n",
    "        s = σList,\n",
    "        t = θList,\n",
    "        b = bList\n",
    "    )\n",
    "    df = sort(df, :subject)\n",
    "    return df, NLLsList\n",
    "end"
   ]
  },
  {
   "cell_type": "markdown",
   "metadata": {},
   "source": [
    "## Fit Gain Data"
   ]
  },
  {
   "cell_type": "code",
   "execution_count": null,
   "metadata": {},
   "outputs": [],
   "source": [
    "oldGainEstimates, oldNLLs = fit_RNaDDM_custom_resolution(addm, dataGain, dInitialGrid, σInitialGrid, θInitialGrid, bInitialGrid, subjectCount; minValue=1, maxValue=6)\n",
    "oldNLL = sum(oldNLLs)\n",
    "println(\"Iteration 1\"); print(\"Old NLL missing\"); print(\"New NLL \"); println(oldNLL); print(\"Percent Change missing\"); println(oldGainEstimates);\n",
    "\n",
    "iteration = 2\n",
    "Δ = 100\n",
    "while Δ > grid_search_terminate_threshold\n",
    "    \n",
    "    dGrid, σGrid, θGrid, bGrid = make_new_grid(oldGainEstimates, dataGain, dStepSize, σStepSize, θStepSize, bStepSize, iteration; bounded_theta=false)\n",
    "    newGainEstimates, newNLLs = fit_RNaDDM_custom_resolution(addm, dataGain, dGrid, σGrid, θGrid, bGrid, subjectCount; minValue=1, maxValue=6)\n",
    "    newNLL = sum(newNLLs)\n",
    "    Δ = (oldNLL-newNLL)/oldNLL\n",
    "    if Δ < 0\n",
    "        global gainEstimates_RN = oldGainEstimates\n",
    "        global NLL = oldNLLs\n",
    "    else\n",
    "        global gainEstimates_RN = newGainEstimates\n",
    "        global NLL = newNLLs\n",
    "    end\n",
    "\n",
    "    print(\"Iteration \"); println(iteration); print(\"Old NLL \"); println(oldNLL); print(\"New NLL \"); println(newNLL); print(\"Percent Change \"); println(Δ); println(gainEstimates_RN); iteration += 1; oldGainEstimates = newGainEstimates; oldNLL = newNLL; \n",
    "\n",
    "end\n",
    "CSV.write(\"NumericGainFit_RN.csv\", gainEstimates_RN)\n",
    "CSV.write(\"NumericGainNLL_RN.csv\", Tables.table(NLL), writeheader=false)"
   ]
  },
  {
   "cell_type": "markdown",
   "metadata": {},
   "source": [
    "## Fit Loss Data"
   ]
  },
  {
   "cell_type": "code",
   "execution_count": null,
   "metadata": {},
   "outputs": [],
   "source": [
    "oldLossEstimates, oldNLLs = fit_RNaDDM_custom_resolution(addm, dataLoss, dInitialGrid, σInitialGrid, θInitialGrid, bInitialGrid, subjectCount)\n",
    "oldNLL = sum(oldNLLs)\n",
    "println(\"Iteration 1\"); print(\"Old NLL missing\"); print(\"New NLL \"); println(oldNLL); print(\"Percent Change missing\"); println(oldLossEstimates);\n",
    "\n",
    "iteration = 2\n",
    "Δ = 100\n",
    "while Δ > grid_search_terminate_threshold\n",
    "    \n",
    "    dGrid, σGrid, θGrid, bGrid = make_new_grid(oldLossEstimates, dataLoss, dStepSize, σStepSize, θStepSize, bStepSize, iteration; bounded_theta=false)\n",
    "    newLossEstimates, newNLLs = fit_RNaDDM_custom_resolution(addm, dataLoss, dGrid, σGrid, θGrid, bGrid, subjectCount)\n",
    "    newNLL = sum(newNLLs)\n",
    "    Δ = (oldNLL-newNLL)/oldNLL\n",
    "    if Δ < 0\n",
    "        global lossEstimates_RN = oldLossEstimates\n",
    "        global NLL = oldNLLs\n",
    "    else\n",
    "        global lossEstimates_RN = newLossEstimates\n",
    "        global NLL = newNLLs\n",
    "    end\n",
    "\n",
    "    print(\"Iteration \"); println(iteration); print(\"Old NLL \"); println(oldNLL); print(\"New NLL \"); println(newNLL); print(\"Percent Change \"); println(Δ); println(lossEstimates_RN); iteration += 1; oldLossEstimates = newLossEstimates; oldNLL = newNLL; \n",
    "\n",
    "end\n",
    "CSV.write(\"NumericLossFit_RN.csv\", lossEstimates_RN)\n",
    "CSV.write(\"NumericLossNLL_RN.csv\", Tables.table(NLL), writeheader=false)"
   ]
  },
  {
   "cell_type": "markdown",
   "metadata": {},
   "source": [
    "# Divisive Normalized Model (DNaDDM)"
   ]
  },
  {
   "cell_type": "markdown",
   "metadata": {},
   "source": [
    "## Prep"
   ]
  },
  {
   "cell_type": "code",
   "execution_count": null,
   "metadata": {},
   "outputs": [],
   "source": [
    "addm = aDDM(.005, .07, .3); # These can be anything. They exist because you need an aDDM object. (d, s, t).\n",
    "\n",
    "dataGain = load_data_from_csv(\"../../data/expdataGain.csv\", \"../../data/fixationsGain.csv\", convertItemValues=nothing)\n",
    "dataLoss = load_data_from_csv(\"../../data/expdataLoss.csv\", \"../../data/fixationsLoss.csv\", convertItemValues=nothing);\n",
    "\n",
    "subjectCount = length(collect(keys(dataGain)))\n",
    "\n",
    "pChangeNLLThreshold = 0.001 # How little should NLL change in order for us to stop zooming in with grid search? 0.1%\n",
    "\n",
    "dStepSize = .005 # Step sizes for the grids.\n",
    "σStepSize = .03\n",
    "θStepSize = .25\n",
    "\n",
    "bStepSize = .1\n",
    "\n",
    "dInitialGrid = Any[]\n",
    "σInitialGrid = Any[]\n",
    "θInitialGrid = Any[]\n",
    "bInitialGrid = Any[]\n",
    "for subject in collect(keys(dataGain))\n",
    "    push!(dInitialGrid, [0.0001:dStepSize:.0401;])   # d from .0001 to .008\n",
    "    push!(σInitialGrid, [0.01:σStepSize:.1;])      # σ from .01 to .1\n",
    "    push!(θInitialGrid, float([0:θStepSize:2;]))    # θ from 0 to 2\n",
    "    push!(bInitialGrid, [-.2:bStepSize:.2;])      # b from -.2 to .2\n",
    "end\n",
    "\n",
    "println(dInitialGrid[1])\n",
    "println(σInitialGrid[1])\n",
    "println(θInitialGrid[1])\n",
    "println(bInitialGrid[1])"
   ]
  },
  {
   "cell_type": "markdown",
   "metadata": {},
   "source": [
    "## Function: Grid search and results"
   ]
  },
  {
   "cell_type": "code",
   "execution_count": null,
   "metadata": {},
   "outputs": [],
   "source": [
    "function fit_DNaDDM_custom_resolution(addm::aDDM, data::Dict{String, Vector{aDDMTrial}}, dGrid::Vector{Any}, σGrid::Vector{Any}, θGrid::Vector{Any}, bGrid::Vector{Any}, subjectCount::Number)\n",
    "    \"\"\"\n",
    "    \"\"\"\n",
    "\n",
    "    #print(\"Approx how many likelihoods to calculate per subject: \")\n",
    "    #print(length(dGrid[1])*length(σGrid[1])*length(θGrid[1])*length(bGrid[1]))\n",
    "\n",
    "    dList = Vector{Float64}(undef, subjectCount)\n",
    "    σList = Vector{Float64}(undef, subjectCount)\n",
    "    θList = Vector{Float64}(undef, subjectCount)\n",
    "    bList = Vector{Float64}(undef, subjectCount)\n",
    "    NLLsList = Vector{Float64}(undef, subjectCount);\n",
    "\n",
    "    ind = 1\n",
    "    @showprogress for subject in collect(keys(data))\n",
    "\n",
    "        dEst, σEst, θEst, bEst, NLL_Indiv = DNaDDM_grid_search(addm, data, dGrid[ind], σGrid[ind], θGrid[ind], bGrid[ind], subject)\n",
    "    \n",
    "        dList[ind] = dEst[1]\n",
    "        σList[ind] = σEst[1]\n",
    "        θList[ind] = θEst[1]\n",
    "        bList[ind] = bEst[1]\n",
    "        NLLsList[ind] = NLL_Indiv\n",
    "        ind += 1\n",
    "    \n",
    "    end\n",
    "\n",
    "    df = DataFrame(\n",
    "        subject = collect(keys(data)),\n",
    "        d = dList,\n",
    "        s = σList,\n",
    "        t = θList,\n",
    "        b = bList\n",
    "    )\n",
    "    df = sort(df, :subject)\n",
    "    return df, NLLsList\n",
    "end"
   ]
  },
  {
   "cell_type": "markdown",
   "metadata": {},
   "source": [
    "## Fit Gain Data"
   ]
  },
  {
   "cell_type": "code",
   "execution_count": null,
   "metadata": {},
   "outputs": [],
   "source": [
    "oldGainEstimates, oldNLLs = fit_DNaDDM_custom_resolution(addm, dataGain, dInitialGrid, σInitialGrid, θInitialGrid, bInitialGrid, subjectCount)\n",
    "oldNLL = sum(oldNLLs)\n",
    "println(\"Iteration 1\"); print(\"Old NLL missing\"); print(\"New NLL \"); println(oldNLL); print(\"Percent Change missing\"); println(oldGainEstimates);\n",
    "\n",
    "iteration = 2\n",
    "Δ = 100\n",
    "while Δ > grid_search_terminate_threshold\n",
    "    \n",
    "    dGrid, σGrid, θGrid, bGrid = make_new_grid(oldGainEstimates, dataGain, dStepSize, σStepSize, θStepSize, bStepSize, iteration; bounded_theta=false)\n",
    "    newGainEstimates, newNLLs = fit_DNaDDM_custom_resolution(addm, dataGain, dGrid, σGrid, θGrid, bGrid, subjectCount)\n",
    "    newNLL = sum(newNLLs)\n",
    "    Δ = (oldNLL-newNLL)/oldNLL\n",
    "    if Δ < 0\n",
    "        global gainEstimates_DN = oldGainEstimates\n",
    "        global NLL = oldNLLs\n",
    "    else\n",
    "        global gainEstimates_DN = newGainEstimates\n",
    "        global NLL = newNLLs\n",
    "    end\n",
    "\n",
    "    print(\"Iteration \"); println(iteration); print(\"Old NLL \"); println(oldNLL); print(\"New NLL \"); println(newNLL); print(\"Percent Change \"); println(Δ); println(gainEstimates_DN); iteration += 1; oldGainEstimates = newGainEstimates; oldNLL = newNLL; \n",
    "\n",
    "end\n",
    "CSV.write(\"NumericGainFit_DN.csv\", gainEstimates_DN)\n",
    "CSV.write(\"NumericGainNLL_DN.csv\", Tables.table(NLL), writeheader=false)"
   ]
  },
  {
   "cell_type": "markdown",
   "metadata": {},
   "source": [
    "## Fit Loss Data"
   ]
  },
  {
   "cell_type": "code",
   "execution_count": null,
   "metadata": {},
   "outputs": [],
   "source": [
    "oldLossEstimates, oldNLLs = fit_DNaDDM_custom_resolution(addm, dataLoss, dInitialGrid, σInitialGrid, θInitialGrid, bInitialGrid, subjectCount)\n",
    "oldNLL = sum(oldNLLs)\n",
    "println(\"Iteration 1\"); print(\"Old NLL missing\"); print(\"New NLL \"); println(oldNLL); print(\"Percent Change missing\"); println(oldLossEstimates);\n",
    "\n",
    "iteration = 2\n",
    "Δ = 100\n",
    "while Δ > grid_search_terminate_threshold\n",
    "    \n",
    "    dGrid, σGrid, θGrid, bGrid = make_new_grid(oldLossEstimates, dataLoss, dStepSize, σStepSize, θStepSize, bStepSize, iteration; bounded_theta=false)\n",
    "    newLossEstimates, newNLLs = fit_DNaDDM_custom_resolution(addm, dataLoss, dGrid, σGrid, θGrid, bGrid, subjectCount)\n",
    "    newNLL = sum(newNLLs)\n",
    "    Δ = (oldNLL-newNLL)/oldNLL\n",
    "    if Δ < 0\n",
    "        global lossEstimates_DN = oldLossEstimates\n",
    "        global NLL = oldNLLs\n",
    "    else\n",
    "        global lossEstimates_DN = newLossEstimates\n",
    "        global NLL = newNLLs\n",
    "    end\n",
    "\n",
    "    print(\"Iteration \"); println(iteration); print(\"Old NLL \"); println(oldNLL); print(\"New NLL \"); println(newNLL); print(\"Percent Change \"); println(Δ); println(lossEstimates_DN); iteration += 1; oldLossEstimates = newLossEstimates; oldNLL = newNLL; \n",
    "\n",
    "end\n",
    "CSV.write(\"NumericLossFit_DN.csv\", lossEstimates_DN)\n",
    "CSV.write(\"NumericLossNLL_DN.csv\", Tables.table(NLL), writeheader=false)"
   ]
  },
  {
   "cell_type": "markdown",
   "metadata": {},
   "source": [
    "# Range Normalized Plus Model (RNPaDDM)\n",
    "\n",
    "Range normalized, but with an additional constant that shifts the lower bound on the range."
   ]
  },
  {
   "cell_type": "markdown",
   "metadata": {},
   "source": [
    "## Prep"
   ]
  },
  {
   "cell_type": "code",
   "execution_count": 4,
   "metadata": {},
   "outputs": [
    {
     "name": "stdout",
     "output_type": "stream",
     "text": [
      "[0.0001, 0.0051, 0.0101, 0.0151, 0.0201, 0.0251, 0.0301, 0.0351, 0.0401]\n",
      "[0.01, 0.04, 0.07, 0.1]\n",
      "[0.0, 0.25, 0.5, 0.75, 1.0, 1.25, 1.5, 1.75, 2.0]\n",
      "[-0.2, -0.1, 0.0, 0.1, 0.2]\n",
      "[0.0, 0.5, 1.0, 1.5, 2.0]\n"
     ]
    }
   ],
   "source": [
    "addm = aDDM(.005, .07, .3); # These can be anything. They exist because you need an aDDM object. (d, s, t).\n",
    "\n",
    "dataGain = load_data_from_csv(\"../../data/expdataGain.csv\", \"../../data/fixationsGain.csv\", convertItemValues=nothing)\n",
    "dataLoss = load_data_from_csv(\"../../data/expdataLoss.csv\", \"../../data/fixationsLoss.csv\", convertItemValues=nothing);\n",
    "\n",
    "subjectCount = length(collect(keys(dataGain)))\n",
    "\n",
    "pChangeNLLThreshold = 0.001 # How little should NLL change in order for us to stop zooming in with grid search? 0.1%\n",
    "\n",
    "dStepSize = .005 # Step sizes for the grids.\n",
    "σStepSize = .03\n",
    "θStepSize = .25\n",
    "bStepSize = .1\n",
    "kStepSize = .5\n",
    "\n",
    "dInitialGrid = Any[]\n",
    "σInitialGrid = Any[]\n",
    "θInitialGrid = Any[]\n",
    "bInitialGrid = Any[]\n",
    "kInitialGrid = Any[]\n",
    "for subject in collect(keys(dataGain))\n",
    "    push!(dInitialGrid, [0.0001:dStepSize:.0401;])   # d from .0001 to .008\n",
    "    push!(σInitialGrid, [0.01:σStepSize:.1;])      # σ from .01 to .1\n",
    "    push!(θInitialGrid, float([0:θStepSize:2;]))    # θ from 0 to 2\n",
    "    push!(bInitialGrid, [-.2:bStepSize:.2;])      # b from -.2 to .2\n",
    "    push!(kInitialGrid, [0:kStepSize:2;])      # k from 0 to 2\n",
    "end\n",
    "\n",
    "println(dInitialGrid[1])\n",
    "println(σInitialGrid[1])\n",
    "println(θInitialGrid[1])\n",
    "println(bInitialGrid[1])\n",
    "println(kInitialGrid[1])"
   ]
  },
  {
   "cell_type": "markdown",
   "metadata": {},
   "source": [
    "## Function: Make new grid with k"
   ]
  },
  {
   "cell_type": "code",
   "execution_count": 5,
   "metadata": {},
   "outputs": [
    {
     "data": {
      "text/plain": [
       "make_new_grid_RNP (generic function with 1 method)"
      ]
     },
     "metadata": {},
     "output_type": "display_data"
    }
   ],
   "source": [
    "function make_new_grid_RNP(estimates::DataFrame, data::Dict{String, Vector{aDDMTrial}}, dStepSize::Number, σStepSize::Number, θStepSize::Number, bStepSize::Number, kStepSize::Number, iteration::Number; bounded_theta::Bool)\n",
    "    \n",
    "    dGrid = Any[]\n",
    "    σGrid = Any[]\n",
    "    θGrid = Any[]\n",
    "    bGrid = Any[]\n",
    "    kGrid = Any[]\n",
    "\n",
    "    iteration = iteration-1 # Iteration in the while loops below start at 2 since we run the fitting once before the loop. Correct for this.\n",
    "    ind = 1\n",
    "    for subject in collect(keys(data))\n",
    "\n",
    "        d = estimates[(estimates.subject .== subject), \"d\"][1]\n",
    "        σ = estimates[(estimates.subject .== subject), \"s\"][1]\n",
    "        θ = estimates[(estimates.subject .== subject), \"t\"][1]\n",
    "        b = estimates[(estimates.subject .== subject), \"b\"][1]\n",
    "        k = estimates[(estimates.subject .== subject), \"k\"][1]\n",
    "\n",
    "        dLow = max(0.00001, d-(dStepSize/(2^iteration)));\n",
    "        dHigh = d+(dStepSize/(2^iteration));\n",
    "        σLow = max(0.001, σ-(σStepSize/(2^iteration)));\n",
    "        σHigh = σ+(σStepSize/(2^iteration));\n",
    "        if !bounded_theta\n",
    "            θLow = θ-(θStepSize/(2^iteration));\n",
    "            θHigh = θ+(θStepSize/(2^iteration));\n",
    "        else\n",
    "            θLow = max(0, θ-(θStepSize/(2^iteration)));\n",
    "            θHigh = min(1, θ+(θStepSize/(2^iteration)));\n",
    "        end\n",
    "        bLow = max(-.99, b-(bStepSize/(2^iteration)));\n",
    "        bHigh = min(.99, b+(bStepSize/(2^iteration)));\n",
    "        kLow = max(0, k-(kStepSize/(2^iteration)));\n",
    "        kHigh = k+(kStepSize/(2^iteration));\n",
    "\n",
    "        push!(dGrid, float([dLow, d, dHigh]))\n",
    "        push!(σGrid, float([σLow, σ, σHigh]))    \n",
    "        push!(θGrid, float([θLow, θ, θHigh]))           \n",
    "        push!(bGrid, float([bLow, b, bHigh]))  \n",
    "        push!(kGrid, float([kLow, k, kHigh]))  \n",
    "\n",
    "        ind += 1\n",
    "    end\n",
    "    return dGrid, σGrid, θGrid, bGrid, kGrid\n",
    "end"
   ]
  },
  {
   "cell_type": "markdown",
   "metadata": {},
   "source": [
    "## Grid search and results"
   ]
  },
  {
   "cell_type": "code",
   "execution_count": 6,
   "metadata": {},
   "outputs": [
    {
     "data": {
      "text/plain": [
       "fit_RNPaDDM_custom_resolution (generic function with 1 method)"
      ]
     },
     "metadata": {},
     "output_type": "display_data"
    }
   ],
   "source": [
    "function fit_RNPaDDM_custom_resolution(addm::aDDM, data::Dict{String, Vector{aDDMTrial}}, dGrid::Vector{Any}, σGrid::Vector{Any}, θGrid::Vector{Any}, bGrid::Vector{Any}, kGrid::Vector{Any}, subjectCount::Number; minValue::Number=-6, maxValue::Number=-1)\n",
    "    \"\"\"\n",
    "    \"\"\"\n",
    "\n",
    "    #print(\"Approx how many likelihoods to calculate per subject: \")\n",
    "    #print(length(dGrid[1])*length(σGrid[1])*length(θGrid[1])*length(bGrid[1]))\n",
    "\n",
    "    dList = Vector{Float64}(undef, subjectCount)\n",
    "    σList = Vector{Float64}(undef, subjectCount)\n",
    "    θList = Vector{Float64}(undef, subjectCount)\n",
    "    bList = Vector{Float64}(undef, subjectCount)\n",
    "    kList = Vector{Float64}(undef, subjectCount)\n",
    "    NLLsList = Vector{Float64}(undef, subjectCount);\n",
    "\n",
    "    ind = 1\n",
    "    @showprogress for subject in collect(keys(data))\n",
    "\n",
    "        dEst, σEst, θEst, bEst, kEst, NLL_Indiv = RNPaDDM_grid_search(addm, data, minValue, maxValue, dGrid[ind], σGrid[ind], θGrid[ind], bGrid[ind], kGrid[ind], subject)\n",
    "    \n",
    "        dList[ind] = dEst[1]\n",
    "        σList[ind] = σEst[1]\n",
    "        θList[ind] = θEst[1]\n",
    "        bList[ind] = bEst[1]\n",
    "        kList[ind] = kEst[1]\n",
    "        NLLsList[ind] = NLL_Indiv\n",
    "        ind += 1\n",
    "    \n",
    "    end\n",
    "\n",
    "    df = DataFrame(\n",
    "        subject = collect(keys(data)),\n",
    "        d = dList,\n",
    "        s = σList,\n",
    "        t = θList,\n",
    "        b = bList,\n",
    "        k = kList\n",
    "    )\n",
    "    df = sort(df, :subject)\n",
    "    return df, NLLsList\n",
    "end"
   ]
  },
  {
   "cell_type": "markdown",
   "metadata": {},
   "source": [
    "## Fit gain data"
   ]
  },
  {
   "cell_type": "code",
   "execution_count": 7,
   "metadata": {},
   "outputs": [
    {
     "name": "stderr",
     "output_type": "stream",
     "text": [
      "\r\u001b[32mProgress:   8%|███▏                                     |  ETA: 3:03:55\u001b[39m\u001b[K"
     ]
    },
    {
     "name": "stderr",
     "output_type": "stream",
     "text": [
      "\r\u001b[32mProgress:  12%|████▊                                    |  ETA: 3:07:19\u001b[39m\u001b[K"
     ]
    },
    {
     "name": "stderr",
     "output_type": "stream",
     "text": [
      "\r\u001b[32mProgress:  15%|██████▎                                  |  ETA: 3:21:50\u001b[39m\u001b[K"
     ]
    },
    {
     "name": "stderr",
     "output_type": "stream",
     "text": [
      "\r\u001b[32mProgress:  19%|███████▉                                 |  ETA: 3:10:10\u001b[39m\u001b[K"
     ]
    },
    {
     "name": "stderr",
     "output_type": "stream",
     "text": [
      "\r\u001b[32mProgress:  23%|█████████▌                               |  ETA: 2:57:40\u001b[39m\u001b[K"
     ]
    },
    {
     "name": "stderr",
     "output_type": "stream",
     "text": [
      "\r\u001b[32mProgress:  27%|███████████                              |  ETA: 2:47:21\u001b[39m\u001b[K"
     ]
    },
    {
     "name": "stderr",
     "output_type": "stream",
     "text": [
      "\r\u001b[32mProgress:  31%|████████████▋                            |  ETA: 2:33:24\u001b[39m\u001b[K"
     ]
    },
    {
     "name": "stderr",
     "output_type": "stream",
     "text": [
      "\r\u001b[32mProgress:  35%|██████████████▎                          |  ETA: 2:24:05\u001b[39m\u001b[K"
     ]
    },
    {
     "name": "stderr",
     "output_type": "stream",
     "text": [
      "\r\u001b[32mProgress:  38%|███████████████▊                         |  ETA: 2:15:38\u001b[39m\u001b[K"
     ]
    },
    {
     "name": "stderr",
     "output_type": "stream",
     "text": [
      "\r\u001b[32mProgress:  42%|█████████████████▍                       |  ETA: 2:01:40\u001b[39m\u001b[K"
     ]
    },
    {
     "name": "stderr",
     "output_type": "stream",
     "text": [
      "\r\u001b[32mProgress:  46%|██████████████████▉                      |  ETA: 1:48:38\u001b[39m\u001b[K"
     ]
    },
    {
     "name": "stderr",
     "output_type": "stream",
     "text": [
      "\r\u001b[32mProgress:  50%|████████████████████▌                    |  ETA: 1:38:52\u001b[39m\u001b[K"
     ]
    },
    {
     "name": "stderr",
     "output_type": "stream",
     "text": [
      "\r\u001b[32mProgress:  54%|██████████████████████▏                  |  ETA: 1:30:19\u001b[39m\u001b[K"
     ]
    },
    {
     "name": "stderr",
     "output_type": "stream",
     "text": [
      "\r\u001b[32mProgress:  58%|███████████████████████▋                 |  ETA: 1:21:47\u001b[39m\u001b[K"
     ]
    },
    {
     "name": "stderr",
     "output_type": "stream",
     "text": [
      "\r\u001b[32mProgress:  62%|█████████████████████████▎               |  ETA: 1:14:53\u001b[39m\u001b[K"
     ]
    },
    {
     "name": "stderr",
     "output_type": "stream",
     "text": [
      "\r\u001b[32mProgress:  65%|██████████████████████████▊              |  ETA: 1:09:51\u001b[39m\u001b[K"
     ]
    },
    {
     "name": "stderr",
     "output_type": "stream",
     "text": [
      "\r\u001b[32mProgress:  69%|████████████████████████████▍            |  ETA: 1:00:58\u001b[39m\u001b[K"
     ]
    },
    {
     "name": "stderr",
     "output_type": "stream",
     "text": [
      "\r\u001b[32mProgress:  73%|██████████████████████████████           |  ETA: 0:54:47\u001b[39m\u001b[K"
     ]
    },
    {
     "name": "stderr",
     "output_type": "stream",
     "text": [
      "\r\u001b[32mProgress:  77%|███████████████████████████████▌         |  ETA: 0:46:05\u001b[39m\u001b[K"
     ]
    },
    {
     "name": "stderr",
     "output_type": "stream",
     "text": [
      "\r\u001b[32mProgress:  81%|█████████████████████████████████▏       |  ETA: 0:39:08\u001b[39m\u001b[K"
     ]
    },
    {
     "name": "stderr",
     "output_type": "stream",
     "text": [
      "\r\u001b[32mProgress:  85%|██████████████████████████████████▊      |  ETA: 0:31:57\u001b[39m\u001b[K"
     ]
    },
    {
     "name": "stderr",
     "output_type": "stream",
     "text": [
      "\r\u001b[32mProgress:  88%|████████████████████████████████████▎    |  ETA: 0:24:30\u001b[39m\u001b[K"
     ]
    },
    {
     "name": "stderr",
     "output_type": "stream",
     "text": [
      "\r\u001b[32mProgress:  92%|█████████████████████████████████████▉   |  ETA: 0:16:30\u001b[39m\u001b[K"
     ]
    },
    {
     "name": "stderr",
     "output_type": "stream",
     "text": [
      "\r\u001b[32mProgress:  96%|███████████████████████████████████████▍ |  ETA: 0:08:23\u001b[39m\u001b[K"
     ]
    },
    {
     "name": "stderr",
     "output_type": "stream",
     "text": [
      "\r\u001b[32mProgress: 100%|█████████████████████████████████████████| Time: 3:37:09\u001b[39m\u001b[K\n"
     ]
    },
    {
     "name": "stdout",
     "output_type": "stream",
     "text": [
      "Iteration 1\n",
      "Old NLL missingNew NLL 13312.39741703841\n",
      "Percent Change missing\u001b[1m26×6 DataFrame\u001b[0m\n",
      "\u001b[1m Row \u001b[0m│\u001b[1m subject \u001b[0m\u001b[1m d       \u001b[0m\u001b[1m s       \u001b[0m\u001b[1m t       \u001b[0m\u001b[1m b       \u001b[0m\u001b[1m k       \u001b[0m\n",
      "     │\u001b[90m String  \u001b[0m\u001b[90m Float64 \u001b[0m\u001b[90m Float64 \u001b[0m\u001b[90m Float64 \u001b[0m\u001b[90m Float64 \u001b[0m\u001b[90m Float64 \u001b[0m\n",
      "─────┼──────────────────────────────────────────────────────\n",
      "   1 │ 201       0.0101     0.07     0.75      0.0      1.0\n",
      "   2 │ 202       0.0151     0.04     0.75      0.1      1.0\n",
      "   3 │ 204       0.0151     0.04     0.75      0.0      0.0\n",
      "   4 │ 205       0.0101     0.07     0.75      0.0      1.5\n",
      "   5 │ 206       0.0201     0.07     0.75      0.0      0.0\n",
      "   6 │ 207       0.0101     0.04     0.5       0.0      0.0\n",
      "   7 │ 208       0.0251     0.07     0.75      0.0      0.0\n",
      "   8 │ 209       0.0101     0.04     0.75      0.0      0.5\n",
      "   9 │ 211       0.0151     0.04     0.5       0.0      0.0\n",
      "  10 │ 213       0.0101     0.1      0.75      0.0      2.0\n",
      "  11 │ 214       0.0151     0.04     0.5       0.1      0.0\n",
      "  12 │ 215       0.0151     0.04     0.75      0.0      0.0\n",
      "  13 │ 216       0.0201     0.07     0.75     -0.1      0.5\n",
      "  14 │ 217       0.0101     0.04     0.75      0.0      0.5\n",
      "  15 │ 219       0.0101     0.07     1.0       0.0      0.0\n",
      "  16 │ 220       0.0201     0.04     0.75      0.0      0.0\n",
      "  17 │ 222       0.0101     0.04     1.0       0.0      0.0\n",
      "  18 │ 223       0.0151     0.04     0.75      0.1      0.0\n",
      "  19 │ 224       0.0101     0.07     0.25      0.0      0.5\n",
      "  20 │ 225       0.0251     0.07     0.75      0.0      0.0\n",
      "  21 │ 227       0.0151     0.07     0.5       0.0      0.0\n",
      "  22 │ 229       0.0151     0.07     0.75      0.0      0.0\n",
      "  23 │ 230       0.0101     0.04     0.75     -0.1      0.5\n",
      "  24 │ 231       0.0101     0.04     0.75      0.0      0.0\n",
      "  25 │ 232       0.0151     0.07     0.75      0.0      0.5\n",
      "  26 │ 233       0.0201     0.04     0.75      0.0      0.5"
     ]
    },
    {
     "name": "stdout",
     "output_type": "stream",
     "text": [
      "\n"
     ]
    },
    {
     "name": "stderr",
     "output_type": "stream",
     "text": [
      "\r\u001b[32mProgress:   8%|███▏                                     |  ETA: 0:05:19\u001b[39m\u001b[K"
     ]
    },
    {
     "name": "stderr",
     "output_type": "stream",
     "text": [
      "\r\u001b[32mProgress:  12%|████▊                                    |  ETA: 0:05:07\u001b[39m\u001b[K"
     ]
    },
    {
     "name": "stderr",
     "output_type": "stream",
     "text": [
      "\r\u001b[32mProgress:  15%|██████▎                                  |  ETA: 0:05:22\u001b[39m\u001b[K"
     ]
    },
    {
     "name": "stderr",
     "output_type": "stream",
     "text": [
      "\r\u001b[32mProgress:  19%|███████▉                                 |  ETA: 0:05:06\u001b[39m\u001b[K"
     ]
    },
    {
     "name": "stderr",
     "output_type": "stream",
     "text": [
      "\r\u001b[32mProgress:  23%|█████████▌                               |  ETA: 0:04:48\u001b[39m\u001b[K"
     ]
    },
    {
     "name": "stderr",
     "output_type": "stream",
     "text": [
      "\r\u001b[32mProgress:  27%|███████████                              |  ETA: 0:04:37\u001b[39m\u001b[K"
     ]
    },
    {
     "name": "stderr",
     "output_type": "stream",
     "text": [
      "\r\u001b[32mProgress:  31%|████████████▋                            |  ETA: 0:04:18\u001b[39m\u001b[K"
     ]
    },
    {
     "name": "stderr",
     "output_type": "stream",
     "text": [
      "\r\u001b[32mProgress:  35%|██████████████▎                          |  ETA: 0:04:07\u001b[39m\u001b[K"
     ]
    },
    {
     "name": "stderr",
     "output_type": "stream",
     "text": [
      "\r\u001b[32mProgress:  38%|███████████████▊                         |  ETA: 0:03:56\u001b[39m\u001b[K"
     ]
    },
    {
     "name": "stderr",
     "output_type": "stream",
     "text": [
      "\r\u001b[32mProgress:  42%|█████████████████▍                       |  ETA: 0:03:34\u001b[39m\u001b[K"
     ]
    },
    {
     "name": "stderr",
     "output_type": "stream",
     "text": [
      "\r\u001b[32mProgress:  46%|██████████████████▉                      |  ETA: 0:03:12\u001b[39m\u001b[K"
     ]
    },
    {
     "name": "stderr",
     "output_type": "stream",
     "text": [
      "\r\u001b[32mProgress:  50%|████████████████████▌                    |  ETA: 0:02:56\u001b[39m\u001b[K"
     ]
    },
    {
     "name": "stderr",
     "output_type": "stream",
     "text": [
      "\r\u001b[32mProgress:  54%|██████████████████████▏                  |  ETA: 0:02:42\u001b[39m\u001b[K"
     ]
    },
    {
     "name": "stderr",
     "output_type": "stream",
     "text": [
      "\r\u001b[32mProgress:  58%|███████████████████████▋                 |  ETA: 0:02:27\u001b[39m\u001b[K"
     ]
    },
    {
     "name": "stderr",
     "output_type": "stream",
     "text": [
      "\r\u001b[32mProgress:  62%|█████████████████████████▎               |  ETA: 0:02:16\u001b[39m\u001b[K"
     ]
    },
    {
     "name": "stderr",
     "output_type": "stream",
     "text": [
      "\r\u001b[32mProgress:  65%|██████████████████████████▊              |  ETA: 0:02:07\u001b[39m\u001b[K"
     ]
    },
    {
     "name": "stderr",
     "output_type": "stream",
     "text": [
      "\r\u001b[32mProgress:  69%|████████████████████████████▍            |  ETA: 0:01:51\u001b[39m\u001b[K"
     ]
    },
    {
     "name": "stderr",
     "output_type": "stream",
     "text": [
      "\r\u001b[32mProgress:  73%|██████████████████████████████           |  ETA: 0:01:38\u001b[39m\u001b[K"
     ]
    },
    {
     "name": "stderr",
     "output_type": "stream",
     "text": [
      "\r\u001b[32mProgress:  77%|███████████████████████████████▌         |  ETA: 0:01:22\u001b[39m\u001b[K"
     ]
    },
    {
     "name": "stderr",
     "output_type": "stream",
     "text": [
      "\r\u001b[32mProgress:  81%|█████████████████████████████████▏       |  ETA: 0:01:10\u001b[39m\u001b[K"
     ]
    },
    {
     "name": "stderr",
     "output_type": "stream",
     "text": [
      "\r\u001b[32mProgress:  85%|██████████████████████████████████▊      |  ETA: 0:00:57\u001b[39m\u001b[K"
     ]
    },
    {
     "name": "stderr",
     "output_type": "stream",
     "text": [
      "\r\u001b[32mProgress:  88%|████████████████████████████████████▎    |  ETA: 0:00:43\u001b[39m\u001b[K"
     ]
    },
    {
     "name": "stderr",
     "output_type": "stream",
     "text": [
      "\r\u001b[32mProgress:  92%|█████████████████████████████████████▉   |  ETA: 0:00:29\u001b[39m\u001b[K"
     ]
    },
    {
     "name": "stderr",
     "output_type": "stream",
     "text": [
      "\r\u001b[32mProgress:  96%|███████████████████████████████████████▍ |  ETA: 0:00:15\u001b[39m\u001b[K"
     ]
    },
    {
     "name": "stderr",
     "output_type": "stream",
     "text": [
      "\r\u001b[32mProgress: 100%|█████████████████████████████████████████| Time: 0:06:17\u001b[39m\u001b[K\n"
     ]
    },
    {
     "name": "stdout",
     "output_type": "stream",
     "text": [
      "Iteration 2\n",
      "Old NLL 13312.39741703841\n",
      "New NLL 13176.890079380943\n",
      "Percent Change 0.010179033378618401\n",
      "\u001b[1m26×6 DataFrame\u001b[0m\n",
      "\u001b[1m Row \u001b[0m│\u001b[1m subject \u001b[0m\u001b[1m d       \u001b[0m\u001b[1m s       \u001b[0m\u001b[1m t       \u001b[0m\u001b[1m b       \u001b[0m\u001b[1m k       \u001b[0m\n",
      "     │\u001b[90m String  \u001b[0m\u001b[90m Float64 \u001b[0m\u001b[90m Float64 \u001b[0m\u001b[90m Float64 \u001b[0m\u001b[90m Float64 \u001b[0m\u001b[90m Float64 \u001b[0m\n",
      "─────┼──────────────────────────────────────────────────────\n",
      "   1 │ 201       0.0101    0.055    0.875     0.0      1.25\n",
      "   2 │ 202       0.0126    0.04     0.75      0.05     1.25\n",
      "   3 │ 204       0.0126    0.055    0.75      0.0      0.0\n",
      "   4 │ 205       0.0101    0.07     0.75      0.0      1.5\n",
      "   5 │ 206       0.0201    0.055    0.75      0.0      0.0\n",
      "   6 │ 207       0.0101    0.04     0.625     0.0      0.0\n",
      "   7 │ 208       0.0226    0.07     0.875     0.0      0.25\n",
      "   8 │ 209       0.0076    0.055    0.875     0.0      0.75\n",
      "   9 │ 211       0.0151    0.04     0.625     0.0      0.0\n",
      "  10 │ 213       0.0126    0.085    0.75      0.0      2.0\n",
      "  11 │ 214       0.0151    0.04     0.5       0.05     0.0\n",
      "  12 │ 215       0.0126    0.055    0.75      0.0      0.25\n",
      "  13 │ 216       0.0201    0.055    0.75     -0.1      0.5\n",
      "  14 │ 217       0.0076    0.055    0.75      0.0      0.25\n",
      "  15 │ 219       0.0101    0.055    0.875     0.0      0.0\n",
      "  16 │ 220       0.0176    0.055    0.625     0.0      0.0\n",
      "  17 │ 222       0.0101    0.04     1.125     0.0      0.0\n",
      "  18 │ 223       0.0151    0.04     0.875     0.05     0.25\n",
      "  19 │ 224       0.0076    0.055    0.25      0.0      0.75\n",
      "  20 │ 225       0.0226    0.07     0.75      0.0      0.0\n",
      "  21 │ 227       0.0151    0.055    0.5       0.0      0.0\n",
      "  22 │ 229       0.0151    0.055    0.625     0.0      0.0\n",
      "  23 │ 230       0.0101    0.04     0.75     -0.1      0.25\n",
      "  24 │ 231       0.0076    0.055    0.75      0.0      0.0\n",
      "  25 │ 232       0.0176    0.07     0.625     0.0      0.25\n",
      "  26 │ 233       0.0176    0.055    0.625     0.0      0.25\n"
     ]
    },
    {
     "name": "stderr",
     "output_type": "stream",
     "text": [
      "\r\u001b[32mProgress:   8%|███▏                                     |  ETA: 0:06:04\u001b[39m\u001b[K"
     ]
    },
    {
     "name": "stderr",
     "output_type": "stream",
     "text": [
      "\r\u001b[32mProgress:  12%|████▊                                    |  ETA: 0:05:46\u001b[39m\u001b[K"
     ]
    },
    {
     "name": "stderr",
     "output_type": "stream",
     "text": [
      "\r\u001b[32mProgress:  15%|██████▎                                  |  ETA: 0:05:56\u001b[39m\u001b[K"
     ]
    },
    {
     "name": "stderr",
     "output_type": "stream",
     "text": [
      "\r\u001b[32mProgress:  19%|███████▉                                 |  ETA: 0:05:34\u001b[39m\u001b[K"
     ]
    },
    {
     "name": "stderr",
     "output_type": "stream",
     "text": [
      "\r\u001b[32mProgress:  23%|█████████▌                               |  ETA: 0:05:11\u001b[39m\u001b[K"
     ]
    },
    {
     "name": "stderr",
     "output_type": "stream",
     "text": [
      "\r\u001b[32mProgress:  27%|███████████                              |  ETA: 0:04:58\u001b[39m\u001b[K"
     ]
    },
    {
     "name": "stderr",
     "output_type": "stream",
     "text": [
      "\r\u001b[32mProgress:  31%|████████████▋                            |  ETA: 0:04:37\u001b[39m\u001b[K"
     ]
    },
    {
     "name": "stderr",
     "output_type": "stream",
     "text": [
      "\r\u001b[32mProgress:  35%|██████████████▎                          |  ETA: 0:04:24\u001b[39m\u001b[K"
     ]
    },
    {
     "name": "stderr",
     "output_type": "stream",
     "text": [
      "\r\u001b[32mProgress:  38%|███████████████▊                         |  ETA: 0:04:11\u001b[39m\u001b[K"
     ]
    },
    {
     "name": "stderr",
     "output_type": "stream",
     "text": [
      "\r\u001b[32mProgress:  42%|█████████████████▍                       |  ETA: 0:03:47\u001b[39m\u001b[K"
     ]
    },
    {
     "name": "stderr",
     "output_type": "stream",
     "text": [
      "\r\u001b[32mProgress:  46%|██████████████████▉                      |  ETA: 0:03:23\u001b[39m\u001b[K"
     ]
    },
    {
     "name": "stderr",
     "output_type": "stream",
     "text": [
      "\r\u001b[32mProgress:  50%|████████████████████▌                    |  ETA: 0:03:06\u001b[39m\u001b[K"
     ]
    },
    {
     "name": "stderr",
     "output_type": "stream",
     "text": [
      "\r\u001b[32mProgress:  54%|██████████████████████▏                  |  ETA: 0:02:51\u001b[39m\u001b[K"
     ]
    },
    {
     "name": "stderr",
     "output_type": "stream",
     "text": [
      "\r\u001b[32mProgress:  58%|███████████████████████▋                 |  ETA: 0:02:36\u001b[39m\u001b[K"
     ]
    },
    {
     "name": "stderr",
     "output_type": "stream",
     "text": [
      "\r\u001b[32mProgress:  62%|█████████████████████████▎               |  ETA: 0:02:24\u001b[39m\u001b[K"
     ]
    },
    {
     "name": "stderr",
     "output_type": "stream",
     "text": [
      "\r\u001b[32mProgress:  65%|██████████████████████████▊              |  ETA: 0:02:14\u001b[39m\u001b[K"
     ]
    },
    {
     "name": "stderr",
     "output_type": "stream",
     "text": [
      "\r\u001b[32mProgress:  69%|████████████████████████████▍            |  ETA: 0:01:56\u001b[39m\u001b[K"
     ]
    },
    {
     "name": "stderr",
     "output_type": "stream",
     "text": [
      "\r\u001b[32mProgress:  73%|██████████████████████████████           |  ETA: 0:01:43\u001b[39m\u001b[K"
     ]
    },
    {
     "name": "stderr",
     "output_type": "stream",
     "text": [
      "\r\u001b[32mProgress:  77%|███████████████████████████████▌         |  ETA: 0:01:26\u001b[39m\u001b[K"
     ]
    },
    {
     "name": "stderr",
     "output_type": "stream",
     "text": [
      "\r\u001b[32mProgress:  81%|█████████████████████████████████▏       |  ETA: 0:01:13\u001b[39m\u001b[K"
     ]
    },
    {
     "name": "stderr",
     "output_type": "stream",
     "text": [
      "\r\u001b[32mProgress:  85%|██████████████████████████████████▊      |  ETA: 0:01:00\u001b[39m\u001b[K"
     ]
    },
    {
     "name": "stderr",
     "output_type": "stream",
     "text": [
      "\r\u001b[32mProgress:  88%|████████████████████████████████████▎    |  ETA: 0:00:45\u001b[39m\u001b[K"
     ]
    },
    {
     "name": "stderr",
     "output_type": "stream",
     "text": [
      "\r\u001b[32mProgress:  92%|█████████████████████████████████████▉   |  ETA: 0:00:30\u001b[39m\u001b[K"
     ]
    },
    {
     "name": "stderr",
     "output_type": "stream",
     "text": [
      "\r\u001b[32mProgress:  96%|███████████████████████████████████████▍ |  ETA: 0:00:15\u001b[39m\u001b[K"
     ]
    },
    {
     "name": "stderr",
     "output_type": "stream",
     "text": [
      "\r\u001b[32mProgress: 100%|█████████████████████████████████████████| Time: 0:06:33\u001b[39m\u001b[K\n"
     ]
    },
    {
     "name": "stdout",
     "output_type": "stream",
     "text": [
      "Iteration 3\n",
      "Old NLL 13176.890079380943\n",
      "New NLL 13084.846470390688\n",
      "Percent Change 0.006985230083559929\n",
      "\u001b[1m26×6 DataFrame\u001b[0m\n",
      "\u001b[1m Row \u001b[0m│\u001b[1m subject \u001b[0m\u001b[1m d       \u001b[0m\u001b[1m s       \u001b[0m\u001b[1m t       \u001b[0m\u001b[1m b       \u001b[0m\u001b[1m k       \u001b[0m\n",
      "     │\u001b[90m String  \u001b[0m\u001b[90m Float64 \u001b[0m\u001b[90m Float64 \u001b[0m\u001b[90m Float64 \u001b[0m\u001b[90m Float64 \u001b[0m\u001b[90m Float64 \u001b[0m\n",
      "─────┼──────────────────────────────────────────────────────\n",
      "   1 │ 201      0.01135   0.0475   0.8125   -0.025    1.125\n",
      "   2 │ 202      0.01385   0.04     0.75      0.05     1.125\n",
      "   3 │ 204      0.0126    0.0475   0.8125   -0.025    0.0\n",
      "   4 │ 205      0.00885   0.0625   0.75     -0.025    1.625\n",
      "   5 │ 206      0.0201    0.0625   0.75     -0.025    0.0\n",
      "   6 │ 207      0.00885   0.0475   0.5625   -0.025    0.0\n",
      "   7 │ 208      0.0226    0.07     0.875    -0.025    0.125\n",
      "   8 │ 209      0.0076    0.0475   0.875    -0.025    0.875\n",
      "   9 │ 211      0.01385   0.04     0.6875   -0.025    0.125\n",
      "  10 │ 213      0.01135   0.085    0.75     -0.025    2.125\n",
      "  11 │ 214      0.01385   0.0475   0.4375    0.05     0.0\n",
      "  12 │ 215      0.01135   0.0475   0.8125   -0.025    0.375\n",
      "  13 │ 216      0.02135   0.0475   0.75     -0.125    0.375\n",
      "  14 │ 217      0.0076    0.0475   0.8125   -0.025    0.375\n",
      "  15 │ 219      0.0101    0.0475   0.875    -0.025    0.0\n",
      "  16 │ 220      0.01635   0.0475   0.6875   -0.025    0.0\n",
      "  17 │ 222      0.00885   0.0475   1.0625   -0.025    0.0\n",
      "  18 │ 223      0.01385   0.0475   0.8125    0.025    0.125\n",
      "  19 │ 224      0.00885   0.055    0.3125   -0.025    0.875\n",
      "  20 │ 225      0.02135   0.0625   0.8125   -0.025    0.0\n",
      "  21 │ 227      0.0151    0.0475   0.5      -0.025    0.125\n",
      "  22 │ 229      0.01635   0.0475   0.625    -0.025    0.0\n",
      "  23 │ 230      0.00885   0.0475   0.6875   -0.125    0.125\n",
      "  24 │ 231      0.0076    0.0475   0.8125   -0.025    0.125\n",
      "  25 │ 232      0.01635   0.0625   0.5625   -0.025    0.125\n",
      "  26 │ 233      0.01635   0.0475   0.6875   -0.025    0.375\n"
     ]
    },
    {
     "name": "stderr",
     "output_type": "stream",
     "text": [
      "\r\u001b[32mProgress:   8%|███▏                                     |  ETA: 0:05:42\u001b[39m\u001b[K"
     ]
    },
    {
     "name": "stderr",
     "output_type": "stream",
     "text": [
      "\r\u001b[32mProgress:  12%|████▊                                    |  ETA: 0:05:36\u001b[39m\u001b[K"
     ]
    },
    {
     "name": "stderr",
     "output_type": "stream",
     "text": [
      "\r\u001b[32mProgress:  15%|██████▎                                  |  ETA: 0:05:50\u001b[39m\u001b[K"
     ]
    },
    {
     "name": "stderr",
     "output_type": "stream",
     "text": [
      "\r\u001b[32mProgress:  19%|███████▉                                 |  ETA: 0:05:37\u001b[39m\u001b[K"
     ]
    },
    {
     "name": "stderr",
     "output_type": "stream",
     "text": [
      "\r\u001b[32mProgress:  23%|█████████▌                               |  ETA: 0:05:18\u001b[39m\u001b[K"
     ]
    },
    {
     "name": "stderr",
     "output_type": "stream",
     "text": [
      "\r\u001b[32mProgress:  27%|███████████                              |  ETA: 0:05:08\u001b[39m\u001b[K"
     ]
    },
    {
     "name": "stderr",
     "output_type": "stream",
     "text": [
      "\r\u001b[32mProgress:  31%|████████████▋                            |  ETA: 0:04:46\u001b[39m\u001b[K"
     ]
    },
    {
     "name": "stderr",
     "output_type": "stream",
     "text": [
      "\r\u001b[32mProgress:  35%|██████████████▎                          |  ETA: 0:04:33\u001b[39m\u001b[K"
     ]
    },
    {
     "name": "stderr",
     "output_type": "stream",
     "text": [
      "\r\u001b[32mProgress:  38%|███████████████▊                         |  ETA: 0:04:18\u001b[39m\u001b[K"
     ]
    },
    {
     "name": "stderr",
     "output_type": "stream",
     "text": [
      "\r\u001b[32mProgress:  42%|█████████████████▍                       |  ETA: 0:03:53\u001b[39m\u001b[K"
     ]
    },
    {
     "name": "stderr",
     "output_type": "stream",
     "text": [
      "\r\u001b[32mProgress:  46%|██████████████████▉                      |  ETA: 0:03:29\u001b[39m\u001b[K"
     ]
    },
    {
     "name": "stderr",
     "output_type": "stream",
     "text": [
      "\r\u001b[32mProgress:  50%|████████████████████▌                    |  ETA: 0:03:11\u001b[39m\u001b[K"
     ]
    },
    {
     "name": "stderr",
     "output_type": "stream",
     "text": [
      "\r\u001b[32mProgress:  54%|██████████████████████▏                  |  ETA: 0:02:55\u001b[39m\u001b[K"
     ]
    },
    {
     "name": "stderr",
     "output_type": "stream",
     "text": [
      "\r\u001b[32mProgress:  58%|███████████████████████▋                 |  ETA: 0:02:39\u001b[39m\u001b[K"
     ]
    },
    {
     "name": "stderr",
     "output_type": "stream",
     "text": [
      "\r\u001b[32mProgress:  62%|█████████████████████████▎               |  ETA: 0:02:28\u001b[39m\u001b[K"
     ]
    },
    {
     "name": "stderr",
     "output_type": "stream",
     "text": [
      "\r\u001b[32mProgress:  65%|██████████████████████████▊              |  ETA: 0:02:18\u001b[39m\u001b[K"
     ]
    },
    {
     "name": "stderr",
     "output_type": "stream",
     "text": [
      "\r\u001b[32mProgress:  69%|████████████████████████████▍            |  ETA: 0:02:01\u001b[39m\u001b[K"
     ]
    },
    {
     "name": "stderr",
     "output_type": "stream",
     "text": [
      "\r\u001b[32mProgress:  73%|██████████████████████████████           |  ETA: 0:01:47\u001b[39m\u001b[K"
     ]
    },
    {
     "name": "stderr",
     "output_type": "stream",
     "text": [
      "\r\u001b[32mProgress:  77%|███████████████████████████████▌         |  ETA: 0:01:30\u001b[39m\u001b[K"
     ]
    },
    {
     "name": "stderr",
     "output_type": "stream",
     "text": [
      "\r\u001b[32mProgress:  81%|█████████████████████████████████▏       |  ETA: 0:01:16\u001b[39m\u001b[K"
     ]
    },
    {
     "name": "stderr",
     "output_type": "stream",
     "text": [
      "\r\u001b[32mProgress:  85%|██████████████████████████████████▊      |  ETA: 0:01:02\u001b[39m\u001b[K"
     ]
    },
    {
     "name": "stderr",
     "output_type": "stream",
     "text": [
      "\r\u001b[32mProgress:  88%|████████████████████████████████████▎    |  ETA: 0:00:47\u001b[39m\u001b[K"
     ]
    },
    {
     "name": "stderr",
     "output_type": "stream",
     "text": [
      "\r\u001b[32mProgress:  92%|█████████████████████████████████████▉   |  ETA: 0:00:31\u001b[39m\u001b[K"
     ]
    },
    {
     "name": "stderr",
     "output_type": "stream",
     "text": [
      "\r\u001b[32mProgress:  96%|███████████████████████████████████████▍ |  ETA: 0:00:16\u001b[39m\u001b[K"
     ]
    },
    {
     "name": "stderr",
     "output_type": "stream",
     "text": [
      "\r\u001b[32mProgress: 100%|█████████████████████████████████████████| Time: 0:06:47\u001b[39m\u001b[K\n"
     ]
    },
    {
     "name": "stdout",
     "output_type": "stream",
     "text": [
      "Iteration 4\n",
      "Old NLL 13084.846470390688\n",
      "New NLL 13065.498459790779\n",
      "Percent Change 0.0014786578232837294\n",
      "\u001b[1m26×6 DataFrame\u001b[0m\n",
      "\u001b[1m Row \u001b[0m│\u001b[1m subject \u001b[0m\u001b[1m d        \u001b[0m\u001b[1m s       \u001b[0m\u001b[1m t       \u001b[0m\u001b[1m b       \u001b[0m\u001b[1m k       \u001b[0m\n",
      "     │\u001b[90m String  \u001b[0m\u001b[90m Float64  \u001b[0m\u001b[90m Float64 \u001b[0m\u001b[90m Float64 \u001b[0m\u001b[90m Float64 \u001b[0m\u001b[90m Float64 \u001b[0m\n",
      "─────┼───────────────────────────────────────────────────────\n",
      "   1 │ 201      0.010725  0.05125  0.8125   -0.0375   1.1875\n",
      "   2 │ 202      0.013225  0.04375  0.78125   0.0375   1.0625\n",
      "   3 │ 204      0.013225  0.04375  0.8125   -0.0375   0.0625\n",
      "   4 │ 205      0.009475  0.0625   0.78125  -0.0375   1.6875\n",
      "   5 │ 206      0.0201    0.0625   0.78125  -0.0375   0.0625\n",
      "   6 │ 207      0.008225  0.04375  0.59375  -0.0375   0.0625\n",
      "   7 │ 208      0.023225  0.07375  0.84375  -0.0375   0.0625\n",
      "   8 │ 209      0.008225  0.0475   0.875    -0.0375   0.9375\n",
      "   9 │ 211      0.013225  0.04     0.71875  -0.0375   0.1875\n",
      "  10 │ 213      0.01135   0.085    0.75     -0.0375   2.1875\n",
      "  11 │ 214      0.013225  0.04375  0.46875   0.05     0.0\n",
      "  12 │ 215      0.01135   0.0475   0.84375  -0.0375   0.4375\n",
      "  13 │ 216      0.02135   0.05125  0.71875  -0.1375   0.3125\n",
      "  14 │ 217      0.0076    0.0475   0.8125   -0.0375   0.4375\n",
      "  15 │ 219      0.009475  0.0475   0.90625  -0.0375   0.0\n",
      "  16 │ 220      0.015725  0.0475   0.71875  -0.0375   0.0625\n",
      "  17 │ 222      0.009475  0.04375  1.03125  -0.0375   0.0\n",
      "  18 │ 223      0.013225  0.04375  0.84375   0.0125   0.125\n",
      "  19 │ 224      0.008225  0.055    0.34375  -0.0375   0.9375\n",
      "  20 │ 225      0.021975  0.0625   0.78125  -0.0375   0.0\n",
      "  21 │ 227      0.0151    0.0475   0.53125  -0.0375   0.1875\n",
      "  22 │ 229      0.015725  0.0475   0.65625  -0.0375   0.0\n",
      "  23 │ 230      0.00885   0.04375  0.71875  -0.1375   0.1875\n",
      "  24 │ 231      0.0076    0.04375  0.84375  -0.0375   0.1875\n",
      "  25 │ 232      0.016975  0.06625  0.53125  -0.0375   0.125\n",
      "  26 │ 233      0.01635   0.0475   0.71875  -0.0375   0.4375\n"
     ]
    },
    {
     "name": "stderr",
     "output_type": "stream",
     "text": [
      "\r\u001b[32mProgress:   8%|███▏                                     |  ETA: 0:06:06\u001b[39m\u001b[K"
     ]
    },
    {
     "name": "stderr",
     "output_type": "stream",
     "text": [
      "\r\u001b[32mProgress:  12%|████▊                                    |  ETA: 0:05:52\u001b[39m\u001b[K"
     ]
    },
    {
     "name": "stderr",
     "output_type": "stream",
     "text": [
      "\r\u001b[32mProgress:  15%|██████▎                                  |  ETA: 0:06:03\u001b[39m\u001b[K"
     ]
    },
    {
     "name": "stderr",
     "output_type": "stream",
     "text": [
      "\r\u001b[32mProgress:  19%|███████▉                                 |  ETA: 0:05:41\u001b[39m\u001b[K"
     ]
    },
    {
     "name": "stderr",
     "output_type": "stream",
     "text": [
      "\r\u001b[32mProgress:  23%|█████████▌                               |  ETA: 0:05:18\u001b[39m\u001b[K"
     ]
    },
    {
     "name": "stderr",
     "output_type": "stream",
     "text": [
      "\r\u001b[32mProgress:  27%|███████████                              |  ETA: 0:05:04\u001b[39m\u001b[K"
     ]
    },
    {
     "name": "stderr",
     "output_type": "stream",
     "text": [
      "\r\u001b[32mProgress:  31%|████████████▋                            |  ETA: 0:04:43\u001b[39m\u001b[K"
     ]
    },
    {
     "name": "stderr",
     "output_type": "stream",
     "text": [
      "\r\u001b[32mProgress:  35%|██████████████▎                          |  ETA: 0:04:30\u001b[39m\u001b[K"
     ]
    },
    {
     "name": "stderr",
     "output_type": "stream",
     "text": [
      "\r\u001b[32mProgress:  38%|███████████████▊                         |  ETA: 0:04:19\u001b[39m\u001b[K"
     ]
    },
    {
     "name": "stderr",
     "output_type": "stream",
     "text": [
      "\r\u001b[32mProgress:  42%|█████████████████▍                       |  ETA: 0:03:54\u001b[39m\u001b[K"
     ]
    },
    {
     "name": "stderr",
     "output_type": "stream",
     "text": [
      "\r\u001b[32mProgress:  46%|██████████████████▉                      |  ETA: 0:03:29\u001b[39m\u001b[K"
     ]
    },
    {
     "name": "stderr",
     "output_type": "stream",
     "text": [
      "\r\u001b[32mProgress:  50%|████████████████████▌                    |  ETA: 0:03:12\u001b[39m\u001b[K"
     ]
    },
    {
     "name": "stderr",
     "output_type": "stream",
     "text": [
      "\r\u001b[32mProgress:  54%|██████████████████████▏                  |  ETA: 0:02:56\u001b[39m\u001b[K"
     ]
    },
    {
     "name": "stderr",
     "output_type": "stream",
     "text": [
      "\r\u001b[32mProgress:  58%|███████████████████████▋                 |  ETA: 0:02:40\u001b[39m\u001b[K"
     ]
    },
    {
     "name": "stderr",
     "output_type": "stream",
     "text": [
      "\r\u001b[32mProgress:  62%|█████████████████████████▎               |  ETA: 0:02:28\u001b[39m\u001b[K"
     ]
    },
    {
     "name": "stderr",
     "output_type": "stream",
     "text": [
      "\r\u001b[32mProgress:  65%|██████████████████████████▊              |  ETA: 0:02:17\u001b[39m\u001b[K"
     ]
    },
    {
     "name": "stderr",
     "output_type": "stream",
     "text": [
      "\r\u001b[32mProgress:  69%|████████████████████████████▍            |  ETA: 0:01:58\u001b[39m\u001b[K"
     ]
    },
    {
     "name": "stderr",
     "output_type": "stream",
     "text": [
      "\r\u001b[32mProgress:  73%|██████████████████████████████           |  ETA: 0:01:45\u001b[39m\u001b[K"
     ]
    },
    {
     "name": "stderr",
     "output_type": "stream",
     "text": [
      "\r\u001b[32mProgress:  77%|███████████████████████████████▌         |  ETA: 0:01:28\u001b[39m\u001b[K"
     ]
    },
    {
     "name": "stderr",
     "output_type": "stream",
     "text": [
      "\r\u001b[32mProgress:  81%|█████████████████████████████████▏       |  ETA: 0:01:14\u001b[39m\u001b[K"
     ]
    },
    {
     "name": "stderr",
     "output_type": "stream",
     "text": [
      "\r\u001b[32mProgress:  85%|██████████████████████████████████▊      |  ETA: 0:01:01\u001b[39m\u001b[K"
     ]
    },
    {
     "name": "stderr",
     "output_type": "stream",
     "text": [
      "\r\u001b[32mProgress:  88%|████████████████████████████████████▎    |  ETA: 0:00:46\u001b[39m\u001b[K"
     ]
    },
    {
     "name": "stderr",
     "output_type": "stream",
     "text": [
      "\r\u001b[32mProgress:  92%|█████████████████████████████████████▉   |  ETA: 0:00:31\u001b[39m\u001b[K"
     ]
    },
    {
     "name": "stderr",
     "output_type": "stream",
     "text": [
      "\r\u001b[32mProgress:  96%|███████████████████████████████████████▍ |  ETA: 0:00:15\u001b[39m\u001b[K"
     ]
    },
    {
     "name": "stderr",
     "output_type": "stream",
     "text": [
      "\r\u001b[32mProgress: 100%|█████████████████████████████████████████| Time: 0:06:40\u001b[39m\u001b[K\n"
     ]
    },
    {
     "name": "stdout",
     "output_type": "stream",
     "text": [
      "Iteration 5\n",
      "Old NLL 13065.498459790779\n",
      "New NLL 13059.629768971427\n",
      "Percent Change 0.00044917465930696476\n",
      "\u001b[1m26×6 DataFrame\u001b[0m\n",
      "\u001b[1m Row \u001b[0m│\u001b[1m subject \u001b[0m\u001b[1m d         \u001b[0m\u001b[1m s        \u001b[0m\u001b[1m t        \u001b[0m\u001b[1m b        \u001b[0m\u001b[1m k       \u001b[0m\n",
      "     │\u001b[90m String  \u001b[0m\u001b[90m Float64   \u001b[0m\u001b[90m Float64  \u001b[0m\u001b[90m Float64  \u001b[0m\u001b[90m Float64  \u001b[0m\u001b[90m Float64 \u001b[0m\n",
      "─────┼───────────────────────────────────────────────────────────\n",
      "   1 │ 201      0.0110375  0.05125   0.828125  -0.04375  1.21875\n",
      "   2 │ 202      0.0129125  0.041875  0.765625   0.03125  1.09375\n",
      "   3 │ 204      0.0129125  0.045625  0.796875  -0.04375  0.03125\n",
      "   4 │ 205      0.0091625  0.0625    0.78125   -0.04375  1.71875\n",
      "   5 │ 206      0.0201     0.060625  0.765625  -0.04375  0.03125\n",
      "   6 │ 207      0.0079125  0.045625  0.609375  -0.04375  0.09375\n",
      "   7 │ 208      0.0235375  0.07375   0.828125  -0.04375  0.03125\n",
      "   8 │ 209      0.0079125  0.0475    0.890625  -0.04375  0.96875\n",
      "   9 │ 211      0.0129125  0.041875  0.703125  -0.04375  0.15625\n",
      "  10 │ 213      0.0116625  0.085     0.765625  -0.04375  2.21875\n",
      "  11 │ 214      0.0129125  0.04375   0.46875    0.05     0.0\n",
      "  12 │ 215      0.0116625  0.045625  0.859375  -0.04375  0.46875\n",
      "  13 │ 216      0.02135    0.05125   0.703125  -0.1375   0.28125\n",
      "  14 │ 217      0.0072875  0.0475    0.8125    -0.04375  0.46875\n",
      "  15 │ 219      0.0091625  0.049375  0.921875  -0.04375  0.0\n",
      "  16 │ 220      0.015725   0.045625  0.734375  -0.04375  0.09375\n",
      "  17 │ 222      0.009475   0.04375   1.01562   -0.04375  0.0\n",
      "  18 │ 223      0.013225   0.04375   0.859375   0.00625  0.15625\n",
      "  19 │ 224      0.0085375  0.053125  0.359375  -0.04375  0.96875\n",
      "  20 │ 225      0.021975   0.0625    0.796875  -0.04375  0.0\n",
      "  21 │ 227      0.0147875  0.049375  0.546875  -0.04375  0.21875\n",
      "  22 │ 229      0.015725   0.0475    0.671875  -0.04375  0.03125\n",
      "  23 │ 230      0.0085375  0.045625  0.71875   -0.1375   0.21875\n",
      "  24 │ 231      0.0072875  0.045625  0.859375  -0.04375  0.21875\n",
      "  25 │ 232      0.0172875  0.064375  0.515625  -0.04375  0.09375\n",
      "  26 │ 233      0.01635    0.0475    0.734375  -0.04375  0.46875\n"
     ]
    },
    {
     "name": "stderr",
     "output_type": "stream",
     "text": [
      "\r\u001b[32mProgress:   8%|███▏                                     |  ETA: 0:06:23\u001b[39m\u001b[K"
     ]
    },
    {
     "name": "stderr",
     "output_type": "stream",
     "text": [
      "\r\u001b[32mProgress:  12%|████▊                                    |  ETA: 0:06:02\u001b[39m\u001b[K"
     ]
    },
    {
     "name": "stderr",
     "output_type": "stream",
     "text": [
      "\r\u001b[32mProgress:  15%|██████▎                                  |  ETA: 0:06:09\u001b[39m\u001b[K"
     ]
    },
    {
     "name": "stderr",
     "output_type": "stream",
     "text": [
      "\r\u001b[32mProgress:  19%|███████▉                                 |  ETA: 0:05:44\u001b[39m\u001b[K"
     ]
    },
    {
     "name": "stderr",
     "output_type": "stream",
     "text": [
      "\r\u001b[32mProgress:  23%|█████████▌                               |  ETA: 0:05:18\u001b[39m\u001b[K"
     ]
    },
    {
     "name": "stderr",
     "output_type": "stream",
     "text": [
      "\r\u001b[32mProgress:  27%|███████████                              |  ETA: 0:05:01\u001b[39m\u001b[K"
     ]
    },
    {
     "name": "stderr",
     "output_type": "stream",
     "text": [
      "\r\u001b[32mProgress:  31%|████████████▋                            |  ETA: 0:04:39\u001b[39m\u001b[K"
     ]
    },
    {
     "name": "stderr",
     "output_type": "stream",
     "text": [
      "\r\u001b[32mProgress:  35%|██████████████▎                          |  ETA: 0:04:24\u001b[39m\u001b[K"
     ]
    },
    {
     "name": "stderr",
     "output_type": "stream",
     "text": [
      "\r\u001b[32mProgress:  38%|███████████████▊                         |  ETA: 0:04:10\u001b[39m\u001b[K"
     ]
    },
    {
     "name": "stderr",
     "output_type": "stream",
     "text": [
      "\r\u001b[32mProgress:  42%|█████████████████▍                       |  ETA: 0:03:45\u001b[39m\u001b[K"
     ]
    },
    {
     "name": "stderr",
     "output_type": "stream",
     "text": [
      "\r\u001b[32mProgress:  46%|██████████████████▉                      |  ETA: 0:03:21\u001b[39m\u001b[K"
     ]
    },
    {
     "name": "stderr",
     "output_type": "stream",
     "text": [
      "\r\u001b[32mProgress:  50%|████████████████████▌                    |  ETA: 0:03:04\u001b[39m\u001b[K"
     ]
    },
    {
     "name": "stderr",
     "output_type": "stream",
     "text": [
      "\r\u001b[32mProgress:  54%|██████████████████████▏                  |  ETA: 0:02:48\u001b[39m\u001b[K"
     ]
    },
    {
     "name": "stderr",
     "output_type": "stream",
     "text": [
      "\r\u001b[32mProgress:  58%|███████████████████████▋                 |  ETA: 0:02:33\u001b[39m\u001b[K"
     ]
    },
    {
     "name": "stderr",
     "output_type": "stream",
     "text": [
      "\r\u001b[32mProgress:  62%|█████████████████████████▎               |  ETA: 0:02:20\u001b[39m\u001b[K"
     ]
    },
    {
     "name": "stderr",
     "output_type": "stream",
     "text": [
      "\r\u001b[32mProgress:  65%|██████████████████████████▊              |  ETA: 0:02:10\u001b[39m\u001b[K"
     ]
    },
    {
     "name": "stderr",
     "output_type": "stream",
     "text": [
      "\r\u001b[32mProgress:  69%|████████████████████████████▍            |  ETA: 0:01:52\u001b[39m\u001b[K"
     ]
    },
    {
     "name": "stderr",
     "output_type": "stream",
     "text": [
      "\r\u001b[32mProgress:  73%|██████████████████████████████           |  ETA: 0:01:39\u001b[39m\u001b[K"
     ]
    },
    {
     "name": "stderr",
     "output_type": "stream",
     "text": [
      "\r\u001b[32mProgress:  77%|███████████████████████████████▌         |  ETA: 0:01:23\u001b[39m\u001b[K"
     ]
    },
    {
     "name": "stderr",
     "output_type": "stream",
     "text": [
      "\r\u001b[32mProgress:  81%|█████████████████████████████████▏       |  ETA: 0:01:09\u001b[39m\u001b[K"
     ]
    },
    {
     "name": "stderr",
     "output_type": "stream",
     "text": [
      "\r\u001b[32mProgress:  85%|██████████████████████████████████▊      |  ETA: 0:00:56\u001b[39m\u001b[K"
     ]
    },
    {
     "name": "stderr",
     "output_type": "stream",
     "text": [
      "\r\u001b[32mProgress:  88%|████████████████████████████████████▎    |  ETA: 0:00:43\u001b[39m\u001b[K"
     ]
    },
    {
     "name": "stderr",
     "output_type": "stream",
     "text": [
      "\r\u001b[32mProgress:  92%|█████████████████████████████████████▉   |  ETA: 0:00:28\u001b[39m\u001b[K"
     ]
    },
    {
     "name": "stderr",
     "output_type": "stream",
     "text": [
      "\r\u001b[32mProgress:  96%|███████████████████████████████████████▍ |  ETA: 0:00:14\u001b[39m\u001b[K"
     ]
    },
    {
     "name": "stderr",
     "output_type": "stream",
     "text": [
      "\r\u001b[32mProgress: 100%|█████████████████████████████████████████| Time: 0:06:06\u001b[39m\u001b[K\n"
     ]
    },
    {
     "name": "stdout",
     "output_type": "stream",
     "text": [
      "Iteration 6\n",
      "Old NLL 13059.629768971427\n",
      "New NLL 13057.553657394437\n",
      "Percent Change 0.00015897170239250358\n",
      "\u001b[1m26×6 DataFrame\u001b[0m\n",
      "\u001b[1m Row \u001b[0m│\u001b[1m subject \u001b[0m\u001b[1m d          \u001b[0m\u001b[1m s         \u001b[0m\u001b[1m t        \u001b[0m\u001b[1m b         \u001b[0m\u001b[1m k        \u001b[0m\n",
      "     │\u001b[90m String  \u001b[0m\u001b[90m Float64    \u001b[0m\u001b[90m Float64   \u001b[0m\u001b[90m Float64  \u001b[0m\u001b[90m Float64   \u001b[0m\u001b[90m Float64  \u001b[0m\n",
      "─────┼───────────────────────────────────────────────────────────────\n",
      "   1 │ 201      0.0110375   0.0503125  0.828125  -0.046875  1.23438\n",
      "   2 │ 202      0.0127562   0.0428125  0.765625   0.028125  1.09375\n",
      "   3 │ 204      0.0127563   0.0446875  0.804688  -0.046875  0.03125\n",
      "   4 │ 205      0.0091625   0.0615625  0.78125   -0.046875  1.73438\n",
      "   5 │ 206      0.0201      0.060625   0.773438  -0.046875  0.046875\n",
      "   6 │ 207      0.0079125   0.0446875  0.617188  -0.046875  0.109375\n",
      "   7 │ 208      0.0236938   0.0728125  0.820312  -0.046875  0.015625\n",
      "   8 │ 209      0.00806875  0.0465625  0.882812  -0.046875  0.984375\n",
      "   9 │ 211      0.0127563   0.041875   0.710938  -0.046875  0.140625\n",
      "  10 │ 213      0.0116625   0.085      0.765625  -0.046875  2.23438\n",
      "  11 │ 214      0.0127563   0.04375    0.476562   0.05      0.0\n",
      "  12 │ 215      0.0116625   0.045625   0.851562  -0.046875  0.484375\n",
      "  13 │ 216      0.02135     0.0503125  0.703125  -0.140625  0.265625\n",
      "  14 │ 217      0.00744375  0.0465625  0.820312  -0.046875  0.484375\n",
      "  15 │ 219      0.00931875  0.0484375  0.921875  -0.046875  0.0\n",
      "  16 │ 220      0.0155687   0.0465625  0.742188  -0.046875  0.109375\n",
      "  17 │ 222      0.00963125  0.0428125  1.00781   -0.046875  0.0\n",
      "  18 │ 223      0.0130688   0.04375    0.867188   0.003125  0.171875\n",
      "  19 │ 224      0.00838125  0.053125   0.367188  -0.046875  0.984375\n",
      "  20 │ 225      0.0218188   0.0615625  0.796875  -0.046875  0.0\n",
      "  21 │ 227      0.0147875   0.049375   0.554688  -0.046875  0.21875\n",
      "  22 │ 229      0.015725    0.0475     0.679688  -0.046875  0.046875\n",
      "  23 │ 230      0.00869375  0.0446875  0.726562  -0.140625  0.234375\n",
      "  24 │ 231      0.00744375  0.045625   0.851562  -0.046875  0.234375\n",
      "  25 │ 232      0.0172875   0.064375   0.515625  -0.046875  0.078125\n",
      "  26 │ 233      0.0165063   0.0465625  0.742188  -0.046875  0.484375\n"
     ]
    },
    {
     "name": "stderr",
     "output_type": "stream",
     "text": [
      "\r\u001b[32mProgress:   8%|███▏                                     |  ETA: 0:05:18\u001b[39m\u001b[K"
     ]
    },
    {
     "name": "stderr",
     "output_type": "stream",
     "text": [
      "\r\u001b[32mProgress:  12%|████▊                                    |  ETA: 0:05:04\u001b[39m\u001b[K"
     ]
    },
    {
     "name": "stderr",
     "output_type": "stream",
     "text": [
      "\r\u001b[32mProgress:  15%|██████▎                                  |  ETA: 0:05:13\u001b[39m\u001b[K"
     ]
    },
    {
     "name": "stderr",
     "output_type": "stream",
     "text": [
      "\r\u001b[32mProgress:  19%|███████▉                                 |  ETA: 0:04:53\u001b[39m\u001b[K"
     ]
    },
    {
     "name": "stderr",
     "output_type": "stream",
     "text": [
      "\r\u001b[32mProgress:  23%|█████████▌                               |  ETA: 0:04:34\u001b[39m\u001b[K"
     ]
    },
    {
     "name": "stderr",
     "output_type": "stream",
     "text": [
      "\r\u001b[32mProgress:  27%|███████████                              |  ETA: 0:04:22\u001b[39m\u001b[K"
     ]
    },
    {
     "name": "stderr",
     "output_type": "stream",
     "text": [
      "\r\u001b[32mProgress:  31%|████████████▋                            |  ETA: 0:04:03\u001b[39m\u001b[K"
     ]
    },
    {
     "name": "stderr",
     "output_type": "stream",
     "text": [
      "\r\u001b[32mProgress:  35%|██████████████▎                          |  ETA: 0:03:52\u001b[39m\u001b[K"
     ]
    },
    {
     "name": "stderr",
     "output_type": "stream",
     "text": [
      "\r\u001b[32mProgress:  38%|███████████████▊                         |  ETA: 0:03:41\u001b[39m\u001b[K"
     ]
    },
    {
     "name": "stderr",
     "output_type": "stream",
     "text": [
      "\r\u001b[32mProgress:  42%|█████████████████▍                       |  ETA: 0:03:19\u001b[39m\u001b[K"
     ]
    },
    {
     "name": "stderr",
     "output_type": "stream",
     "text": [
      "\r\u001b[32mProgress:  46%|██████████████████▉                      |  ETA: 0:02:58\u001b[39m\u001b[K"
     ]
    },
    {
     "name": "stderr",
     "output_type": "stream",
     "text": [
      "\r\u001b[32mProgress:  50%|████████████████████▌                    |  ETA: 0:02:43\u001b[39m\u001b[K"
     ]
    },
    {
     "name": "stderr",
     "output_type": "stream",
     "text": [
      "\r\u001b[32mProgress:  54%|██████████████████████▏                  |  ETA: 0:02:31\u001b[39m\u001b[K"
     ]
    },
    {
     "name": "stderr",
     "output_type": "stream",
     "text": [
      "\r\u001b[32mProgress:  58%|███████████████████████▋                 |  ETA: 0:02:26\u001b[39m\u001b[K"
     ]
    },
    {
     "name": "stderr",
     "output_type": "stream",
     "text": [
      "\r\u001b[32mProgress:  62%|█████████████████████████▎               |  ETA: 0:02:18\u001b[39m\u001b[K"
     ]
    },
    {
     "name": "stderr",
     "output_type": "stream",
     "text": [
      "\r\u001b[32mProgress:  65%|██████████████████████████▊              |  ETA: 0:02:09\u001b[39m\u001b[K"
     ]
    },
    {
     "name": "stderr",
     "output_type": "stream",
     "text": [
      "\r\u001b[32mProgress:  69%|████████████████████████████▍            |  ETA: 0:01:51\u001b[39m\u001b[K"
     ]
    },
    {
     "name": "stderr",
     "output_type": "stream",
     "text": [
      "\r\u001b[32mProgress:  73%|██████████████████████████████           |  ETA: 0:01:39\u001b[39m\u001b[K"
     ]
    },
    {
     "name": "stderr",
     "output_type": "stream",
     "text": [
      "\r\u001b[32mProgress:  77%|███████████████████████████████▌         |  ETA: 0:01:23\u001b[39m\u001b[K"
     ]
    },
    {
     "name": "stderr",
     "output_type": "stream",
     "text": [
      "\r\u001b[32mProgress:  81%|█████████████████████████████████▏       |  ETA: 0:01:10\u001b[39m\u001b[K"
     ]
    },
    {
     "name": "stderr",
     "output_type": "stream",
     "text": [
      "\r\u001b[32mProgress:  85%|██████████████████████████████████▊      |  ETA: 0:00:57\u001b[39m\u001b[K"
     ]
    },
    {
     "name": "stderr",
     "output_type": "stream",
     "text": [
      "\r\u001b[32mProgress:  88%|████████████████████████████████████▎    |  ETA: 0:00:43\u001b[39m\u001b[K"
     ]
    },
    {
     "name": "stderr",
     "output_type": "stream",
     "text": [
      "\r\u001b[32mProgress:  92%|█████████████████████████████████████▉   |  ETA: 0:00:29\u001b[39m\u001b[K"
     ]
    },
    {
     "name": "stderr",
     "output_type": "stream",
     "text": [
      "\r\u001b[32mProgress:  96%|███████████████████████████████████████▍ |  ETA: 0:00:14\u001b[39m\u001b[K"
     ]
    },
    {
     "name": "stderr",
     "output_type": "stream",
     "text": [
      "\r\u001b[32mProgress: 100%|█████████████████████████████████████████| Time: 0:06:13\u001b[39m\u001b[K\n"
     ]
    },
    {
     "name": "stdout",
     "output_type": "stream",
     "text": [
      "Iteration 7\n",
      "Old NLL 13057.553657394437\n",
      "New NLL 13057.139993355577\n",
      "Percent Change 3.168005659515955e-5\n",
      "\u001b[1m26×6 DataFrame\u001b[0m\n",
      "\u001b[1m Row \u001b[0m│\u001b[1m subject \u001b[0m\u001b[1m d          \u001b[0m\u001b[1m s         \u001b[0m\u001b[1m t        \u001b[0m\u001b[1m b          \u001b[0m\u001b[1m k         \u001b[0m\n",
      "     │\u001b[90m String  \u001b[0m\u001b[90m Float64    \u001b[0m\u001b[90m Float64   \u001b[0m\u001b[90m Float64  \u001b[0m\u001b[90m Float64    \u001b[0m\u001b[90m Float64   \u001b[0m\n",
      "─────┼─────────────────────────────────────────────────────────────────\n",
      "   1 │ 201      0.0109594   0.0503125  0.824219  -0.046875   1.24219\n",
      "   2 │ 202      0.0126781   0.0428125  0.765625   0.0265625  1.10156\n",
      "   3 │ 204      0.0126781   0.0451562  0.808594  -0.046875   0.03125\n",
      "   4 │ 205      0.00908438  0.0615625  0.777344  -0.046875   1.74219\n",
      "   5 │ 206      0.0201      0.060625   0.773438  -0.046875   0.0546875\n",
      "   6 │ 207      0.00783437  0.0446875  0.621094  -0.046875   0.117188\n",
      "   7 │ 208      0.0237719   0.0732813  0.816406  -0.046875   0.0078125\n",
      "   8 │ 209      0.00814687  0.0465625  0.882812  -0.046875   0.992188\n",
      "   9 │ 211      0.0126781   0.041875   0.714844  -0.046875   0.148438\n",
      "  10 │ 213      0.0115844   0.0845313  0.761719  -0.046875   2.24219\n",
      "  11 │ 214      0.0126781   0.0442187  0.472656   0.0484375  0.0\n",
      "  12 │ 215      0.0116625   0.045625   0.855469  -0.046875   0.492188\n",
      "  13 │ 216      0.0214281   0.0503125  0.703125  -0.142187   0.257812\n",
      "  14 │ 217      0.00736562  0.0465625  0.820312  -0.046875   0.492188\n",
      "  15 │ 219      0.00939687  0.0484375  0.917969  -0.046875   0.0\n",
      "  16 │ 220      0.0156469   0.0460938  0.746094  -0.046875   0.117188\n",
      "  17 │ 222      0.00955313  0.0432812  1.00391   -0.046875   0.0\n",
      "  18 │ 223      0.0129906   0.0442187  0.871094   0.0015625  0.179688\n",
      "  19 │ 224      0.00838125  0.053125   0.371094  -0.046875   0.992188\n",
      "  20 │ 225      0.0218188   0.0615625  0.796875  -0.046875   0.0\n",
      "  21 │ 227      0.0147875   0.0489063  0.558594  -0.046875   0.226562\n",
      "  22 │ 229      0.0156469   0.0479688  0.683594  -0.046875   0.0546875\n",
      "  23 │ 230      0.00869375  0.0446875  0.730469  -0.142187   0.242188\n",
      "  24 │ 231      0.00736562  0.045625   0.855469  -0.046875   0.242188\n",
      "  25 │ 232      0.0172875   0.064375   0.511719  -0.046875   0.0703125\n",
      "  26 │ 233      0.0165844   0.0465625  0.738281  -0.046875   0.492188\n"
     ]
    },
    {
     "data": {
      "text/plain": [
       "\"NumericGainNLL_RNP.csv\""
      ]
     },
     "metadata": {},
     "output_type": "display_data"
    }
   ],
   "source": [
    "oldGainEstimates, oldNLLs = fit_RNPaDDM_custom_resolution(addm, dataGain, dInitialGrid, σInitialGrid, θInitialGrid, bInitialGrid, kInitialGrid, subjectCount; minValue=1, maxValue=6)\n",
    "oldNLL = sum(oldNLLs)\n",
    "println(\"Iteration 1\"); print(\"Old NLL missing\"); print(\"New NLL \"); println(oldNLL); print(\"Percent Change missing\"); println(oldGainEstimates);\n",
    "\n",
    "iteration = 2\n",
    "Δ = 100\n",
    "while Δ > grid_search_terminate_threshold\n",
    "    \n",
    "    dGrid, σGrid, θGrid, bGrid, kGrid = make_new_grid_RNP(oldGainEstimates, dataGain, dStepSize, σStepSize, θStepSize, bStepSize, kStepSize, iteration; bounded_theta=false)\n",
    "    newGainEstimates, newNLLs = fit_RNPaDDM_custom_resolution(addm, dataGain, dGrid, σGrid, θGrid, bGrid, kGrid, subjectCount; minValue=1, maxValue=6)\n",
    "    newNLL = sum(newNLLs)\n",
    "    Δ = (oldNLL-newNLL)/oldNLL\n",
    "    if Δ < 0\n",
    "        global gainEstimates_RNP = oldGainEstimates\n",
    "        global NLL = oldNLLs\n",
    "    else\n",
    "        global gainEstimates_RNP = newGainEstimates\n",
    "        global NLL = newNLLs\n",
    "    end\n",
    "\n",
    "    print(\"Iteration \"); println(iteration); print(\"Old NLL \"); println(oldNLL); print(\"New NLL \"); println(newNLL); print(\"Percent Change \"); println(Δ); println(gainEstimates_RNP); iteration += 1; oldGainEstimates = newGainEstimates; oldNLL = newNLL; \n",
    "\n",
    "end\n",
    "CSV.write(\"NumericGainFit_RNP.csv\", gainEstimates_RNP)\n",
    "CSV.write(\"NumericGainNLL_RNP.csv\", Tables.table(NLL), writeheader=false)"
   ]
  },
  {
   "cell_type": "markdown",
   "metadata": {},
   "source": [
    "## Fit loss data"
   ]
  },
  {
   "cell_type": "code",
   "execution_count": 8,
   "metadata": {},
   "outputs": [
    {
     "name": "stderr",
     "output_type": "stream",
     "text": [
      "\r\u001b[32mProgress:   8%|███▏                                     |  ETA: 4:17:22\u001b[39m\u001b[K"
     ]
    },
    {
     "name": "stderr",
     "output_type": "stream",
     "text": [
      "\r\u001b[32mProgress:  12%|████▊                                    |  ETA: 4:15:36\u001b[39m\u001b[K"
     ]
    },
    {
     "name": "stderr",
     "output_type": "stream",
     "text": [
      "\r\u001b[32mProgress:  15%|██████▎                                  |  ETA: 4:15:52\u001b[39m\u001b[K"
     ]
    },
    {
     "name": "stderr",
     "output_type": "stream",
     "text": [
      "\r\u001b[32mProgress:  19%|███████▉                                 |  ETA: 3:51:42\u001b[39m\u001b[K"
     ]
    },
    {
     "name": "stderr",
     "output_type": "stream",
     "text": [
      "\r\u001b[32mProgress:  23%|█████████▌                               |  ETA: 3:28:08\u001b[39m\u001b[K"
     ]
    },
    {
     "name": "stderr",
     "output_type": "stream",
     "text": [
      "\r\u001b[32mProgress:  27%|███████████                              |  ETA: 3:05:36\u001b[39m\u001b[K"
     ]
    },
    {
     "name": "stderr",
     "output_type": "stream",
     "text": [
      "\r\u001b[32mProgress:  31%|████████████▋                            |  ETA: 2:46:04\u001b[39m\u001b[K"
     ]
    },
    {
     "name": "stderr",
     "output_type": "stream",
     "text": [
      "\r\u001b[32mProgress:  35%|██████████████▎                          |  ETA: 2:37:37\u001b[39m\u001b[K"
     ]
    },
    {
     "name": "stderr",
     "output_type": "stream",
     "text": [
      "\r\u001b[32mProgress:  38%|███████████████▊                         |  ETA: 2:32:59\u001b[39m\u001b[K"
     ]
    },
    {
     "name": "stderr",
     "output_type": "stream",
     "text": [
      "\r\u001b[32mProgress:  42%|█████████████████▍                       |  ETA: 2:19:19\u001b[39m\u001b[K"
     ]
    },
    {
     "name": "stderr",
     "output_type": "stream",
     "text": [
      "\r\u001b[32mProgress:  46%|██████████████████▉                      |  ETA: 2:04:36\u001b[39m\u001b[K"
     ]
    },
    {
     "name": "stderr",
     "output_type": "stream",
     "text": [
      "\r\u001b[32mProgress:  50%|████████████████████▌                    |  ETA: 1:52:52\u001b[39m\u001b[K"
     ]
    },
    {
     "name": "stderr",
     "output_type": "stream",
     "text": [
      "\r\u001b[32mProgress:  54%|██████████████████████▏                  |  ETA: 1:43:43\u001b[39m\u001b[K"
     ]
    },
    {
     "name": "stderr",
     "output_type": "stream",
     "text": [
      "\r\u001b[32mProgress:  58%|███████████████████████▋                 |  ETA: 1:36:21\u001b[39m\u001b[K"
     ]
    },
    {
     "name": "stderr",
     "output_type": "stream",
     "text": [
      "\r\u001b[32mProgress:  62%|█████████████████████████▎               |  ETA: 1:27:39\u001b[39m\u001b[K"
     ]
    },
    {
     "name": "stderr",
     "output_type": "stream",
     "text": [
      "\r\u001b[32mProgress:  65%|██████████████████████████▊              |  ETA: 1:22:20\u001b[39m\u001b[K"
     ]
    },
    {
     "name": "stderr",
     "output_type": "stream",
     "text": [
      "\r\u001b[32mProgress:  69%|████████████████████████████▍            |  ETA: 1:11:17\u001b[39m\u001b[K"
     ]
    },
    {
     "name": "stderr",
     "output_type": "stream",
     "text": [
      "\r\u001b[32mProgress:  73%|██████████████████████████████           |  ETA: 1:03:04\u001b[39m\u001b[K"
     ]
    },
    {
     "name": "stderr",
     "output_type": "stream",
     "text": [
      "\r\u001b[32mProgress:  77%|███████████████████████████████▌         |  ETA: 0:52:39\u001b[39m\u001b[K"
     ]
    },
    {
     "name": "stderr",
     "output_type": "stream",
     "text": [
      "\r\u001b[32mProgress:  81%|█████████████████████████████████▏       |  ETA: 0:44:05\u001b[39m\u001b[K"
     ]
    },
    {
     "name": "stderr",
     "output_type": "stream",
     "text": [
      "\r\u001b[32mProgress:  85%|██████████████████████████████████▊      |  ETA: 0:35:43\u001b[39m\u001b[K"
     ]
    },
    {
     "name": "stderr",
     "output_type": "stream",
     "text": [
      "\r\u001b[32mProgress:  88%|████████████████████████████████████▎    |  ETA: 0:26:49\u001b[39m\u001b[K"
     ]
    },
    {
     "name": "stderr",
     "output_type": "stream",
     "text": [
      "\r\u001b[32mProgress:  92%|█████████████████████████████████████▉   |  ETA: 0:17:35\u001b[39m\u001b[K"
     ]
    },
    {
     "name": "stderr",
     "output_type": "stream",
     "text": [
      "\r\u001b[32mProgress:  96%|███████████████████████████████████████▍ |  ETA: 0:08:49\u001b[39m\u001b[K"
     ]
    },
    {
     "name": "stderr",
     "output_type": "stream",
     "text": [
      "\r\u001b[32mProgress: 100%|█████████████████████████████████████████| Time: 3:45:19\u001b[39m\u001b[K\n"
     ]
    },
    {
     "name": "stdout",
     "output_type": "stream",
     "text": [
      "Iteration 1\n",
      "Old NLL missingNew NLL 13764.438752493474\n",
      "Percent Change missing\u001b[1m26×6 DataFrame\u001b[0m\n",
      "\u001b[1m Row \u001b[0m│\u001b[1m subject \u001b[0m\u001b[1m d       \u001b[0m\u001b[1m s       \u001b[0m\u001b[1m t       \u001b[0m\u001b[1m b       \u001b[0m\u001b[1m k       \u001b[0m\n",
      "     │\u001b[90m String  \u001b[0m\u001b[90m Float64 \u001b[0m\u001b[90m Float64 \u001b[0m\u001b[90m Float64 \u001b[0m\u001b[90m Float64 \u001b[0m\u001b[90m Float64 \u001b[0m\n",
      "─────┼──────────────────────────────────────────────────────\n",
      "   1 │ 201       0.0051     0.07     0.75      0.0      2.0\n",
      "   2 │ 202       0.0151     0.04     0.5       0.1      0.0\n",
      "   3 │ 204       0.0151     0.04     0.75      0.1      0.0\n",
      "   4 │ 205       0.0051     0.07     0.0       0.0      1.5\n",
      "   5 │ 206       0.0151     0.07     0.75      0.1      0.0\n",
      "   6 │ 207       0.0051     0.04     1.25      0.0      0.0\n",
      "   7 │ 208       0.0151     0.07     0.75      0.0      2.0\n",
      "   8 │ 209       0.0101     0.04     0.5       0.0      0.5\n",
      "   9 │ 211       0.0151     0.04     0.25      0.0      0.0\n",
      "  10 │ 213       0.0151     0.07     0.75      0.1      0.5\n",
      "  11 │ 214       0.0001     0.07     0.0       0.0      2.0\n",
      "  12 │ 215       0.0101     0.04     0.5       0.0      0.0\n",
      "  13 │ 216       0.0201     0.07     0.5       0.0      0.0\n",
      "  14 │ 217       0.0051     0.04     1.25     -0.1      0.0\n",
      "  15 │ 219       0.0201     0.07     0.5       0.0      0.0\n",
      "  16 │ 220       0.0101     0.07     0.75      0.0      0.5\n",
      "  17 │ 222       0.0051     0.04     1.25      0.0      0.0\n",
      "  18 │ 223       0.0101     0.04     1.0       0.0      0.0\n",
      "  19 │ 224       0.0151     0.07     1.0       0.0      0.0\n",
      "  20 │ 225       0.0201     0.07     0.75      0.0      0.0\n",
      "  21 │ 227       0.0101     0.04     0.75      0.0      0.0\n",
      "  22 │ 229       0.0051     0.04     1.5       0.0      0.0\n",
      "  23 │ 230       0.0051     0.07     0.5       0.0      0.5\n",
      "  24 │ 231       0.0051     0.04     0.75      0.0      1.0\n",
      "  25 │ 232       0.0201     0.07     0.5       0.1      0.0\n",
      "  26 │ 233       0.0101     0.04     0.25      0.1      0.0\n"
     ]
    },
    {
     "name": "stderr",
     "output_type": "stream",
     "text": [
      "\r\u001b[32mProgress:   8%|███▏                                     |  ETA: 0:07:46\u001b[39m\u001b[K"
     ]
    },
    {
     "name": "stderr",
     "output_type": "stream",
     "text": [
      "\r\u001b[32mProgress:  12%|████▊                                    |  ETA: 0:07:45\u001b[39m\u001b[K"
     ]
    },
    {
     "name": "stderr",
     "output_type": "stream",
     "text": [
      "\r\u001b[32mProgress:  15%|██████▎                                  |  ETA: 0:07:46\u001b[39m\u001b[K"
     ]
    },
    {
     "name": "stderr",
     "output_type": "stream",
     "text": [
      "\r\u001b[32mProgress:  19%|███████▉                                 |  ETA: 0:07:02\u001b[39m\u001b[K"
     ]
    },
    {
     "name": "stderr",
     "output_type": "stream",
     "text": [
      "\r\u001b[32mProgress:  23%|█████████▌                               |  ETA: 0:06:19\u001b[39m\u001b[K"
     ]
    },
    {
     "name": "stderr",
     "output_type": "stream",
     "text": [
      "\r\u001b[32mProgress:  27%|███████████                              |  ETA: 0:05:38\u001b[39m\u001b[K"
     ]
    },
    {
     "name": "stderr",
     "output_type": "stream",
     "text": [
      "\r\u001b[32mProgress:  31%|████████████▋                            |  ETA: 0:05:03\u001b[39m\u001b[K"
     ]
    },
    {
     "name": "stderr",
     "output_type": "stream",
     "text": [
      "\r\u001b[32mProgress:  35%|██████████████▎                          |  ETA: 0:04:48\u001b[39m\u001b[K"
     ]
    },
    {
     "name": "stderr",
     "output_type": "stream",
     "text": [
      "\r\u001b[32mProgress:  38%|███████████████▊                         |  ETA: 0:04:39\u001b[39m\u001b[K"
     ]
    },
    {
     "name": "stderr",
     "output_type": "stream",
     "text": [
      "\r\u001b[32mProgress:  42%|█████████████████▍                       |  ETA: 0:04:14\u001b[39m\u001b[K"
     ]
    },
    {
     "name": "stderr",
     "output_type": "stream",
     "text": [
      "\r\u001b[32mProgress:  46%|██████████████████▉                      |  ETA: 0:03:47\u001b[39m\u001b[K"
     ]
    },
    {
     "name": "stderr",
     "output_type": "stream",
     "text": [
      "\r\u001b[32mProgress:  50%|████████████████████▌                    |  ETA: 0:03:26\u001b[39m\u001b[K"
     ]
    },
    {
     "name": "stderr",
     "output_type": "stream",
     "text": [
      "\r\u001b[32mProgress:  54%|██████████████████████▏                  |  ETA: 0:03:09\u001b[39m\u001b[K"
     ]
    },
    {
     "name": "stderr",
     "output_type": "stream",
     "text": [
      "\r\u001b[32mProgress:  58%|███████████████████████▋                 |  ETA: 0:02:56\u001b[39m\u001b[K"
     ]
    },
    {
     "name": "stderr",
     "output_type": "stream",
     "text": [
      "\r\u001b[32mProgress:  62%|█████████████████████████▎               |  ETA: 0:02:40\u001b[39m\u001b[K"
     ]
    },
    {
     "name": "stderr",
     "output_type": "stream",
     "text": [
      "\r\u001b[32mProgress:  65%|██████████████████████████▊              |  ETA: 0:02:30\u001b[39m\u001b[K"
     ]
    },
    {
     "name": "stderr",
     "output_type": "stream",
     "text": [
      "\r\u001b[32mProgress:  69%|████████████████████████████▍            |  ETA: 0:02:10\u001b[39m\u001b[K"
     ]
    },
    {
     "name": "stderr",
     "output_type": "stream",
     "text": [
      "\r\u001b[32mProgress:  73%|██████████████████████████████           |  ETA: 0:01:55\u001b[39m\u001b[K"
     ]
    },
    {
     "name": "stderr",
     "output_type": "stream",
     "text": [
      "\r\u001b[32mProgress:  77%|███████████████████████████████▌         |  ETA: 0:01:36\u001b[39m\u001b[K"
     ]
    },
    {
     "name": "stderr",
     "output_type": "stream",
     "text": [
      "\r\u001b[32mProgress:  81%|█████████████████████████████████▏       |  ETA: 0:01:20\u001b[39m\u001b[K"
     ]
    },
    {
     "name": "stderr",
     "output_type": "stream",
     "text": [
      "\r\u001b[32mProgress:  85%|██████████████████████████████████▊      |  ETA: 0:01:05\u001b[39m\u001b[K"
     ]
    },
    {
     "name": "stderr",
     "output_type": "stream",
     "text": [
      "\r\u001b[32mProgress:  88%|████████████████████████████████████▎    |  ETA: 0:00:49\u001b[39m\u001b[K"
     ]
    },
    {
     "name": "stderr",
     "output_type": "stream",
     "text": [
      "\r\u001b[32mProgress:  92%|█████████████████████████████████████▉   |  ETA: 0:00:32\u001b[39m\u001b[K"
     ]
    },
    {
     "name": "stderr",
     "output_type": "stream",
     "text": [
      "\r\u001b[32mProgress:  96%|███████████████████████████████████████▍ |  ETA: 0:00:16\u001b[39m\u001b[K"
     ]
    },
    {
     "name": "stderr",
     "output_type": "stream",
     "text": [
      "\r\u001b[32mProgress: 100%|█████████████████████████████████████████| Time: 0:06:49\u001b[39m\u001b[K\n"
     ]
    },
    {
     "name": "stdout",
     "output_type": "stream",
     "text": [
      "Iteration 2\n",
      "Old NLL 13764.438752493474\n",
      "New NLL 13657.321188758673\n",
      "Percent Change 0.007782196256668719\n",
      "\u001b[1m26×6 DataFrame\u001b[0m\n",
      "\u001b[1m Row \u001b[0m│\u001b[1m subject \u001b[0m\u001b[1m d       \u001b[0m\u001b[1m s       \u001b[0m\u001b[1m t       \u001b[0m\u001b[1m b       \u001b[0m\u001b[1m k       \u001b[0m\n",
      "     │\u001b[90m String  \u001b[0m\u001b[90m Float64 \u001b[0m\u001b[90m Float64 \u001b[0m\u001b[90m Float64 \u001b[0m\u001b[90m Float64 \u001b[0m\u001b[90m Float64 \u001b[0m\n",
      "─────┼──────────────────────────────────────────────────────\n",
      "   1 │ 201       0.0051    0.055    0.75      0.0      2.25\n",
      "   2 │ 202       0.0151    0.04     0.5       0.05     0.25\n",
      "   3 │ 204       0.0151    0.04     0.75      0.05     0.0\n",
      "   4 │ 205       0.0026    0.07    -0.125     0.0      1.75\n",
      "   5 │ 206       0.0126    0.055    0.875     0.05     0.25\n",
      "   6 │ 207       0.0051    0.04     1.25      0.0      0.0\n",
      "   7 │ 208       0.0151    0.07     0.75      0.0      2.0\n",
      "   8 │ 209       0.0101    0.04     0.375     0.0      0.25\n",
      "   9 │ 211       0.0151    0.04     0.375     0.0      0.0\n",
      "  10 │ 213       0.0151    0.07     0.875     0.05     0.75\n",
      "  11 │ 214       0.0026    0.055    0.125     0.05     1.75\n",
      "  12 │ 215       0.0076    0.04     0.625     0.0      0.0\n",
      "  13 │ 216       0.0201    0.07     0.625     0.0      0.0\n",
      "  14 │ 217       0.0051    0.04     1.25     -0.1      0.0\n",
      "  15 │ 219       0.0176    0.055    0.5       0.0      0.0\n",
      "  16 │ 220       0.0101    0.055    0.875     0.05     0.75\n",
      "  17 │ 222       0.0051    0.055    1.125     0.0      0.0\n",
      "  18 │ 223       0.0076    0.055    1.0       0.0      0.0\n",
      "  19 │ 224       0.0126    0.055    1.0       0.0      0.25\n",
      "  20 │ 225       0.0201    0.055    0.625     0.0      0.0\n",
      "  21 │ 227       0.0101    0.04     0.75      0.0      0.0\n",
      "  22 │ 229       0.0051    0.04     1.5       0.0      0.0\n",
      "  23 │ 230       0.0051    0.055    0.375     0.0      0.25\n",
      "  24 │ 231       0.0051    0.04     0.75      0.0      1.25\n",
      "  25 │ 232       0.0226    0.055    0.375     0.05     0.0\n",
      "  26 │ 233       0.0101    0.04     0.375     0.05     0.0\n"
     ]
    },
    {
     "name": "stderr",
     "output_type": "stream",
     "text": [
      "\r\u001b[32mProgress:   8%|███▏                                     |  ETA: 0:07:49\u001b[39m\u001b[K"
     ]
    },
    {
     "name": "stderr",
     "output_type": "stream",
     "text": [
      "\r\u001b[32mProgress:  12%|████▊                                    |  ETA: 0:07:47\u001b[39m\u001b[K"
     ]
    },
    {
     "name": "stderr",
     "output_type": "stream",
     "text": [
      "\r\u001b[32mProgress:  15%|██████▎                                  |  ETA: 0:07:48\u001b[39m\u001b[K"
     ]
    },
    {
     "name": "stderr",
     "output_type": "stream",
     "text": [
      "\r\u001b[32mProgress:  19%|███████▉                                 |  ETA: 0:07:03\u001b[39m\u001b[K"
     ]
    },
    {
     "name": "stderr",
     "output_type": "stream",
     "text": [
      "\r\u001b[32mProgress:  23%|█████████▌                               |  ETA: 0:06:20\u001b[39m\u001b[K"
     ]
    },
    {
     "name": "stderr",
     "output_type": "stream",
     "text": [
      "\r\u001b[32mProgress:  27%|███████████                              |  ETA: 0:05:39\u001b[39m\u001b[K"
     ]
    },
    {
     "name": "stderr",
     "output_type": "stream",
     "text": [
      "\r\u001b[32mProgress:  31%|████████████▋                            |  ETA: 0:05:03\u001b[39m\u001b[K"
     ]
    },
    {
     "name": "stderr",
     "output_type": "stream",
     "text": [
      "\r\u001b[32mProgress:  35%|██████████████▎                          |  ETA: 0:04:48\u001b[39m\u001b[K"
     ]
    },
    {
     "name": "stderr",
     "output_type": "stream",
     "text": [
      "\r\u001b[32mProgress:  38%|███████████████▊                         |  ETA: 0:04:39\u001b[39m\u001b[K"
     ]
    },
    {
     "name": "stderr",
     "output_type": "stream",
     "text": [
      "\r\u001b[32mProgress:  42%|█████████████████▍                       |  ETA: 0:04:14\u001b[39m\u001b[K"
     ]
    },
    {
     "name": "stderr",
     "output_type": "stream",
     "text": [
      "\r\u001b[32mProgress:  46%|██████████████████▉                      |  ETA: 0:03:47\u001b[39m\u001b[K"
     ]
    },
    {
     "name": "stderr",
     "output_type": "stream",
     "text": [
      "\r\u001b[32mProgress:  50%|████████████████████▌                    |  ETA: 0:03:26\u001b[39m\u001b[K"
     ]
    },
    {
     "name": "stderr",
     "output_type": "stream",
     "text": [
      "\r\u001b[32mProgress:  54%|██████████████████████▏                  |  ETA: 0:03:09\u001b[39m\u001b[K"
     ]
    },
    {
     "name": "stderr",
     "output_type": "stream",
     "text": [
      "\r\u001b[32mProgress:  58%|███████████████████████▋                 |  ETA: 0:02:56\u001b[39m\u001b[K"
     ]
    },
    {
     "name": "stderr",
     "output_type": "stream",
     "text": [
      "\r\u001b[32mProgress:  62%|█████████████████████████▎               |  ETA: 0:02:40\u001b[39m\u001b[K"
     ]
    },
    {
     "name": "stderr",
     "output_type": "stream",
     "text": [
      "\r\u001b[32mProgress:  65%|██████████████████████████▊              |  ETA: 0:02:30\u001b[39m\u001b[K"
     ]
    },
    {
     "name": "stderr",
     "output_type": "stream",
     "text": [
      "\r\u001b[32mProgress:  69%|████████████████████████████▍            |  ETA: 0:02:10\u001b[39m\u001b[K"
     ]
    },
    {
     "name": "stderr",
     "output_type": "stream",
     "text": [
      "\r\u001b[32mProgress:  73%|██████████████████████████████           |  ETA: 0:01:55\u001b[39m\u001b[K"
     ]
    },
    {
     "name": "stderr",
     "output_type": "stream",
     "text": [
      "\r\u001b[32mProgress:  77%|███████████████████████████████▌         |  ETA: 0:01:36\u001b[39m\u001b[K"
     ]
    },
    {
     "name": "stderr",
     "output_type": "stream",
     "text": [
      "\r\u001b[32mProgress:  81%|█████████████████████████████████▏       |  ETA: 0:01:20\u001b[39m\u001b[K"
     ]
    },
    {
     "name": "stderr",
     "output_type": "stream",
     "text": [
      "\r\u001b[32mProgress:  85%|██████████████████████████████████▊      |  ETA: 0:01:05\u001b[39m\u001b[K"
     ]
    },
    {
     "name": "stderr",
     "output_type": "stream",
     "text": [
      "\r\u001b[32mProgress:  88%|████████████████████████████████████▎    |  ETA: 0:00:49\u001b[39m\u001b[K"
     ]
    },
    {
     "name": "stderr",
     "output_type": "stream",
     "text": [
      "\r\u001b[32mProgress:  92%|█████████████████████████████████████▉   |  ETA: 0:00:32\u001b[39m\u001b[K"
     ]
    },
    {
     "name": "stderr",
     "output_type": "stream",
     "text": [
      "\r\u001b[32mProgress:  96%|███████████████████████████████████████▍ |  ETA: 0:00:16\u001b[39m\u001b[K"
     ]
    },
    {
     "name": "stderr",
     "output_type": "stream",
     "text": [
      "\r\u001b[32mProgress: 100%|█████████████████████████████████████████| Time: 0:06:49\u001b[39m\u001b[K\n"
     ]
    },
    {
     "name": "stdout",
     "output_type": "stream",
     "text": [
      "Iteration 3\n",
      "Old NLL 13657.321188758673\n",
      "New NLL 13594.919385062783\n",
      "Percent Change 0.004569110064369906\n",
      "\u001b[1m26×6 DataFrame\u001b[0m\n",
      "\u001b[1m Row \u001b[0m│\u001b[1m subject \u001b[0m\u001b[1m d       \u001b[0m\u001b[1m s       \u001b[0m\u001b[1m t       \u001b[0m\u001b[1m b       \u001b[0m\u001b[1m k       \u001b[0m\n",
      "     │\u001b[90m String  \u001b[0m\u001b[90m Float64 \u001b[0m\u001b[90m Float64 \u001b[0m\u001b[90m Float64 \u001b[0m\u001b[90m Float64 \u001b[0m\u001b[90m Float64 \u001b[0m\n",
      "─────┼──────────────────────────────────────────────────────\n",
      "   1 │ 201      0.00635   0.055    0.8125   -0.025    2.375\n",
      "   2 │ 202      0.0151    0.04     0.5       0.05     0.125\n",
      "   3 │ 204      0.01385   0.0475   0.6875    0.025    0.0\n",
      "   4 │ 205      0.00385   0.0625  -0.1875   -0.025    1.75\n",
      "   5 │ 206      0.01385   0.0475   0.875     0.05     0.25\n",
      "   6 │ 207      0.00385   0.0475   1.25     -0.025    0.0\n",
      "   7 │ 208      0.0151    0.07     0.75     -0.025    2.125\n",
      "   8 │ 209      0.0101    0.04     0.4375   -0.025    0.25\n",
      "   9 │ 211      0.01385   0.04     0.4375   -0.025    0.0\n",
      "  10 │ 213      0.0151    0.07     0.875     0.05     0.875\n",
      "  11 │ 214      0.00135   0.055    0.0625    0.05     1.875\n",
      "  12 │ 215      0.00635   0.0475   0.6875   -0.025    0.125\n",
      "  13 │ 216      0.0201    0.0625   0.5625   -0.025    0.0\n",
      "  14 │ 217      0.00635   0.04     1.1875   -0.125    0.0\n",
      "  15 │ 219      0.01885   0.055    0.5      -0.025    0.0\n",
      "  16 │ 220      0.0101    0.055    0.8125    0.05     0.875\n",
      "  17 │ 222      0.0051    0.0475   1.0625   -0.025    0.0\n",
      "  18 │ 223      0.00885   0.0475   0.9375   -0.025    0.125\n",
      "  19 │ 224      0.0126    0.0625   1.0      -0.025    0.125\n",
      "  20 │ 225      0.01885   0.055    0.625    -0.025    0.0\n",
      "  21 │ 227      0.00885   0.04     0.8125   -0.025    0.0\n",
      "  22 │ 229      0.0051    0.0475   1.4375   -0.025    0.0\n",
      "  23 │ 230      0.0051    0.055    0.4375   -0.025    0.25\n",
      "  24 │ 231      0.0051    0.04     0.75     -0.025    1.25\n",
      "  25 │ 232      0.0226    0.0625   0.375     0.05     0.0\n",
      "  26 │ 233      0.00885   0.0475   0.375     0.025    0.0\n"
     ]
    },
    {
     "name": "stderr",
     "output_type": "stream",
     "text": [
      "\r\u001b[32mProgress:   8%|███▏                                     |  ETA: 0:07:48\u001b[39m\u001b[K"
     ]
    },
    {
     "name": "stderr",
     "output_type": "stream",
     "text": [
      "\r\u001b[32mProgress:  12%|████▊                                    |  ETA: 0:07:47\u001b[39m\u001b[K"
     ]
    },
    {
     "name": "stderr",
     "output_type": "stream",
     "text": [
      "\r\u001b[32mProgress:  15%|██████▎                                  |  ETA: 0:07:48\u001b[39m\u001b[K"
     ]
    },
    {
     "name": "stderr",
     "output_type": "stream",
     "text": [
      "\r\u001b[32mProgress:  19%|███████▉                                 |  ETA: 0:07:04\u001b[39m\u001b[K"
     ]
    },
    {
     "name": "stderr",
     "output_type": "stream",
     "text": [
      "\r\u001b[32mProgress:  23%|█████████▌                               |  ETA: 0:06:20\u001b[39m\u001b[K"
     ]
    },
    {
     "name": "stderr",
     "output_type": "stream",
     "text": [
      "\r\u001b[32mProgress:  27%|███████████                              |  ETA: 0:05:39\u001b[39m\u001b[K"
     ]
    },
    {
     "name": "stderr",
     "output_type": "stream",
     "text": [
      "\r\u001b[32mProgress:  31%|████████████▋                            |  ETA: 0:05:04\u001b[39m\u001b[K"
     ]
    },
    {
     "name": "stderr",
     "output_type": "stream",
     "text": [
      "\r\u001b[32mProgress:  35%|██████████████▎                          |  ETA: 0:04:48\u001b[39m\u001b[K"
     ]
    },
    {
     "name": "stderr",
     "output_type": "stream",
     "text": [
      "\r\u001b[32mProgress:  38%|███████████████▊                         |  ETA: 0:04:40\u001b[39m\u001b[K"
     ]
    },
    {
     "name": "stderr",
     "output_type": "stream",
     "text": [
      "\r\u001b[32mProgress:  42%|█████████████████▍                       |  ETA: 0:04:15\u001b[39m\u001b[K"
     ]
    },
    {
     "name": "stderr",
     "output_type": "stream",
     "text": [
      "\r\u001b[32mProgress:  46%|██████████████████▉                      |  ETA: 0:03:48\u001b[39m\u001b[K"
     ]
    },
    {
     "name": "stderr",
     "output_type": "stream",
     "text": [
      "\r\u001b[32mProgress:  50%|████████████████████▌                    |  ETA: 0:03:27\u001b[39m\u001b[K"
     ]
    },
    {
     "name": "stderr",
     "output_type": "stream",
     "text": [
      "\r\u001b[32mProgress:  54%|██████████████████████▏                  |  ETA: 0:03:10\u001b[39m\u001b[K"
     ]
    },
    {
     "name": "stderr",
     "output_type": "stream",
     "text": [
      "\r\u001b[32mProgress:  58%|███████████████████████▋                 |  ETA: 0:02:56\u001b[39m\u001b[K"
     ]
    },
    {
     "name": "stderr",
     "output_type": "stream",
     "text": [
      "\r\u001b[32mProgress:  62%|█████████████████████████▎               |  ETA: 0:02:40\u001b[39m\u001b[K"
     ]
    },
    {
     "name": "stderr",
     "output_type": "stream",
     "text": [
      "\r\u001b[32mProgress:  65%|██████████████████████████▊              |  ETA: 0:02:31\u001b[39m\u001b[K"
     ]
    },
    {
     "name": "stderr",
     "output_type": "stream",
     "text": [
      "\r\u001b[32mProgress:  69%|████████████████████████████▍            |  ETA: 0:02:10\u001b[39m\u001b[K"
     ]
    },
    {
     "name": "stderr",
     "output_type": "stream",
     "text": [
      "\r\u001b[32mProgress:  73%|██████████████████████████████           |  ETA: 0:01:55\u001b[39m\u001b[K"
     ]
    },
    {
     "name": "stderr",
     "output_type": "stream",
     "text": [
      "\r\u001b[32mProgress:  77%|███████████████████████████████▌         |  ETA: 0:01:36\u001b[39m\u001b[K"
     ]
    },
    {
     "name": "stderr",
     "output_type": "stream",
     "text": [
      "\r\u001b[32mProgress:  81%|█████████████████████████████████▏       |  ETA: 0:01:20\u001b[39m\u001b[K"
     ]
    },
    {
     "name": "stderr",
     "output_type": "stream",
     "text": [
      "\r\u001b[32mProgress:  85%|██████████████████████████████████▊      |  ETA: 0:01:05\u001b[39m\u001b[K"
     ]
    },
    {
     "name": "stderr",
     "output_type": "stream",
     "text": [
      "\r\u001b[32mProgress:  88%|████████████████████████████████████▎    |  ETA: 0:00:49\u001b[39m\u001b[K"
     ]
    },
    {
     "name": "stderr",
     "output_type": "stream",
     "text": [
      "\r\u001b[32mProgress:  92%|█████████████████████████████████████▉   |  ETA: 0:00:32\u001b[39m\u001b[K"
     ]
    },
    {
     "name": "stderr",
     "output_type": "stream",
     "text": [
      "\r\u001b[32mProgress:  96%|███████████████████████████████████████▍ |  ETA: 0:00:16\u001b[39m\u001b[K"
     ]
    },
    {
     "name": "stderr",
     "output_type": "stream",
     "text": [
      "\r\u001b[32mProgress: 100%|█████████████████████████████████████████| Time: 0:06:50\u001b[39m\u001b[K\n"
     ]
    },
    {
     "name": "stdout",
     "output_type": "stream",
     "text": [
      "Iteration 4\n",
      "Old NLL 13594.919385062783\n",
      "New NLL 13576.797502265403\n",
      "Percent Change 0.0013329893531617333\n",
      "\u001b[1m26×6 DataFrame\u001b[0m\n",
      "\u001b[1m Row \u001b[0m│\u001b[1m subject \u001b[0m\u001b[1m d        \u001b[0m\u001b[1m s       \u001b[0m\u001b[1m t        \u001b[0m\u001b[1m b       \u001b[0m\u001b[1m k       \u001b[0m\n",
      "     │\u001b[90m String  \u001b[0m\u001b[90m Float64  \u001b[0m\u001b[90m Float64 \u001b[0m\u001b[90m Float64  \u001b[0m\u001b[90m Float64 \u001b[0m\u001b[90m Float64 \u001b[0m\n",
      "─────┼────────────────────────────────────────────────────────\n",
      "   1 │ 201      0.00635   0.05125   0.78125  -0.0375   2.3125\n",
      "   2 │ 202      0.015725  0.04      0.46875   0.05     0.0625\n",
      "   3 │ 204      0.013225  0.04375   0.6875    0.0125   0.0\n",
      "   4 │ 205      0.003225  0.06625  -0.21875  -0.0375   1.8125\n",
      "   5 │ 206      0.01385   0.0475    0.84375   0.05     0.1875\n",
      "   6 │ 207      0.004475  0.04375   1.21875  -0.0375   0.0\n",
      "   7 │ 208      0.015725  0.07375   0.78125  -0.0375   2.1875\n",
      "   8 │ 209      0.009475  0.04375   0.40625  -0.0375   0.1875\n",
      "   9 │ 211      0.01385   0.04      0.40625  -0.0375   0.0\n",
      "  10 │ 213      0.015725  0.07      0.84375   0.05     0.9375\n",
      "  11 │ 214      0.00135   0.055     0.03125   0.05     1.9375\n",
      "  12 │ 215      0.006975  0.04375   0.6875   -0.0375   0.0625\n",
      "  13 │ 216      0.0201    0.0625    0.59375  -0.0375   0.0\n",
      "  14 │ 217      0.005725  0.04375   1.15625  -0.1375   0.0\n",
      "  15 │ 219      0.01885   0.05125   0.5      -0.0375   0.0\n",
      "  16 │ 220      0.010725  0.055     0.84375   0.05     0.9375\n",
      "  17 │ 222      0.0051    0.0475    1.03125  -0.0375   0.0\n",
      "  18 │ 223      0.008225  0.0475    0.90625  -0.0375   0.1875\n",
      "  19 │ 224      0.013225  0.0625    0.96875  -0.0375   0.1875\n",
      "  20 │ 225      0.019475  0.05125   0.625    -0.0375   0.0\n",
      "  21 │ 227      0.009475  0.04      0.84375  -0.0375   0.0\n",
      "  22 │ 229      0.0051    0.04375   1.40625  -0.0375   0.0\n",
      "  23 │ 230      0.004475  0.055     0.46875  -0.0375   0.3125\n",
      "  24 │ 231      0.0051    0.04      0.78125  -0.0375   1.3125\n",
      "  25 │ 232      0.021975  0.05875   0.40625   0.05     0.0\n",
      "  26 │ 233      0.00885   0.04375   0.40625   0.0125   0.0\n"
     ]
    },
    {
     "name": "stderr",
     "output_type": "stream",
     "text": [
      "\r\u001b[32mProgress:   8%|███▏                                     |  ETA: 0:07:51\u001b[39m\u001b[K"
     ]
    },
    {
     "name": "stderr",
     "output_type": "stream",
     "text": [
      "\r\u001b[32mProgress:  12%|████▊                                    |  ETA: 0:07:49\u001b[39m\u001b[K"
     ]
    },
    {
     "name": "stderr",
     "output_type": "stream",
     "text": [
      "\r\u001b[32mProgress:  15%|██████▎                                  |  ETA: 0:07:49\u001b[39m\u001b[K"
     ]
    },
    {
     "name": "stderr",
     "output_type": "stream",
     "text": [
      "\r\u001b[32mProgress:  19%|███████▉                                 |  ETA: 0:07:05\u001b[39m\u001b[K"
     ]
    },
    {
     "name": "stderr",
     "output_type": "stream",
     "text": [
      "\r\u001b[32mProgress:  23%|█████████▌                               |  ETA: 0:06:22\u001b[39m\u001b[K"
     ]
    },
    {
     "name": "stderr",
     "output_type": "stream",
     "text": [
      "\r\u001b[32mProgress:  27%|███████████                              |  ETA: 0:05:40\u001b[39m\u001b[K"
     ]
    },
    {
     "name": "stderr",
     "output_type": "stream",
     "text": [
      "\r\u001b[32mProgress:  31%|████████████▋                            |  ETA: 0:05:05\u001b[39m\u001b[K"
     ]
    },
    {
     "name": "stderr",
     "output_type": "stream",
     "text": [
      "\r\u001b[32mProgress:  35%|██████████████▎                          |  ETA: 0:04:49\u001b[39m\u001b[K"
     ]
    },
    {
     "name": "stderr",
     "output_type": "stream",
     "text": [
      "\r\u001b[32mProgress:  38%|███████████████▊                         |  ETA: 0:04:40\u001b[39m\u001b[K"
     ]
    },
    {
     "name": "stderr",
     "output_type": "stream",
     "text": [
      "\r\u001b[32mProgress:  42%|█████████████████▍                       |  ETA: 0:04:15\u001b[39m\u001b[K"
     ]
    },
    {
     "name": "stderr",
     "output_type": "stream",
     "text": [
      "\r\u001b[32mProgress:  46%|██████████████████▉                      |  ETA: 0:03:48\u001b[39m\u001b[K"
     ]
    },
    {
     "name": "stderr",
     "output_type": "stream",
     "text": [
      "\r\u001b[32mProgress:  50%|████████████████████▌                    |  ETA: 0:03:27\u001b[39m\u001b[K"
     ]
    },
    {
     "name": "stderr",
     "output_type": "stream",
     "text": [
      "\r\u001b[32mProgress:  54%|██████████████████████▏                  |  ETA: 0:03:10\u001b[39m\u001b[K"
     ]
    },
    {
     "name": "stderr",
     "output_type": "stream",
     "text": [
      "\r\u001b[32mProgress:  58%|███████████████████████▋                 |  ETA: 0:02:56\u001b[39m\u001b[K"
     ]
    },
    {
     "name": "stderr",
     "output_type": "stream",
     "text": [
      "\r\u001b[32mProgress:  62%|█████████████████████████▎               |  ETA: 0:02:41\u001b[39m\u001b[K"
     ]
    },
    {
     "name": "stderr",
     "output_type": "stream",
     "text": [
      "\r\u001b[32mProgress:  65%|██████████████████████████▊              |  ETA: 0:02:31\u001b[39m\u001b[K"
     ]
    },
    {
     "name": "stderr",
     "output_type": "stream",
     "text": [
      "\r\u001b[32mProgress:  69%|████████████████████████████▍            |  ETA: 0:02:10\u001b[39m\u001b[K"
     ]
    },
    {
     "name": "stderr",
     "output_type": "stream",
     "text": [
      "\r\u001b[32mProgress:  73%|██████████████████████████████           |  ETA: 0:01:55\u001b[39m\u001b[K"
     ]
    },
    {
     "name": "stderr",
     "output_type": "stream",
     "text": [
      "\r\u001b[32mProgress:  77%|███████████████████████████████▌         |  ETA: 0:01:36\u001b[39m\u001b[K"
     ]
    },
    {
     "name": "stderr",
     "output_type": "stream",
     "text": [
      "\r\u001b[32mProgress:  81%|█████████████████████████████████▏       |  ETA: 0:01:21\u001b[39m\u001b[K"
     ]
    },
    {
     "name": "stderr",
     "output_type": "stream",
     "text": [
      "\r\u001b[32mProgress:  85%|██████████████████████████████████▊      |  ETA: 0:01:05\u001b[39m\u001b[K"
     ]
    },
    {
     "name": "stderr",
     "output_type": "stream",
     "text": [
      "\r\u001b[32mProgress:  88%|████████████████████████████████████▎    |  ETA: 0:00:49\u001b[39m\u001b[K"
     ]
    },
    {
     "name": "stderr",
     "output_type": "stream",
     "text": [
      "\r\u001b[32mProgress:  92%|█████████████████████████████████████▉   |  ETA: 0:00:32\u001b[39m\u001b[K"
     ]
    },
    {
     "name": "stderr",
     "output_type": "stream",
     "text": [
      "\r\u001b[32mProgress:  96%|███████████████████████████████████████▍ |  ETA: 0:00:16\u001b[39m\u001b[K"
     ]
    },
    {
     "name": "stderr",
     "output_type": "stream",
     "text": [
      "\r\u001b[32mProgress: 100%|█████████████████████████████████████████| Time: 0:06:50\u001b[39m\u001b[K\n"
     ]
    },
    {
     "name": "stdout",
     "output_type": "stream",
     "text": [
      "Iteration 5\n",
      "Old NLL 13576.797502265403\n",
      "New NLL 13570.701297720618\n",
      "Percent Change 0.0004490163857690146\n",
      "\u001b[1m26×6 DataFrame\u001b[0m\n",
      "\u001b[1m Row \u001b[0m│\u001b[1m subject \u001b[0m\u001b[1m d         \u001b[0m\u001b[1m s        \u001b[0m\u001b[1m t         \u001b[0m\u001b[1m b        \u001b[0m\u001b[1m k       \u001b[0m\n",
      "     │\u001b[90m String  \u001b[0m\u001b[90m Float64   \u001b[0m\u001b[90m Float64  \u001b[0m\u001b[90m Float64   \u001b[0m\u001b[90m Float64  \u001b[0m\u001b[90m Float64 \u001b[0m\n",
      "─────┼────────────────────────────────────────────────────────────\n",
      "   1 │ 201      0.00635    0.05125    0.78125   -0.04375  2.28125\n",
      "   2 │ 202      0.015725   0.04       0.46875    0.05     0.0625\n",
      "   3 │ 204      0.0129125  0.045625   0.6875     0.00625  0.0\n",
      "   4 │ 205      0.003225   0.064375  -0.234375  -0.04375  1.84375\n",
      "   5 │ 206      0.0135375  0.049375   0.859375   0.05     0.1875\n",
      "   6 │ 207      0.004475   0.045625   1.20312   -0.04375  0.0\n",
      "   7 │ 208      0.015725   0.071875   0.78125   -0.04375  2.21875\n",
      "   8 │ 209      0.0091625  0.041875   0.421875  -0.04375  0.21875\n",
      "   9 │ 211      0.01385    0.04       0.40625   -0.04375  0.0\n",
      "  10 │ 213      0.0154125  0.068125   0.859375   0.05     0.96875\n",
      "  11 │ 214      0.0016625  0.053125   0.015625   0.05     1.96875\n",
      "  12 │ 215      0.006975   0.04375    0.6875    -0.04375  0.0625\n",
      "  13 │ 216      0.0201     0.064375   0.578125  -0.04375  0.0\n",
      "  14 │ 217      0.005725   0.041875   1.14062   -0.1375   0.0\n",
      "  15 │ 219      0.0185375  0.05125    0.5       -0.04375  0.0\n",
      "  16 │ 220      0.0104125  0.055      0.859375   0.05     0.96875\n",
      "  17 │ 222      0.0054125  0.045625   1.01562   -0.04375  0.0\n",
      "  18 │ 223      0.0085375  0.045625   0.921875  -0.04375  0.21875\n",
      "  19 │ 224      0.013225   0.060625   0.96875   -0.04375  0.21875\n",
      "  20 │ 225      0.019475   0.053125   0.625     -0.04375  0.0\n",
      "  21 │ 227      0.0091625  0.04       0.859375  -0.04375  0.0\n",
      "  22 │ 229      0.0047875  0.045625   1.39062   -0.04375  0.0\n",
      "  23 │ 230      0.0047875  0.053125   0.46875   -0.04375  0.34375\n",
      "  24 │ 231      0.0051     0.04       0.78125   -0.04375  1.34375\n",
      "  25 │ 232      0.0222875  0.05875    0.40625    0.05     0.0\n",
      "  26 │ 233      0.0085375  0.04375    0.421875   0.00625  0.0\n"
     ]
    },
    {
     "name": "stderr",
     "output_type": "stream",
     "text": [
      "\r\u001b[32mProgress:   8%|███▏                                     |  ETA: 0:07:50\u001b[39m\u001b[K"
     ]
    },
    {
     "name": "stderr",
     "output_type": "stream",
     "text": [
      "\r\u001b[32mProgress:  12%|████▊                                    |  ETA: 0:07:48\u001b[39m\u001b[K"
     ]
    },
    {
     "name": "stderr",
     "output_type": "stream",
     "text": [
      "\r\u001b[32mProgress:  15%|██████▎                                  |  ETA: 0:07:49\u001b[39m\u001b[K"
     ]
    },
    {
     "name": "stderr",
     "output_type": "stream",
     "text": [
      "\r\u001b[32mProgress:  19%|███████▉                                 |  ETA: 0:07:05\u001b[39m\u001b[K"
     ]
    },
    {
     "name": "stderr",
     "output_type": "stream",
     "text": [
      "\r\u001b[32mProgress:  23%|█████████▌                               |  ETA: 0:06:22\u001b[39m\u001b[K"
     ]
    },
    {
     "name": "stderr",
     "output_type": "stream",
     "text": [
      "\r\u001b[32mProgress:  27%|███████████                              |  ETA: 0:05:40\u001b[39m\u001b[K"
     ]
    },
    {
     "name": "stderr",
     "output_type": "stream",
     "text": [
      "\r\u001b[32mProgress:  31%|████████████▋                            |  ETA: 0:05:05\u001b[39m\u001b[K"
     ]
    },
    {
     "name": "stderr",
     "output_type": "stream",
     "text": [
      "\r\u001b[32mProgress:  35%|██████████████▎                          |  ETA: 0:04:49\u001b[39m\u001b[K"
     ]
    },
    {
     "name": "stderr",
     "output_type": "stream",
     "text": [
      "\r\u001b[32mProgress:  38%|███████████████▊                         |  ETA: 0:04:41\u001b[39m\u001b[K"
     ]
    },
    {
     "name": "stderr",
     "output_type": "stream",
     "text": [
      "\r\u001b[32mProgress:  42%|█████████████████▍                       |  ETA: 0:04:16\u001b[39m\u001b[K"
     ]
    },
    {
     "name": "stderr",
     "output_type": "stream",
     "text": [
      "\r\u001b[32mProgress:  46%|██████████████████▉                      |  ETA: 0:03:49\u001b[39m\u001b[K"
     ]
    },
    {
     "name": "stderr",
     "output_type": "stream",
     "text": [
      "\r\u001b[32mProgress:  50%|████████████████████▌                    |  ETA: 0:03:27\u001b[39m\u001b[K"
     ]
    },
    {
     "name": "stderr",
     "output_type": "stream",
     "text": [
      "\r\u001b[32mProgress:  54%|██████████████████████▏                  |  ETA: 0:03:10\u001b[39m\u001b[K"
     ]
    },
    {
     "name": "stderr",
     "output_type": "stream",
     "text": [
      "\r\u001b[32mProgress:  58%|███████████████████████▋                 |  ETA: 0:02:57\u001b[39m\u001b[K"
     ]
    },
    {
     "name": "stderr",
     "output_type": "stream",
     "text": [
      "\r\u001b[32mProgress:  62%|█████████████████████████▎               |  ETA: 0:02:41\u001b[39m\u001b[K"
     ]
    },
    {
     "name": "stderr",
     "output_type": "stream",
     "text": [
      "\r\u001b[32mProgress:  65%|██████████████████████████▊              |  ETA: 0:02:31\u001b[39m\u001b[K"
     ]
    },
    {
     "name": "stderr",
     "output_type": "stream",
     "text": [
      "\r\u001b[32mProgress:  69%|████████████████████████████▍            |  ETA: 0:02:11\u001b[39m\u001b[K"
     ]
    },
    {
     "name": "stderr",
     "output_type": "stream",
     "text": [
      "\r\u001b[32mProgress:  73%|██████████████████████████████           |  ETA: 0:01:55\u001b[39m\u001b[K"
     ]
    },
    {
     "name": "stderr",
     "output_type": "stream",
     "text": [
      "\r\u001b[32mProgress:  77%|███████████████████████████████▌         |  ETA: 0:01:36\u001b[39m\u001b[K"
     ]
    },
    {
     "name": "stderr",
     "output_type": "stream",
     "text": [
      "\r\u001b[32mProgress:  81%|█████████████████████████████████▏       |  ETA: 0:01:21\u001b[39m\u001b[K"
     ]
    },
    {
     "name": "stderr",
     "output_type": "stream",
     "text": [
      "\r\u001b[32mProgress:  85%|██████████████████████████████████▊      |  ETA: 0:01:05\u001b[39m\u001b[K"
     ]
    },
    {
     "name": "stderr",
     "output_type": "stream",
     "text": [
      "\r\u001b[32mProgress:  88%|████████████████████████████████████▎    |  ETA: 0:00:49\u001b[39m\u001b[K"
     ]
    },
    {
     "name": "stderr",
     "output_type": "stream",
     "text": [
      "\r\u001b[32mProgress:  92%|█████████████████████████████████████▉   |  ETA: 0:00:32\u001b[39m\u001b[K"
     ]
    },
    {
     "name": "stderr",
     "output_type": "stream",
     "text": [
      "\r\u001b[32mProgress:  96%|███████████████████████████████████████▍ |  ETA: 0:00:16\u001b[39m\u001b[K"
     ]
    },
    {
     "name": "stderr",
     "output_type": "stream",
     "text": [
      "\r\u001b[32mProgress: 100%|█████████████████████████████████████████| Time: 0:06:51\u001b[39m\u001b[K\n"
     ]
    },
    {
     "name": "stdout",
     "output_type": "stream",
     "text": [
      "Iteration 6\n",
      "Old NLL 13570.701297720618\n",
      "New NLL 13567.96337876253\n",
      "Percent Change 0.0002017522085279243\n",
      "\u001b[1m26×6 DataFrame\u001b[0m\n",
      "\u001b[1m Row \u001b[0m│\u001b[1m subject \u001b[0m\u001b[1m d          \u001b[0m\u001b[1m s         \u001b[0m\u001b[1m t          \u001b[0m\u001b[1m b         \u001b[0m\u001b[1m k        \u001b[0m\n",
      "     │\u001b[90m String  \u001b[0m\u001b[90m Float64    \u001b[0m\u001b[90m Float64   \u001b[0m\u001b[90m Float64    \u001b[0m\u001b[90m Float64   \u001b[0m\u001b[90m Float64  \u001b[0m\n",
      "─────┼─────────────────────────────────────────────────────────────────\n",
      "   1 │ 201      0.00635     0.05125     0.78125    -0.046875  2.28125\n",
      "   2 │ 202      0.0158812   0.04        0.460938    0.05      0.046875\n",
      "   3 │ 204      0.0127563   0.0446875   0.695312    0.003125  0.0\n",
      "   4 │ 205      0.003225    0.064375   -0.242188   -0.046875  1.85938\n",
      "   5 │ 206      0.0136937   0.0484375   0.859375    0.05      0.1875\n",
      "   6 │ 207      0.004475    0.0446875   1.19531    -0.046875  0.0\n",
      "   7 │ 208      0.0155687   0.0728125   0.773438   -0.046875  2.23438\n",
      "   8 │ 209      0.00900625  0.041875    0.429688   -0.046875  0.234375\n",
      "   9 │ 211      0.0136938   0.0409375   0.398438   -0.046875  0.0\n",
      "  10 │ 213      0.0154125   0.068125    0.859375    0.05      0.984375\n",
      "  11 │ 214      0.00150625  0.0540625   0.0078125   0.05      1.98438\n",
      "  12 │ 215      0.00681875  0.04375     0.695312   -0.046875  0.078125\n",
      "  13 │ 216      0.0201      0.0634375   0.585938   -0.046875  0.0\n",
      "  14 │ 217      0.00556875  0.041875    1.13281    -0.140625  0.0\n",
      "  15 │ 219      0.0185375   0.05125     0.507812   -0.046875  0.0\n",
      "  16 │ 220      0.0104125   0.055       0.851562    0.05      0.984375\n",
      "  17 │ 222      0.0054125   0.045625    1.00781    -0.046875  0.0\n",
      "  18 │ 223      0.00869375  0.045625    0.914062   -0.046875  0.234375\n",
      "  19 │ 224      0.013225    0.060625    0.96875    -0.046875  0.234375\n",
      "  20 │ 225      0.0196312   0.0521875   0.617188   -0.046875  0.0\n",
      "  21 │ 227      0.00900625  0.0409375   0.867188   -0.046875  0.0\n",
      "  22 │ 229      0.00494375  0.0446875   1.38281    -0.046875  0.0\n",
      "  23 │ 230      0.00463125  0.0540625   0.476562   -0.046875  0.359375\n",
      "  24 │ 231      0.00494375  0.0409375   0.773438   -0.046875  1.35938\n",
      "  25 │ 232      0.0222875   0.0596875   0.398438    0.05      0.0\n",
      "  26 │ 233      0.00838125  0.0446875   0.414062    0.003125  0.0\n"
     ]
    },
    {
     "name": "stderr",
     "output_type": "stream",
     "text": [
      "\r\u001b[32mProgress:   8%|███▏                                     |  ETA: 0:07:50\u001b[39m\u001b[K"
     ]
    },
    {
     "name": "stderr",
     "output_type": "stream",
     "text": [
      "\r\u001b[32mProgress:  12%|████▊                                    |  ETA: 0:07:49\u001b[39m\u001b[K"
     ]
    },
    {
     "name": "stderr",
     "output_type": "stream",
     "text": [
      "\r\u001b[32mProgress:  15%|██████▎                                  |  ETA: 0:07:50\u001b[39m\u001b[K"
     ]
    },
    {
     "name": "stderr",
     "output_type": "stream",
     "text": [
      "\r\u001b[32mProgress:  19%|███████▉                                 |  ETA: 0:07:05\u001b[39m\u001b[K"
     ]
    },
    {
     "name": "stderr",
     "output_type": "stream",
     "text": [
      "\r\u001b[32mProgress:  23%|█████████▌                               |  ETA: 0:06:22\u001b[39m\u001b[K"
     ]
    },
    {
     "name": "stderr",
     "output_type": "stream",
     "text": [
      "\r\u001b[32mProgress:  27%|███████████                              |  ETA: 0:05:41\u001b[39m\u001b[K"
     ]
    },
    {
     "name": "stderr",
     "output_type": "stream",
     "text": [
      "\r\u001b[32mProgress:  31%|████████████▋                            |  ETA: 0:05:05\u001b[39m\u001b[K"
     ]
    },
    {
     "name": "stderr",
     "output_type": "stream",
     "text": [
      "\r\u001b[32mProgress:  35%|██████████████▎                          |  ETA: 0:04:49\u001b[39m\u001b[K"
     ]
    },
    {
     "name": "stderr",
     "output_type": "stream",
     "text": [
      "\r\u001b[32mProgress:  38%|███████████████▊                         |  ETA: 0:04:41\u001b[39m\u001b[K"
     ]
    },
    {
     "name": "stderr",
     "output_type": "stream",
     "text": [
      "\r\u001b[32mProgress:  42%|█████████████████▍                       |  ETA: 0:04:16\u001b[39m\u001b[K"
     ]
    },
    {
     "name": "stderr",
     "output_type": "stream",
     "text": [
      "\r\u001b[32mProgress:  46%|██████████████████▉                      |  ETA: 0:03:49\u001b[39m\u001b[K"
     ]
    },
    {
     "name": "stderr",
     "output_type": "stream",
     "text": [
      "\r\u001b[32mProgress:  50%|████████████████████▌                    |  ETA: 0:03:27\u001b[39m\u001b[K"
     ]
    },
    {
     "name": "stderr",
     "output_type": "stream",
     "text": [
      "\r\u001b[32mProgress:  54%|██████████████████████▏                  |  ETA: 0:03:10\u001b[39m\u001b[K"
     ]
    },
    {
     "name": "stderr",
     "output_type": "stream",
     "text": [
      "\r\u001b[32mProgress:  58%|███████████████████████▋                 |  ETA: 0:02:57\u001b[39m\u001b[K"
     ]
    },
    {
     "name": "stderr",
     "output_type": "stream",
     "text": [
      "\r\u001b[32mProgress:  62%|█████████████████████████▎               |  ETA: 0:02:41\u001b[39m\u001b[K"
     ]
    },
    {
     "name": "stderr",
     "output_type": "stream",
     "text": [
      "\r\u001b[32mProgress:  65%|██████████████████████████▊              |  ETA: 0:02:31\u001b[39m\u001b[K"
     ]
    },
    {
     "name": "stderr",
     "output_type": "stream",
     "text": [
      "\r\u001b[32mProgress:  69%|████████████████████████████▍            |  ETA: 0:02:11\u001b[39m\u001b[K"
     ]
    },
    {
     "name": "stderr",
     "output_type": "stream",
     "text": [
      "\r\u001b[32mProgress:  73%|██████████████████████████████           |  ETA: 0:01:56\u001b[39m\u001b[K"
     ]
    },
    {
     "name": "stderr",
     "output_type": "stream",
     "text": [
      "\r\u001b[32mProgress:  77%|███████████████████████████████▌         |  ETA: 0:01:37\u001b[39m\u001b[K"
     ]
    },
    {
     "name": "stderr",
     "output_type": "stream",
     "text": [
      "\r\u001b[32mProgress:  81%|█████████████████████████████████▏       |  ETA: 0:01:21\u001b[39m\u001b[K"
     ]
    },
    {
     "name": "stderr",
     "output_type": "stream",
     "text": [
      "\r\u001b[32mProgress:  85%|██████████████████████████████████▊      |  ETA: 0:01:05\u001b[39m\u001b[K"
     ]
    },
    {
     "name": "stderr",
     "output_type": "stream",
     "text": [
      "\r\u001b[32mProgress:  88%|████████████████████████████████████▎    |  ETA: 0:00:49\u001b[39m\u001b[K"
     ]
    },
    {
     "name": "stderr",
     "output_type": "stream",
     "text": [
      "\r\u001b[32mProgress:  92%|█████████████████████████████████████▉   |  ETA: 0:00:32\u001b[39m\u001b[K"
     ]
    },
    {
     "name": "stderr",
     "output_type": "stream",
     "text": [
      "\r\u001b[32mProgress:  96%|███████████████████████████████████████▍ |  ETA: 0:00:16\u001b[39m\u001b[K"
     ]
    },
    {
     "name": "stderr",
     "output_type": "stream",
     "text": [
      "\r\u001b[32mProgress: 100%|█████████████████████████████████████████| Time: 0:06:52\u001b[39m\u001b[K\n"
     ]
    },
    {
     "name": "stdout",
     "output_type": "stream",
     "text": [
      "Iteration 7\n",
      "Old NLL 13567.96337876253\n",
      "New NLL 13567.39973970094\n",
      "Percent Change 4.154190616930568e-5\n",
      "\u001b[1m26×6 DataFrame\u001b[0m\n",
      "\u001b[1m Row \u001b[0m│\u001b[1m subject \u001b[0m\u001b[1m d          \u001b[0m\u001b[1m s         \u001b[0m\u001b[1m t           \u001b[0m\u001b[1m b          \u001b[0m\u001b[1m k         \u001b[0m\n",
      "     │\u001b[90m String  \u001b[0m\u001b[90m Float64    \u001b[0m\u001b[90m Float64   \u001b[0m\u001b[90m Float64     \u001b[0m\u001b[90m Float64    \u001b[0m\u001b[90m Float64   \u001b[0m\n",
      "─────┼────────────────────────────────────────────────────────────────────\n",
      "   1 │ 201      0.00635     0.05125     0.78125     -0.046875   2.28125\n",
      "   2 │ 202      0.0158031   0.0404687   0.457031     0.0484375  0.0390625\n",
      "   3 │ 204      0.0126781   0.0446875   0.699219     0.0015625  0.0\n",
      "   4 │ 205      0.003225    0.0648438  -0.246094    -0.046875   1.86719\n",
      "   5 │ 206      0.0137719   0.0484375   0.855469     0.0484375  0.179688\n",
      "   6 │ 207      0.00455312  0.0446875   1.19141     -0.046875   0.0\n",
      "   7 │ 208      0.0155687   0.0723437   0.777344    -0.046875   2.24219\n",
      "   8 │ 209      0.00892812  0.041875    0.433594    -0.046875   0.242188\n",
      "   9 │ 211      0.0136156   0.0404688   0.402344    -0.046875   0.0\n",
      "  10 │ 213      0.0154906   0.068125    0.855469     0.0484375  0.992188\n",
      "  11 │ 214      0.00150625  0.0535938   0.00390625   0.0484375  1.99219\n",
      "  12 │ 215      0.00681875  0.04375     0.699219    -0.046875   0.0859375\n",
      "  13 │ 216      0.0201781   0.0639063   0.582031    -0.046875   0.0\n",
      "  14 │ 217      0.00564688  0.041875    1.12891     -0.142187   0.0\n",
      "  15 │ 219      0.0184594   0.05125     0.511719    -0.046875   0.0078125\n",
      "  16 │ 220      0.0104125   0.055       0.855469     0.0484375  0.992188\n",
      "  17 │ 222      0.0054125   0.0460937   1.00391     -0.046875   0.0\n",
      "  18 │ 223      0.00877187  0.045625    0.910156    -0.046875   0.242188\n",
      "  19 │ 224      0.0131469   0.0610937   0.972656    -0.046875   0.242188\n",
      "  20 │ 225      0.0197094   0.0526563   0.613281    -0.046875   0.0\n",
      "  21 │ 227      0.00892813  0.0409375   0.871094    -0.046875   0.0\n",
      "  22 │ 229      0.00494375  0.0446875   1.37891     -0.046875   0.0\n",
      "  23 │ 230      0.00463125  0.0535938   0.480469    -0.046875   0.367188\n",
      "  24 │ 231      0.00502188  0.0404688   0.773438    -0.046875   1.36719\n",
      "  25 │ 232      0.0222094   0.0592188   0.402344     0.0484375  0.0\n",
      "  26 │ 233      0.00830312  0.0446875   0.417969     0.0015625  0.0\n"
     ]
    },
    {
     "data": {
      "text/plain": [
       "\"NumericLossNLL_RNP.csv\""
      ]
     },
     "metadata": {},
     "output_type": "display_data"
    }
   ],
   "source": [
    "oldLossEstimates, oldNLLs = fit_RNPaDDM_custom_resolution(addm, dataLoss, dInitialGrid, σInitialGrid, θInitialGrid, bInitialGrid, kInitialGrid, subjectCount)\n",
    "oldNLL = sum(oldNLLs)\n",
    "println(\"Iteration 1\"); print(\"Old NLL missing\"); print(\"New NLL \"); println(oldNLL); print(\"Percent Change missing\"); println(oldLossEstimates);\n",
    "\n",
    "iteration = 2\n",
    "Δ = 100\n",
    "while Δ > grid_search_terminate_threshold\n",
    "    \n",
    "    dGrid, σGrid, θGrid, bGrid, kGrid = make_new_grid_RNP(oldLossEstimates, dataLoss, dStepSize, σStepSize, θStepSize, bStepSize, kStepSize, iteration; bounded_theta=false)\n",
    "    newLossEstimates, newNLLs = fit_RNPaDDM_custom_resolution(addm, dataLoss, dGrid, σGrid, θGrid, bGrid, kGrid, subjectCount)\n",
    "    newNLL = sum(newNLLs)\n",
    "    Δ = (oldNLL-newNLL)/oldNLL\n",
    "    if Δ < 0\n",
    "        global lossEstimates_RNP = oldLossEstimates\n",
    "        global NLL = oldNLLs\n",
    "    else\n",
    "        global lossEstimates_RNP = newLossEstimates\n",
    "        global NLL = newNLLs\n",
    "    end\n",
    "\n",
    "    print(\"Iteration \"); println(iteration); print(\"Old NLL \"); println(oldNLL); print(\"New NLL \"); println(newNLL); print(\"Percent Change \"); println(Δ); println(lossEstimates_RNP); iteration += 1; oldLossEstimates = newLossEstimates; oldNLL = newNLL; \n",
    "\n",
    "end\n",
    "CSV.write(\"NumericLossFit_RNP.csv\", lossEstimates_RNP)\n",
    "CSV.write(\"NumericLossNLL_RNP.csv\", Tables.table(NLL), writeheader=false)"
   ]
  }
 ],
 "metadata": {
  "kernelspec": {
   "display_name": "Julia 1.9.3",
   "language": "julia",
   "name": "julia-1.9"
  },
  "language_info": {
   "file_extension": ".jl",
   "mimetype": "application/julia",
   "name": "julia",
   "version": "1.9.3"
  },
  "orig_nbformat": 4
 },
 "nbformat": 4,
 "nbformat_minor": 2
}
